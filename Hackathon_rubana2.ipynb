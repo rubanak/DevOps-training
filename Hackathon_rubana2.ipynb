{
  "nbformat": 4,
  "nbformat_minor": 0,
  "metadata": {
    "colab": {
      "name": "Hackathon_rubana2.ipynb",
      "provenance": [],
      "collapsed_sections": [],
      "include_colab_link": true
    },
    "kernelspec": {
      "display_name": "Python 3",
      "language": "python",
      "name": "python3"
    },
    "language_info": {
      "codemirror_mode": {
        "name": "ipython",
        "version": 3
      },
      "file_extension": ".py",
      "mimetype": "text/x-python",
      "name": "python",
      "nbconvert_exporter": "python",
      "pygments_lexer": "ipython3",
      "version": "3.7.4"
    }
  },
  "cells": [
    {
      "cell_type": "markdown",
      "metadata": {
        "id": "view-in-github",
        "colab_type": "text"
      },
      "source": [
        "<a href=\"https://colab.research.google.com/github/rubanak/DevOps-training/blob/master/Hackathon_rubana2.ipynb\" target=\"_parent\"><img src=\"https://colab.research.google.com/assets/colab-badge.svg\" alt=\"Open In Colab\"/></a>"
      ]
    },
    {
      "cell_type": "code",
      "metadata": {
        "colab": {
          "base_uri": "https://localhost:8080/",
          "height": 35
        },
        "id": "aV3hpS9ciSFr",
        "outputId": "b5304d2e-6e13-497d-b4f6-b444b2450ad0"
      },
      "source": [
        "import tensorflow\n",
        "tensorflow.__version__"
      ],
      "execution_count": null,
      "outputs": [
        {
          "output_type": "execute_result",
          "data": {
            "application/vnd.google.colaboratory.intrinsic+json": {
              "type": "string"
            },
            "text/plain": [
              "'2.3.0'"
            ]
          },
          "metadata": {
            "tags": []
          },
          "execution_count": 72
        }
      ]
    },
    {
      "cell_type": "code",
      "metadata": {
        "id": "9li7CWTrWybG"
      },
      "source": [
        "# Initialize the random number generator\n",
        "import random\n",
        "random.seed(0)\n",
        "\n",
        "# Ignore the warnings\n",
        "import warnings\n",
        "warnings.filterwarnings(\"ignore\")"
      ],
      "execution_count": null,
      "outputs": []
    },
    {
      "cell_type": "code",
      "metadata": {
        "id": "kmc8C5bRq_aE"
      },
      "source": [
        "import numpy as np\n",
        "from numpy import nan\n",
        "import pandas as pd\n",
        "import seaborn as sns\n",
        "import scipy.stats as stats\n",
        "import matplotlib.pyplot as plt\n",
        "\n",
        "# dataframe backup\n",
        "import copy \n",
        "\n",
        "# Perform PRe-processing (label encoding, imputing missing values) and Standardization\n",
        "from sklearn.preprocessing import LabelEncoder\n",
        "#from sklearn.preprocessing import Imputer\n",
        "from sklearn.preprocessing import StandardScaler\n",
        "#from scipy.stats import zscore\n",
        "\n",
        "# Composite Feature\n",
        "from sklearn.decomposition import PCA\n",
        "\n",
        "# to split Train and Test data\n",
        "from sklearn.model_selection import train_test_split"
      ],
      "execution_count": null,
      "outputs": []
    },
    {
      "cell_type": "code",
      "metadata": {
        "id": "nKofEgUIrY3w"
      },
      "source": [
        "# Import Linear Regression machine learning library\n",
        "from sklearn.linear_model import LinearRegression\n",
        "from sklearn.linear_model import Ridge\n",
        "from sklearn.linear_model import Lasso\n",
        "from sklearn.tree import DecisionTreeRegressor\n",
        "from sklearn.model_selection import KFold\n",
        "from sklearn.model_selection import GridSearchCV\n",
        "from sklearn.model_selection import cross_val_score\n",
        "from sklearn import svm\n",
        "from sklearn.svm import SVR\n",
        "import xgboost as xgb"
      ],
      "execution_count": null,
      "outputs": []
    },
    {
      "cell_type": "code",
      "metadata": {
        "id": "BNk91YPZrgJv"
      },
      "source": [
        "from sklearn.metrics import r2_score\n",
        "from sklearn.metrics import mean_squared_error\n",
        "from sklearn.metrics import mean_absolute_error\n",
        "\n",
        "from sklearn.preprocessing import PolynomialFeatures\n",
        "from sklearn import linear_model\n",
        "\n",
        "import math\n",
        "\n",
        "# ignore warnings\n",
        "import warnings\n",
        "warnings.filterwarnings('ignore')\n",
        "\n",
        "# Setting the plot style. \n",
        "sns.set_style(style='darkgrid')  \n",
        "sns.set(style=\"darkgrid\", color_codes=True)"
      ],
      "execution_count": null,
      "outputs": []
    },
    {
      "cell_type": "markdown",
      "metadata": {
        "id": "CjRTlPkp1LC2"
      },
      "source": [
        "#### Mount Google drive if you are using google colab\n",
        "- We recommend using Google Colab as you can face memory issues and longer runtimes while running on local"
      ]
    },
    {
      "cell_type": "code",
      "metadata": {
        "colab": {
          "base_uri": "https://localhost:8080/"
        },
        "id": "sBWMoTJ9cf3Z",
        "outputId": "b8d3b22a-b7ac-4e75-972a-bd43859350d4"
      },
      "source": [
        "from google.colab import drive\n",
        "drive.mount('/content/drive')"
      ],
      "execution_count": null,
      "outputs": [
        {
          "output_type": "stream",
          "text": [
            "Drive already mounted at /content/drive; to attempt to forcibly remount, call drive.mount(\"/content/drive\", force_remount=True).\n"
          ],
          "name": "stdout"
        }
      ]
    },
    {
      "cell_type": "markdown",
      "metadata": {
        "id": "sO9mgMmp13sI"
      },
      "source": [
        "#### Change current working directory to project folder (2 marks)"
      ]
    },
    {
      "cell_type": "code",
      "metadata": {
        "id": "yydhhqpWWe67"
      },
      "source": [
        "#### Set the working directory path where the dataset is stored in Google drive ####\n",
        "project_path = '/content/drive/My Drive/AIML/Hackathon/'"
      ],
      "execution_count": null,
      "outputs": []
    },
    {
      "cell_type": "code",
      "metadata": {
        "colab": {
          "base_uri": "https://localhost:8080/"
        },
        "id": "TddMnf4D1-59",
        "outputId": "f34a695d-2c17-46f4-c1ed-f65b698c92a8"
      },
      "source": [
        "import os\n",
        "os.chdir(project_path)\n",
        "!ls"
      ],
      "execution_count": null,
      "outputs": [
        {
          "output_type": "stream",
          "text": [
            " result.xlsx  'Test Data.zip'  'Test Zip'  'Train Data.zip'  'Train Data Zip'\n"
          ],
          "name": "stdout"
        }
      ]
    },
    {
      "cell_type": "markdown",
      "metadata": {
        "id": "P8JQzVgsX6FB"
      },
      "source": [
        "This shows the folders and the files stored in the working path. The following input dataset and weights file are stored in th projct path,\n",
        "1. Train Data.zip\n",
        "2. Test Data.zip"
      ]
    },
    {
      "cell_type": "code",
      "metadata": {
        "id": "TzlQz3z2pl4p"
      },
      "source": [
        "### Set the working directory path where the dataset is stored in Google drive ####\n",
        "train_path = '/content/drive/My Drive/AIML/Hackathon/Train Data Zip'\n",
        "test_path  = '/content/drive/My Drive/AIML/Hackathon/Test Zip'"
      ],
      "execution_count": null,
      "outputs": []
    },
    {
      "cell_type": "code",
      "metadata": {
        "colab": {
          "base_uri": "https://localhost:8080/"
        },
        "id": "3jIM43nhp5_2",
        "outputId": "f64ea01e-8866-4bcf-c4e7-538ba2c1370b"
      },
      "source": [
        "os.chdir(train_path)\n",
        "!ls"
      ],
      "execution_count": null,
      "outputs": [
        {
          "output_type": "stream",
          "text": [
            "frequency_domain_features_train.csv\t  time_domain_features_train.csv\n",
            "heart_rate_non_linear_features_train.csv\n"
          ],
          "name": "stdout"
        }
      ]
    },
    {
      "cell_type": "markdown",
      "metadata": {
        "id": "-MIjDQQyrlip"
      },
      "source": [
        "Load the train datasets"
      ]
    },
    {
      "cell_type": "code",
      "metadata": {
        "id": "lsSO79F3rn_m"
      },
      "source": [
        "freq_df = pd.read_csv(\"frequency_domain_features_train.csv\")\n",
        "hearate_df = pd.read_csv(\"heart_rate_non_linear_features_train.csv\")\n",
        "time_df = pd.read_csv(\"time_domain_features_train.csv\")"
      ],
      "execution_count": null,
      "outputs": []
    },
    {
      "cell_type": "markdown",
      "metadata": {
        "id": "IM5TtJrZ2csA"
      },
      "source": [
        "Load the train datasets"
      ]
    },
    {
      "cell_type": "code",
      "metadata": {
        "colab": {
          "base_uri": "https://localhost:8080/"
        },
        "id": "hfMMeNX92jjc",
        "outputId": "3787e933-a093-457e-9043-ff81dec29fbd"
      },
      "source": [
        "os.chdir(test_path)\n",
        "!ls"
      ],
      "execution_count": null,
      "outputs": [
        {
          "output_type": "stream",
          "text": [
            "frequency_domain_features_test.csv\t time_domain_features_test.csv\n",
            "heart_rate_non_linear_features_test.csv\n"
          ],
          "name": "stdout"
        }
      ]
    },
    {
      "cell_type": "code",
      "metadata": {
        "id": "XGTwN9Zl2mII"
      },
      "source": [
        "test_freq_df = pd.read_csv(\"frequency_domain_features_test.csv\")\n",
        "test_hearate_df = pd.read_csv(\"heart_rate_non_linear_features_test.csv\")\n",
        "test_time_df = pd.read_csv(\"time_domain_features_test.csv\")"
      ],
      "execution_count": null,
      "outputs": []
    },
    {
      "cell_type": "code",
      "metadata": {
        "colab": {
          "base_uri": "https://localhost:8080/"
        },
        "id": "c4DOwdp-yrB3",
        "outputId": "17e48c29-0068-438a-d71a-626d5180d878"
      },
      "source": [
        "print(\"Train frequency = \", freq_df.shape, \", Train heart rate = \", hearate_df.shape, \", Train_time rate = \",time_df.shape)\n",
        "print(\"Test frequency = \",  test_freq_df.shape, \", Test heart rate = \", test_hearate_df.shape, \", Test_time rate = \",test_time_df.shape)"
      ],
      "execution_count": null,
      "outputs": [
        {
          "output_type": "stream",
          "text": [
            "Train frequency =  (369289, 12) , Train heart rate =  (369289, 7) , Train_time rate =  (369289, 20)\n",
            "Test frequency =  (41033, 12) , Test heart rate =  (41033, 7) , Test_time rate =  (41033, 19)\n"
          ],
          "name": "stdout"
        }
      ]
    },
    {
      "cell_type": "markdown",
      "metadata": {
        "id": "c25UBIVb7Mmm"
      },
      "source": [
        "## Merge Train and Test Data to single file"
      ]
    },
    {
      "cell_type": "markdown",
      "metadata": {
        "id": "YW1t_O0j7Tld"
      },
      "source": [
        "### Train Data"
      ]
    },
    {
      "cell_type": "code",
      "metadata": {
        "id": "wTMy_OpFvToX"
      },
      "source": [
        "temp_train_df = pd.merge(freq_df, hearate_df, on = \"uuid\", how = \"inner\") "
      ],
      "execution_count": null,
      "outputs": []
    },
    {
      "cell_type": "code",
      "metadata": {
        "id": "Sefne2s6yWz1"
      },
      "source": [
        "consolidated_train_df = pd.merge(temp_train_df, time_df, on = \"uuid\", how = \"inner\") "
      ],
      "execution_count": null,
      "outputs": []
    },
    {
      "cell_type": "code",
      "metadata": {
        "colab": {
          "base_uri": "https://localhost:8080/"
        },
        "id": "XojIXyVPz-IV",
        "outputId": "e2d6065e-61b8-47a7-bd5b-ad38232016d1"
      },
      "source": [
        "consolidated_train_df.info()"
      ],
      "execution_count": null,
      "outputs": [
        {
          "output_type": "stream",
          "text": [
            "<class 'pandas.core.frame.DataFrame'>\n",
            "Int64Index: 369289 entries, 0 to 369288\n",
            "Data columns (total 37 columns):\n",
            " #   Column             Non-Null Count   Dtype  \n",
            "---  ------             --------------   -----  \n",
            " 0   uuid               369289 non-null  object \n",
            " 1   VLF                369289 non-null  float64\n",
            " 2   VLF_PCT            369289 non-null  float64\n",
            " 3   LF                 369289 non-null  float64\n",
            " 4   LF_PCT             369289 non-null  float64\n",
            " 5   LF_NU              369289 non-null  float64\n",
            " 6   HF                 369289 non-null  float64\n",
            " 7   HF_PCT             369289 non-null  float64\n",
            " 8   HF_NU              369289 non-null  float64\n",
            " 9   TP                 369289 non-null  float64\n",
            " 10  LF_HF              369289 non-null  float64\n",
            " 11  HF_LF              369289 non-null  float64\n",
            " 12  SD1                369289 non-null  float64\n",
            " 13  SD2                369289 non-null  float64\n",
            " 14  sampen             369289 non-null  float64\n",
            " 15  higuci             369289 non-null  float64\n",
            " 16  datasetId          369289 non-null  int64  \n",
            " 17  condition          369289 non-null  object \n",
            " 18  MEAN_RR            369289 non-null  float64\n",
            " 19  MEDIAN_RR          369289 non-null  float64\n",
            " 20  SDRR               369289 non-null  float64\n",
            " 21  RMSSD              369289 non-null  float64\n",
            " 22  SDSD               369289 non-null  float64\n",
            " 23  SDRR_RMSSD         369289 non-null  float64\n",
            " 24  HR                 369289 non-null  float64\n",
            " 25  pNN25              369289 non-null  float64\n",
            " 26  pNN50              369289 non-null  float64\n",
            " 27  KURT               369289 non-null  float64\n",
            " 28  SKEW               369289 non-null  float64\n",
            " 29  MEAN_REL_RR        369289 non-null  float64\n",
            " 30  MEDIAN_REL_RR      369289 non-null  float64\n",
            " 31  SDRR_REL_RR        369289 non-null  float64\n",
            " 32  RMSSD_REL_RR       369289 non-null  float64\n",
            " 33  SDSD_REL_RR        369289 non-null  float64\n",
            " 34  SDRR_RMSSD_REL_RR  369289 non-null  float64\n",
            " 35  KURT_REL_RR        369289 non-null  float64\n",
            " 36  SKEW_REL_RR        369289 non-null  float64\n",
            "dtypes: float64(34), int64(1), object(2)\n",
            "memory usage: 107.1+ MB\n"
          ],
          "name": "stdout"
        }
      ]
    },
    {
      "cell_type": "markdown",
      "metadata": {
        "id": "Y4Amp0jO7vQ2"
      },
      "source": [
        "### Test Data"
      ]
    },
    {
      "cell_type": "code",
      "metadata": {
        "id": "HNlWSxiD71yJ"
      },
      "source": [
        "temp_test_df = pd.merge(test_freq_df, test_hearate_df, on = \"uuid\", how = \"inner\")\n",
        "consolidated_test_df = pd.merge(temp_test_df, test_time_df, on = \"uuid\", how = \"inner\") \n"
      ],
      "execution_count": null,
      "outputs": []
    },
    {
      "cell_type": "code",
      "metadata": {
        "colab": {
          "base_uri": "https://localhost:8080/"
        },
        "id": "zvVBC_MA8Kny",
        "outputId": "9e2a9cb8-c5a5-476d-a2f4-15be5afeee31"
      },
      "source": [
        "consolidated_test_df.info()"
      ],
      "execution_count": null,
      "outputs": [
        {
          "output_type": "stream",
          "text": [
            "<class 'pandas.core.frame.DataFrame'>\n",
            "Int64Index: 41033 entries, 0 to 41032\n",
            "Data columns (total 36 columns):\n",
            " #   Column             Non-Null Count  Dtype  \n",
            "---  ------             --------------  -----  \n",
            " 0   uuid               41033 non-null  object \n",
            " 1   VLF                41033 non-null  float64\n",
            " 2   VLF_PCT            41033 non-null  float64\n",
            " 3   LF                 41033 non-null  float64\n",
            " 4   LF_PCT             41033 non-null  float64\n",
            " 5   LF_NU              41033 non-null  float64\n",
            " 6   HF                 41033 non-null  float64\n",
            " 7   HF_PCT             41033 non-null  float64\n",
            " 8   HF_NU              41033 non-null  float64\n",
            " 9   TP                 41033 non-null  float64\n",
            " 10  LF_HF              41033 non-null  float64\n",
            " 11  HF_LF              41033 non-null  float64\n",
            " 12  SD1                41033 non-null  float64\n",
            " 13  SD2                41033 non-null  float64\n",
            " 14  sampen             41033 non-null  float64\n",
            " 15  higuci             41033 non-null  float64\n",
            " 16  datasetId          41033 non-null  int64  \n",
            " 17  condition          41033 non-null  object \n",
            " 18  MEAN_RR            41033 non-null  float64\n",
            " 19  MEDIAN_RR          41033 non-null  float64\n",
            " 20  SDRR               41033 non-null  float64\n",
            " 21  RMSSD              41033 non-null  float64\n",
            " 22  SDSD               41033 non-null  float64\n",
            " 23  SDRR_RMSSD         41033 non-null  float64\n",
            " 24  pNN25              41033 non-null  float64\n",
            " 25  pNN50              41033 non-null  float64\n",
            " 26  KURT               41033 non-null  float64\n",
            " 27  SKEW               41033 non-null  float64\n",
            " 28  MEAN_REL_RR        41033 non-null  float64\n",
            " 29  MEDIAN_REL_RR      41033 non-null  float64\n",
            " 30  SDRR_REL_RR        41033 non-null  float64\n",
            " 31  RMSSD_REL_RR       41033 non-null  float64\n",
            " 32  SDSD_REL_RR        41033 non-null  float64\n",
            " 33  SDRR_RMSSD_REL_RR  41033 non-null  float64\n",
            " 34  KURT_REL_RR        41033 non-null  float64\n",
            " 35  SKEW_REL_RR        41033 non-null  float64\n",
            "dtypes: float64(33), int64(1), object(2)\n",
            "memory usage: 11.6+ MB\n"
          ],
          "name": "stdout"
        }
      ]
    },
    {
      "cell_type": "code",
      "metadata": {
        "colab": {
          "base_uri": "https://localhost:8080/"
        },
        "id": "ZyF41rmg8Svl",
        "outputId": "7045fb18-afac-4425-9647-47f039f86304"
      },
      "source": [
        "print(\"Consolidated Train Data = \", consolidated_train_df.shape) \n",
        "print(\"Consolidated Test Data  = \", consolidated_test_df.shape) "
      ],
      "execution_count": null,
      "outputs": [
        {
          "output_type": "stream",
          "text": [
            "Consolidated Train Data =  (369289, 37)\n",
            "Consolidated Test Data  =  (41033, 36)\n"
          ],
          "name": "stdout"
        }
      ]
    },
    {
      "cell_type": "markdown",
      "metadata": {
        "id": "hkJVB0i58oR2"
      },
      "source": [
        "## Backup the consolidated data - Train and Test"
      ]
    },
    {
      "cell_type": "code",
      "metadata": {
        "id": "Bqb7Xq-30b2l"
      },
      "source": [
        "# copy and keep the original dataset\n",
        "con_train_bkup_df = copy.deepcopy(consolidated_train_df)\n",
        "con_test_bkup_df = copy.deepcopy(consolidated_test_df)"
      ],
      "execution_count": null,
      "outputs": []
    },
    {
      "cell_type": "code",
      "metadata": {
        "colab": {
          "base_uri": "https://localhost:8080/"
        },
        "id": "icsaXtBm88GQ",
        "outputId": "33ac01ea-db64-460c-a49d-2b6182829aa1"
      },
      "source": [
        "print(\"Backup Consolidated Train Data = \", con_train_bkup_df.shape) \n",
        "print(\"Backup Consolidated Test Data  = \", con_test_bkup_df.shape) "
      ],
      "execution_count": null,
      "outputs": [
        {
          "output_type": "stream",
          "text": [
            "Backup Consolidated Train Data =  (369289, 37)\n",
            "Backup Consolidated Test Data  =  (41033, 36)\n"
          ],
          "name": "stdout"
        }
      ]
    },
    {
      "cell_type": "markdown",
      "metadata": {
        "id": "lZzAkV6K-Lro"
      },
      "source": [
        "## Train Data preparation"
      ]
    },
    {
      "cell_type": "code",
      "metadata": {
        "colab": {
          "base_uri": "https://localhost:8080/"
        },
        "id": "fYiCapem5j5t",
        "outputId": "153f45dc-2009-47d8-c35b-6dcfdcf7f114"
      },
      "source": [
        "train_df = copy.deepcopy(consolidated_train_df)\n",
        "test_df = copy.deepcopy(consolidated_test_df)\n",
        "print(\"Train Data = \", train_df.shape, \", Test Data  = \", test_df.shape) "
      ],
      "execution_count": null,
      "outputs": [
        {
          "output_type": "stream",
          "text": [
            "Train Data =  (369289, 37) , Test Data  =  (41033, 36)\n"
          ],
          "name": "stdout"
        }
      ]
    },
    {
      "cell_type": "code",
      "metadata": {
        "colab": {
          "base_uri": "https://localhost:8080/"
        },
        "id": "jGZuadXb6-eT",
        "outputId": "cd923f2e-367d-4a31-f56a-08b81620ba4e"
      },
      "source": [
        "train_df = train_df.drop(columns = ['datasetId']) \n",
        "train_df.shape"
      ],
      "execution_count": null,
      "outputs": [
        {
          "output_type": "execute_result",
          "data": {
            "text/plain": [
              "(369289, 36)"
            ]
          },
          "metadata": {
            "tags": []
          },
          "execution_count": 95
        }
      ]
    },
    {
      "cell_type": "code",
      "metadata": {
        "colab": {
          "base_uri": "https://localhost:8080/"
        },
        "id": "Ha3wYPQQ-EiM",
        "outputId": "1c4ae254-2084-446c-d9bb-63d020b94bdf"
      },
      "source": [
        "train_df = train_df.drop(columns = ['uuid']) \n",
        "train_df.shape"
      ],
      "execution_count": null,
      "outputs": [
        {
          "output_type": "execute_result",
          "data": {
            "text/plain": [
              "(369289, 35)"
            ]
          },
          "metadata": {
            "tags": []
          },
          "execution_count": 96
        }
      ]
    },
    {
      "cell_type": "markdown",
      "metadata": {
        "id": "glK9f_tw-RRT"
      },
      "source": [
        "### Move the target variable to end of column"
      ]
    },
    {
      "cell_type": "code",
      "metadata": {
        "id": "KkwGblXf5Z4i"
      },
      "source": [
        "HR = train_df['HR']"
      ],
      "execution_count": null,
      "outputs": []
    },
    {
      "cell_type": "code",
      "metadata": {
        "colab": {
          "base_uri": "https://localhost:8080/"
        },
        "id": "wMYbgBqZ7a-C",
        "outputId": "18ce0964-4717-41a0-be72-19e451f3be7b"
      },
      "source": [
        "HR.head()"
      ],
      "execution_count": null,
      "outputs": [
        {
          "output_type": "execute_result",
          "data": {
            "text/plain": [
              "0    69.499952\n",
              "1    64.363150\n",
              "2    67.450066\n",
              "3    68.809562\n",
              "4    74.565728\n",
              "Name: HR, dtype: float64"
            ]
          },
          "metadata": {
            "tags": []
          },
          "execution_count": 98
        }
      ]
    },
    {
      "cell_type": "code",
      "metadata": {
        "id": "KCJ5NDwG7QZ0"
      },
      "source": [
        "train_df.drop(labels=['HR'], axis=1, inplace = True)"
      ],
      "execution_count": null,
      "outputs": []
    },
    {
      "cell_type": "code",
      "metadata": {
        "colab": {
          "base_uri": "https://localhost:8080/"
        },
        "id": "m2NgyIPu7n90",
        "outputId": "bc80b0bd-55bc-45f8-ef4f-bbc20cb15b97"
      },
      "source": [
        "train_df.shape"
      ],
      "execution_count": null,
      "outputs": [
        {
          "output_type": "execute_result",
          "data": {
            "text/plain": [
              "(369289, 34)"
            ]
          },
          "metadata": {
            "tags": []
          },
          "execution_count": 100
        }
      ]
    },
    {
      "cell_type": "markdown",
      "metadata": {
        "id": "YiJ208WL7zyN"
      },
      "source": [
        "Here, HR column is dropped"
      ]
    },
    {
      "cell_type": "code",
      "metadata": {
        "colab": {
          "base_uri": "https://localhost:8080/"
        },
        "id": "yHOGK8q17hjH",
        "outputId": "addfcd33-95f9-47c5-ae64-d9d92c50d27a"
      },
      "source": [
        "train_df.insert(34, 'HR', HR)\n",
        "train_df.shape"
      ],
      "execution_count": null,
      "outputs": [
        {
          "output_type": "execute_result",
          "data": {
            "text/plain": [
              "(369289, 35)"
            ]
          },
          "metadata": {
            "tags": []
          },
          "execution_count": 101
        }
      ]
    },
    {
      "cell_type": "code",
      "metadata": {
        "colab": {
          "base_uri": "https://localhost:8080/"
        },
        "id": "YQeP70YQ9cR4",
        "outputId": "19c7de63-025a-4704-ce87-7ec58e556110"
      },
      "source": [
        "train_df.info()"
      ],
      "execution_count": null,
      "outputs": [
        {
          "output_type": "stream",
          "text": [
            "<class 'pandas.core.frame.DataFrame'>\n",
            "Int64Index: 369289 entries, 0 to 369288\n",
            "Data columns (total 35 columns):\n",
            " #   Column             Non-Null Count   Dtype  \n",
            "---  ------             --------------   -----  \n",
            " 0   VLF                369289 non-null  float64\n",
            " 1   VLF_PCT            369289 non-null  float64\n",
            " 2   LF                 369289 non-null  float64\n",
            " 3   LF_PCT             369289 non-null  float64\n",
            " 4   LF_NU              369289 non-null  float64\n",
            " 5   HF                 369289 non-null  float64\n",
            " 6   HF_PCT             369289 non-null  float64\n",
            " 7   HF_NU              369289 non-null  float64\n",
            " 8   TP                 369289 non-null  float64\n",
            " 9   LF_HF              369289 non-null  float64\n",
            " 10  HF_LF              369289 non-null  float64\n",
            " 11  SD1                369289 non-null  float64\n",
            " 12  SD2                369289 non-null  float64\n",
            " 13  sampen             369289 non-null  float64\n",
            " 14  higuci             369289 non-null  float64\n",
            " 15  condition          369289 non-null  object \n",
            " 16  MEAN_RR            369289 non-null  float64\n",
            " 17  MEDIAN_RR          369289 non-null  float64\n",
            " 18  SDRR               369289 non-null  float64\n",
            " 19  RMSSD              369289 non-null  float64\n",
            " 20  SDSD               369289 non-null  float64\n",
            " 21  SDRR_RMSSD         369289 non-null  float64\n",
            " 22  pNN25              369289 non-null  float64\n",
            " 23  pNN50              369289 non-null  float64\n",
            " 24  KURT               369289 non-null  float64\n",
            " 25  SKEW               369289 non-null  float64\n",
            " 26  MEAN_REL_RR        369289 non-null  float64\n",
            " 27  MEDIAN_REL_RR      369289 non-null  float64\n",
            " 28  SDRR_REL_RR        369289 non-null  float64\n",
            " 29  RMSSD_REL_RR       369289 non-null  float64\n",
            " 30  SDSD_REL_RR        369289 non-null  float64\n",
            " 31  SDRR_RMSSD_REL_RR  369289 non-null  float64\n",
            " 32  KURT_REL_RR        369289 non-null  float64\n",
            " 33  SKEW_REL_RR        369289 non-null  float64\n",
            " 34  HR                 369289 non-null  float64\n",
            "dtypes: float64(34), object(1)\n",
            "memory usage: 101.4+ MB\n"
          ],
          "name": "stdout"
        }
      ]
    },
    {
      "cell_type": "markdown",
      "metadata": {
        "id": "8GjqBsfE_vlW"
      },
      "source": [
        "### Handling Categorical variable"
      ]
    },
    {
      "cell_type": "code",
      "metadata": {
        "id": "9kgJ7B-C_uVt"
      },
      "source": [
        "train_df['condition']=train_df['condition'].astype('category')"
      ],
      "execution_count": null,
      "outputs": []
    },
    {
      "cell_type": "code",
      "metadata": {
        "colab": {
          "base_uri": "https://localhost:8080/"
        },
        "id": "hJnOiLbKEXm7",
        "outputId": "d59d4218-d2b0-44b6-f8f8-98946fdf7e62"
      },
      "source": [
        "train_df['condition'].unique()"
      ],
      "execution_count": null,
      "outputs": [
        {
          "output_type": "execute_result",
          "data": {
            "text/plain": [
              "['no stress', 'interruption', 'time pressure']\n",
              "Categories (3, object): ['no stress', 'interruption', 'time pressure']"
            ]
          },
          "metadata": {
            "tags": []
          },
          "execution_count": 105
        }
      ]
    },
    {
      "cell_type": "code",
      "metadata": {
        "colab": {
          "base_uri": "https://localhost:8080/",
          "height": 224
        },
        "id": "L-9i6E5zEuxe",
        "outputId": "50b0ca7f-6aff-46d2-9c73-e0258b0bf151"
      },
      "source": [
        "class_label_encoder = LabelEncoder()\n",
        "\n",
        "train_df['condition'] = class_label_encoder.fit_transform(train_df['condition'])\n",
        "train_df.head()"
      ],
      "execution_count": null,
      "outputs": [
        {
          "output_type": "execute_result",
          "data": {
            "text/html": [
              "<div>\n",
              "<style scoped>\n",
              "    .dataframe tbody tr th:only-of-type {\n",
              "        vertical-align: middle;\n",
              "    }\n",
              "\n",
              "    .dataframe tbody tr th {\n",
              "        vertical-align: top;\n",
              "    }\n",
              "\n",
              "    .dataframe thead th {\n",
              "        text-align: right;\n",
              "    }\n",
              "</style>\n",
              "<table border=\"1\" class=\"dataframe\">\n",
              "  <thead>\n",
              "    <tr style=\"text-align: right;\">\n",
              "      <th></th>\n",
              "      <th>VLF</th>\n",
              "      <th>VLF_PCT</th>\n",
              "      <th>LF</th>\n",
              "      <th>LF_PCT</th>\n",
              "      <th>LF_NU</th>\n",
              "      <th>HF</th>\n",
              "      <th>HF_PCT</th>\n",
              "      <th>HF_NU</th>\n",
              "      <th>TP</th>\n",
              "      <th>LF_HF</th>\n",
              "      <th>HF_LF</th>\n",
              "      <th>SD1</th>\n",
              "      <th>SD2</th>\n",
              "      <th>sampen</th>\n",
              "      <th>higuci</th>\n",
              "      <th>condition</th>\n",
              "      <th>MEAN_RR</th>\n",
              "      <th>MEDIAN_RR</th>\n",
              "      <th>SDRR</th>\n",
              "      <th>RMSSD</th>\n",
              "      <th>SDSD</th>\n",
              "      <th>SDRR_RMSSD</th>\n",
              "      <th>pNN25</th>\n",
              "      <th>pNN50</th>\n",
              "      <th>KURT</th>\n",
              "      <th>SKEW</th>\n",
              "      <th>MEAN_REL_RR</th>\n",
              "      <th>MEDIAN_REL_RR</th>\n",
              "      <th>SDRR_REL_RR</th>\n",
              "      <th>RMSSD_REL_RR</th>\n",
              "      <th>SDSD_REL_RR</th>\n",
              "      <th>SDRR_RMSSD_REL_RR</th>\n",
              "      <th>KURT_REL_RR</th>\n",
              "      <th>SKEW_REL_RR</th>\n",
              "      <th>HR</th>\n",
              "    </tr>\n",
              "  </thead>\n",
              "  <tbody>\n",
              "    <tr>\n",
              "      <th>0</th>\n",
              "      <td>2661.894136</td>\n",
              "      <td>72.203287</td>\n",
              "      <td>1009.249419</td>\n",
              "      <td>27.375666</td>\n",
              "      <td>98.485263</td>\n",
              "      <td>15.522603</td>\n",
              "      <td>0.421047</td>\n",
              "      <td>1.514737</td>\n",
              "      <td>3686.666157</td>\n",
              "      <td>65.018055</td>\n",
              "      <td>0.015380</td>\n",
              "      <td>11.001565</td>\n",
              "      <td>199.061782</td>\n",
              "      <td>2.139754</td>\n",
              "      <td>1.163485</td>\n",
              "      <td>1</td>\n",
              "      <td>885.157845</td>\n",
              "      <td>853.763730</td>\n",
              "      <td>140.972741</td>\n",
              "      <td>15.554505</td>\n",
              "      <td>15.553371</td>\n",
              "      <td>9.063146</td>\n",
              "      <td>11.133333</td>\n",
              "      <td>0.533333</td>\n",
              "      <td>-0.856554</td>\n",
              "      <td>0.335218</td>\n",
              "      <td>-0.000203</td>\n",
              "      <td>-0.000179</td>\n",
              "      <td>0.017080</td>\n",
              "      <td>0.007969</td>\n",
              "      <td>0.007969</td>\n",
              "      <td>2.143342</td>\n",
              "      <td>-0.856554</td>\n",
              "      <td>0.335218</td>\n",
              "      <td>69.499952</td>\n",
              "    </tr>\n",
              "    <tr>\n",
              "      <th>1</th>\n",
              "      <td>2314.265450</td>\n",
              "      <td>76.975728</td>\n",
              "      <td>690.113275</td>\n",
              "      <td>22.954139</td>\n",
              "      <td>99.695397</td>\n",
              "      <td>2.108525</td>\n",
              "      <td>0.070133</td>\n",
              "      <td>0.304603</td>\n",
              "      <td>3006.487251</td>\n",
              "      <td>327.296635</td>\n",
              "      <td>0.003055</td>\n",
              "      <td>9.170129</td>\n",
              "      <td>114.634458</td>\n",
              "      <td>2.174499</td>\n",
              "      <td>1.084711</td>\n",
              "      <td>0</td>\n",
              "      <td>939.425371</td>\n",
              "      <td>948.357865</td>\n",
              "      <td>81.317742</td>\n",
              "      <td>12.964439</td>\n",
              "      <td>12.964195</td>\n",
              "      <td>6.272369</td>\n",
              "      <td>5.600000</td>\n",
              "      <td>0.000000</td>\n",
              "      <td>-0.408190</td>\n",
              "      <td>-0.155286</td>\n",
              "      <td>-0.000059</td>\n",
              "      <td>0.000611</td>\n",
              "      <td>0.013978</td>\n",
              "      <td>0.004769</td>\n",
              "      <td>0.004769</td>\n",
              "      <td>2.930855</td>\n",
              "      <td>-0.408190</td>\n",
              "      <td>-0.155286</td>\n",
              "      <td>64.363150</td>\n",
              "    </tr>\n",
              "    <tr>\n",
              "      <th>2</th>\n",
              "      <td>1373.887112</td>\n",
              "      <td>51.152225</td>\n",
              "      <td>1298.222619</td>\n",
              "      <td>48.335104</td>\n",
              "      <td>98.950472</td>\n",
              "      <td>13.769729</td>\n",
              "      <td>0.512671</td>\n",
              "      <td>1.049528</td>\n",
              "      <td>2685.879461</td>\n",
              "      <td>94.280910</td>\n",
              "      <td>0.010607</td>\n",
              "      <td>11.533417</td>\n",
              "      <td>118.939253</td>\n",
              "      <td>2.135350</td>\n",
              "      <td>1.176315</td>\n",
              "      <td>0</td>\n",
              "      <td>898.186047</td>\n",
              "      <td>907.006860</td>\n",
              "      <td>84.497236</td>\n",
              "      <td>16.305279</td>\n",
              "      <td>16.305274</td>\n",
              "      <td>5.182201</td>\n",
              "      <td>13.066667</td>\n",
              "      <td>0.200000</td>\n",
              "      <td>0.351789</td>\n",
              "      <td>-0.656813</td>\n",
              "      <td>-0.000011</td>\n",
              "      <td>-0.000263</td>\n",
              "      <td>0.018539</td>\n",
              "      <td>0.008716</td>\n",
              "      <td>0.008716</td>\n",
              "      <td>2.127053</td>\n",
              "      <td>0.351789</td>\n",
              "      <td>-0.656813</td>\n",
              "      <td>67.450066</td>\n",
              "    </tr>\n",
              "    <tr>\n",
              "      <th>3</th>\n",
              "      <td>2410.357408</td>\n",
              "      <td>70.180308</td>\n",
              "      <td>1005.981659</td>\n",
              "      <td>29.290305</td>\n",
              "      <td>98.224706</td>\n",
              "      <td>18.181913</td>\n",
              "      <td>0.529387</td>\n",
              "      <td>1.775294</td>\n",
              "      <td>3434.520980</td>\n",
              "      <td>55.328701</td>\n",
              "      <td>0.018074</td>\n",
              "      <td>11.119476</td>\n",
              "      <td>127.318597</td>\n",
              "      <td>2.178341</td>\n",
              "      <td>1.179688</td>\n",
              "      <td>1</td>\n",
              "      <td>881.757865</td>\n",
              "      <td>893.460030</td>\n",
              "      <td>90.370537</td>\n",
              "      <td>15.720468</td>\n",
              "      <td>15.720068</td>\n",
              "      <td>5.748591</td>\n",
              "      <td>11.800000</td>\n",
              "      <td>0.133333</td>\n",
              "      <td>-0.504947</td>\n",
              "      <td>-0.386138</td>\n",
              "      <td>0.000112</td>\n",
              "      <td>0.000494</td>\n",
              "      <td>0.017761</td>\n",
              "      <td>0.008660</td>\n",
              "      <td>0.008660</td>\n",
              "      <td>2.050988</td>\n",
              "      <td>-0.504947</td>\n",
              "      <td>-0.386138</td>\n",
              "      <td>68.809562</td>\n",
              "    </tr>\n",
              "    <tr>\n",
              "      <th>4</th>\n",
              "      <td>1151.177330</td>\n",
              "      <td>43.918366</td>\n",
              "      <td>1421.782051</td>\n",
              "      <td>54.242160</td>\n",
              "      <td>96.720007</td>\n",
              "      <td>48.215822</td>\n",
              "      <td>1.839473</td>\n",
              "      <td>3.279993</td>\n",
              "      <td>2621.175204</td>\n",
              "      <td>29.487873</td>\n",
              "      <td>0.033912</td>\n",
              "      <td>13.590641</td>\n",
              "      <td>87.718281</td>\n",
              "      <td>2.221121</td>\n",
              "      <td>1.249612</td>\n",
              "      <td>1</td>\n",
              "      <td>809.625331</td>\n",
              "      <td>811.184865</td>\n",
              "      <td>62.766242</td>\n",
              "      <td>19.213819</td>\n",
              "      <td>19.213657</td>\n",
              "      <td>3.266724</td>\n",
              "      <td>20.200000</td>\n",
              "      <td>0.200000</td>\n",
              "      <td>-0.548408</td>\n",
              "      <td>-0.154252</td>\n",
              "      <td>-0.000100</td>\n",
              "      <td>-0.002736</td>\n",
              "      <td>0.023715</td>\n",
              "      <td>0.013055</td>\n",
              "      <td>0.013055</td>\n",
              "      <td>1.816544</td>\n",
              "      <td>-0.548408</td>\n",
              "      <td>-0.154252</td>\n",
              "      <td>74.565728</td>\n",
              "    </tr>\n",
              "  </tbody>\n",
              "</table>\n",
              "</div>"
            ],
            "text/plain": [
              "           VLF    VLF_PCT           LF  ...  KURT_REL_RR  SKEW_REL_RR         HR\n",
              "0  2661.894136  72.203287  1009.249419  ...    -0.856554     0.335218  69.499952\n",
              "1  2314.265450  76.975728   690.113275  ...    -0.408190    -0.155286  64.363150\n",
              "2  1373.887112  51.152225  1298.222619  ...     0.351789    -0.656813  67.450066\n",
              "3  2410.357408  70.180308  1005.981659  ...    -0.504947    -0.386138  68.809562\n",
              "4  1151.177330  43.918366  1421.782051  ...    -0.548408    -0.154252  74.565728\n",
              "\n",
              "[5 rows x 35 columns]"
            ]
          },
          "metadata": {
            "tags": []
          },
          "execution_count": 106
        }
      ]
    },
    {
      "cell_type": "code",
      "metadata": {
        "colab": {
          "base_uri": "https://localhost:8080/"
        },
        "id": "UrdKHyjDEj8v",
        "outputId": "d714450d-44f9-41be-de36-3bed2b2ed374"
      },
      "source": [
        "train_df.groupby('condition').size()"
      ],
      "execution_count": null,
      "outputs": [
        {
          "output_type": "execute_result",
          "data": {
            "text/plain": [
              "condition\n",
              "0    105150\n",
              "1    200082\n",
              "2     64057\n",
              "dtype: int64"
            ]
          },
          "metadata": {
            "tags": []
          },
          "execution_count": 107
        }
      ]
    },
    {
      "cell_type": "code",
      "metadata": {
        "colab": {
          "base_uri": "https://localhost:8080/",
          "height": 1000
        },
        "id": "zJ-5p4yr9kiW",
        "outputId": "dfb324f7-7c1e-4750-bedf-11c71a908f93"
      },
      "source": [
        "train_df.iloc[:, :-1].describe().T"
      ],
      "execution_count": null,
      "outputs": [
        {
          "output_type": "execute_result",
          "data": {
            "text/html": [
              "<div>\n",
              "<style scoped>\n",
              "    .dataframe tbody tr th:only-of-type {\n",
              "        vertical-align: middle;\n",
              "    }\n",
              "\n",
              "    .dataframe tbody tr th {\n",
              "        vertical-align: top;\n",
              "    }\n",
              "\n",
              "    .dataframe thead th {\n",
              "        text-align: right;\n",
              "    }\n",
              "</style>\n",
              "<table border=\"1\" class=\"dataframe\">\n",
              "  <thead>\n",
              "    <tr style=\"text-align: right;\">\n",
              "      <th></th>\n",
              "      <th>count</th>\n",
              "      <th>mean</th>\n",
              "      <th>std</th>\n",
              "      <th>min</th>\n",
              "      <th>25%</th>\n",
              "      <th>50%</th>\n",
              "      <th>75%</th>\n",
              "      <th>max</th>\n",
              "    </tr>\n",
              "  </thead>\n",
              "  <tbody>\n",
              "    <tr>\n",
              "      <th>VLF</th>\n",
              "      <td>369289.0</td>\n",
              "      <td>2199.580170</td>\n",
              "      <td>1815.773422</td>\n",
              "      <td>159.480176</td>\n",
              "      <td>1001.189280</td>\n",
              "      <td>1.667903e+03</td>\n",
              "      <td>2654.121052</td>\n",
              "      <td>12617.977191</td>\n",
              "    </tr>\n",
              "    <tr>\n",
              "      <th>VLF_PCT</th>\n",
              "      <td>369289.0</td>\n",
              "      <td>64.289242</td>\n",
              "      <td>16.774844</td>\n",
              "      <td>19.031219</td>\n",
              "      <td>52.909877</td>\n",
              "      <td>6.635024e+01</td>\n",
              "      <td>76.825032</td>\n",
              "      <td>97.738848</td>\n",
              "    </tr>\n",
              "    <tr>\n",
              "      <th>LF</th>\n",
              "      <td>369289.0</td>\n",
              "      <td>946.530252</td>\n",
              "      <td>574.171780</td>\n",
              "      <td>90.048557</td>\n",
              "      <td>545.449386</td>\n",
              "      <td>7.827163e+02</td>\n",
              "      <td>1201.432256</td>\n",
              "      <td>3291.548112</td>\n",
              "    </tr>\n",
              "    <tr>\n",
              "      <th>LF_PCT</th>\n",
              "      <td>369289.0</td>\n",
              "      <td>34.095182</td>\n",
              "      <td>16.040290</td>\n",
              "      <td>2.165119</td>\n",
              "      <td>22.305936</td>\n",
              "      <td>3.204703e+01</td>\n",
              "      <td>44.647115</td>\n",
              "      <td>77.928847</td>\n",
              "    </tr>\n",
              "    <tr>\n",
              "      <th>LF_NU</th>\n",
              "      <td>369289.0</td>\n",
              "      <td>95.566718</td>\n",
              "      <td>4.123365</td>\n",
              "      <td>69.879083</td>\n",
              "      <td>93.645734</td>\n",
              "      <td>9.664314e+01</td>\n",
              "      <td>98.771946</td>\n",
              "      <td>99.987175</td>\n",
              "    </tr>\n",
              "    <tr>\n",
              "      <th>HF</th>\n",
              "      <td>369289.0</td>\n",
              "      <td>39.245603</td>\n",
              "      <td>45.398869</td>\n",
              "      <td>0.061783</td>\n",
              "      <td>10.720312</td>\n",
              "      <td>2.484194e+01</td>\n",
              "      <td>45.272368</td>\n",
              "      <td>364.486936</td>\n",
              "    </tr>\n",
              "    <tr>\n",
              "      <th>HF_PCT</th>\n",
              "      <td>369289.0</td>\n",
              "      <td>1.615576</td>\n",
              "      <td>1.761073</td>\n",
              "      <td>0.002150</td>\n",
              "      <td>0.346803</td>\n",
              "      <td>1.039513e+00</td>\n",
              "      <td>2.245115</td>\n",
              "      <td>13.095664</td>\n",
              "    </tr>\n",
              "    <tr>\n",
              "      <th>HF_NU</th>\n",
              "      <td>369289.0</td>\n",
              "      <td>4.433282</td>\n",
              "      <td>4.123365</td>\n",
              "      <td>0.012825</td>\n",
              "      <td>1.228054</td>\n",
              "      <td>3.356860e+00</td>\n",
              "      <td>6.354266</td>\n",
              "      <td>30.120917</td>\n",
              "    </tr>\n",
              "    <tr>\n",
              "      <th>TP</th>\n",
              "      <td>369289.0</td>\n",
              "      <td>3185.356025</td>\n",
              "      <td>1923.227187</td>\n",
              "      <td>377.692795</td>\n",
              "      <td>1828.147788</td>\n",
              "      <td>2.796857e+03</td>\n",
              "      <td>4052.260157</td>\n",
              "      <td>13390.684098</td>\n",
              "    </tr>\n",
              "    <tr>\n",
              "      <th>LF_HF</th>\n",
              "      <td>369289.0</td>\n",
              "      <td>115.977200</td>\n",
              "      <td>360.855129</td>\n",
              "      <td>2.319952</td>\n",
              "      <td>14.737458</td>\n",
              "      <td>2.878975e+01</td>\n",
              "      <td>80.429614</td>\n",
              "      <td>7796.443096</td>\n",
              "    </tr>\n",
              "    <tr>\n",
              "      <th>HF_LF</th>\n",
              "      <td>369289.0</td>\n",
              "      <td>0.048506</td>\n",
              "      <td>0.049238</td>\n",
              "      <td>0.000128</td>\n",
              "      <td>0.012433</td>\n",
              "      <td>3.473459e-02</td>\n",
              "      <td>0.067854</td>\n",
              "      <td>0.431043</td>\n",
              "    </tr>\n",
              "    <tr>\n",
              "      <th>SD1</th>\n",
              "      <td>369289.0</td>\n",
              "      <td>10.593708</td>\n",
              "      <td>2.914795</td>\n",
              "      <td>3.911344</td>\n",
              "      <td>8.368340</td>\n",
              "      <td>1.019662e+01</td>\n",
              "      <td>12.679005</td>\n",
              "      <td>18.836107</td>\n",
              "    </tr>\n",
              "    <tr>\n",
              "      <th>SD2</th>\n",
              "      <td>369289.0</td>\n",
              "      <td>154.178997</td>\n",
              "      <td>109.170222</td>\n",
              "      <td>38.307745</td>\n",
              "      <td>90.326864</td>\n",
              "      <td>1.162211e+02</td>\n",
              "      <td>166.764850</td>\n",
              "      <td>796.852945</td>\n",
              "    </tr>\n",
              "    <tr>\n",
              "      <th>sampen</th>\n",
              "      <td>369289.0</td>\n",
              "      <td>2.062471</td>\n",
              "      <td>0.206999</td>\n",
              "      <td>0.434576</td>\n",
              "      <td>2.032977</td>\n",
              "      <td>2.134214e+00</td>\n",
              "      <td>2.181929</td>\n",
              "      <td>2.234841</td>\n",
              "    </tr>\n",
              "    <tr>\n",
              "      <th>higuci</th>\n",
              "      <td>369289.0</td>\n",
              "      <td>1.182292</td>\n",
              "      <td>0.062192</td>\n",
              "      <td>1.033984</td>\n",
              "      <td>1.139929</td>\n",
              "      <td>1.174293e+00</td>\n",
              "      <td>1.223621</td>\n",
              "      <td>1.361219</td>\n",
              "    </tr>\n",
              "    <tr>\n",
              "      <th>condition</th>\n",
              "      <td>369289.0</td>\n",
              "      <td>0.888724</td>\n",
              "      <td>0.667694</td>\n",
              "      <td>0.000000</td>\n",
              "      <td>0.000000</td>\n",
              "      <td>1.000000e+00</td>\n",
              "      <td>1.000000</td>\n",
              "      <td>2.000000</td>\n",
              "    </tr>\n",
              "    <tr>\n",
              "      <th>MEAN_RR</th>\n",
              "      <td>369289.0</td>\n",
              "      <td>846.650104</td>\n",
              "      <td>124.603984</td>\n",
              "      <td>547.492221</td>\n",
              "      <td>760.228533</td>\n",
              "      <td>8.229514e+02</td>\n",
              "      <td>924.117422</td>\n",
              "      <td>1322.016957</td>\n",
              "    </tr>\n",
              "    <tr>\n",
              "      <th>MEDIAN_RR</th>\n",
              "      <td>369289.0</td>\n",
              "      <td>841.965890</td>\n",
              "      <td>132.321005</td>\n",
              "      <td>517.293295</td>\n",
              "      <td>755.750735</td>\n",
              "      <td>8.196896e+02</td>\n",
              "      <td>916.821570</td>\n",
              "      <td>1653.122250</td>\n",
              "    </tr>\n",
              "    <tr>\n",
              "      <th>SDRR</th>\n",
              "      <td>369289.0</td>\n",
              "      <td>109.352531</td>\n",
              "      <td>77.117025</td>\n",
              "      <td>27.233947</td>\n",
              "      <td>64.205641</td>\n",
              "      <td>8.260824e+01</td>\n",
              "      <td>118.237002</td>\n",
              "      <td>563.486949</td>\n",
              "    </tr>\n",
              "    <tr>\n",
              "      <th>RMSSD</th>\n",
              "      <td>369289.0</td>\n",
              "      <td>14.977498</td>\n",
              "      <td>4.120766</td>\n",
              "      <td>5.529742</td>\n",
              "      <td>11.830959</td>\n",
              "      <td>1.441592e+01</td>\n",
              "      <td>17.927144</td>\n",
              "      <td>26.629477</td>\n",
              "    </tr>\n",
              "    <tr>\n",
              "      <th>SDSD</th>\n",
              "      <td>369289.0</td>\n",
              "      <td>14.976767</td>\n",
              "      <td>4.120768</td>\n",
              "      <td>5.529630</td>\n",
              "      <td>11.830671</td>\n",
              "      <td>1.441539e+01</td>\n",
              "      <td>17.924839</td>\n",
              "      <td>26.629392</td>\n",
              "    </tr>\n",
              "    <tr>\n",
              "      <th>SDRR_RMSSD</th>\n",
              "      <td>369289.0</td>\n",
              "      <td>7.396597</td>\n",
              "      <td>5.143834</td>\n",
              "      <td>2.660381</td>\n",
              "      <td>4.541896</td>\n",
              "      <td>5.952112e+00</td>\n",
              "      <td>7.919841</td>\n",
              "      <td>54.523950</td>\n",
              "    </tr>\n",
              "    <tr>\n",
              "      <th>pNN25</th>\n",
              "      <td>369289.0</td>\n",
              "      <td>9.841143</td>\n",
              "      <td>8.195574</td>\n",
              "      <td>0.000000</td>\n",
              "      <td>3.666667</td>\n",
              "      <td>7.600000e+00</td>\n",
              "      <td>13.333333</td>\n",
              "      <td>39.400000</td>\n",
              "    </tr>\n",
              "    <tr>\n",
              "      <th>pNN50</th>\n",
              "      <td>369289.0</td>\n",
              "      <td>0.866001</td>\n",
              "      <td>0.990189</td>\n",
              "      <td>0.000000</td>\n",
              "      <td>0.000000</td>\n",
              "      <td>4.666667e-01</td>\n",
              "      <td>1.466667</td>\n",
              "      <td>5.466667</td>\n",
              "    </tr>\n",
              "    <tr>\n",
              "      <th>KURT</th>\n",
              "      <td>369289.0</td>\n",
              "      <td>0.523235</td>\n",
              "      <td>1.790348</td>\n",
              "      <td>-1.894820</td>\n",
              "      <td>-0.352783</td>\n",
              "      <td>4.073622e-02</td>\n",
              "      <td>0.722833</td>\n",
              "      <td>64.088107</td>\n",
              "    </tr>\n",
              "    <tr>\n",
              "      <th>SKEW</th>\n",
              "      <td>369289.0</td>\n",
              "      <td>0.041628</td>\n",
              "      <td>0.699522</td>\n",
              "      <td>-2.136278</td>\n",
              "      <td>-0.359291</td>\n",
              "      <td>-6.096592e-02</td>\n",
              "      <td>0.282417</td>\n",
              "      <td>6.777800</td>\n",
              "    </tr>\n",
              "    <tr>\n",
              "      <th>MEAN_REL_RR</th>\n",
              "      <td>369289.0</td>\n",
              "      <td>-0.000002</td>\n",
              "      <td>0.000163</td>\n",
              "      <td>-0.001234</td>\n",
              "      <td>-0.000073</td>\n",
              "      <td>-9.330777e-07</td>\n",
              "      <td>0.000069</td>\n",
              "      <td>0.001244</td>\n",
              "    </tr>\n",
              "    <tr>\n",
              "      <th>MEDIAN_REL_RR</th>\n",
              "      <td>369289.0</td>\n",
              "      <td>-0.000465</td>\n",
              "      <td>0.000868</td>\n",
              "      <td>-0.004425</td>\n",
              "      <td>-0.000917</td>\n",
              "      <td>-3.116067e-04</td>\n",
              "      <td>0.000131</td>\n",
              "      <td>0.002095</td>\n",
              "    </tr>\n",
              "    <tr>\n",
              "      <th>SDRR_REL_RR</th>\n",
              "      <td>369289.0</td>\n",
              "      <td>0.018571</td>\n",
              "      <td>0.005455</td>\n",
              "      <td>0.008987</td>\n",
              "      <td>0.014261</td>\n",
              "      <td>1.731795e-02</td>\n",
              "      <td>0.021827</td>\n",
              "      <td>0.036571</td>\n",
              "    </tr>\n",
              "    <tr>\n",
              "      <th>RMSSD_REL_RR</th>\n",
              "      <td>369289.0</td>\n",
              "      <td>0.009701</td>\n",
              "      <td>0.003897</td>\n",
              "      <td>0.003220</td>\n",
              "      <td>0.006984</td>\n",
              "      <td>8.690833e-03</td>\n",
              "      <td>0.011460</td>\n",
              "      <td>0.026955</td>\n",
              "    </tr>\n",
              "    <tr>\n",
              "      <th>SDSD_REL_RR</th>\n",
              "      <td>369289.0</td>\n",
              "      <td>0.009701</td>\n",
              "      <td>0.003897</td>\n",
              "      <td>0.003220</td>\n",
              "      <td>0.006984</td>\n",
              "      <td>8.690797e-03</td>\n",
              "      <td>0.011460</td>\n",
              "      <td>0.026955</td>\n",
              "    </tr>\n",
              "    <tr>\n",
              "      <th>SDRR_RMSSD_REL_RR</th>\n",
              "      <td>369289.0</td>\n",
              "      <td>2.006817</td>\n",
              "      <td>0.375845</td>\n",
              "      <td>1.169342</td>\n",
              "      <td>1.749801</td>\n",
              "      <td>1.934416e+00</td>\n",
              "      <td>2.221232</td>\n",
              "      <td>3.724134</td>\n",
              "    </tr>\n",
              "    <tr>\n",
              "      <th>KURT_REL_RR</th>\n",
              "      <td>369289.0</td>\n",
              "      <td>0.523235</td>\n",
              "      <td>1.790348</td>\n",
              "      <td>-1.894820</td>\n",
              "      <td>-0.352783</td>\n",
              "      <td>4.073622e-02</td>\n",
              "      <td>0.722833</td>\n",
              "      <td>64.088107</td>\n",
              "    </tr>\n",
              "    <tr>\n",
              "      <th>SKEW_REL_RR</th>\n",
              "      <td>369289.0</td>\n",
              "      <td>0.041628</td>\n",
              "      <td>0.699522</td>\n",
              "      <td>-2.136278</td>\n",
              "      <td>-0.359291</td>\n",
              "      <td>-6.096592e-02</td>\n",
              "      <td>0.282417</td>\n",
              "      <td>6.777800</td>\n",
              "    </tr>\n",
              "  </tbody>\n",
              "</table>\n",
              "</div>"
            ],
            "text/plain": [
              "                      count         mean  ...          75%           max\n",
              "VLF                369289.0  2199.580170  ...  2654.121052  12617.977191\n",
              "VLF_PCT            369289.0    64.289242  ...    76.825032     97.738848\n",
              "LF                 369289.0   946.530252  ...  1201.432256   3291.548112\n",
              "LF_PCT             369289.0    34.095182  ...    44.647115     77.928847\n",
              "LF_NU              369289.0    95.566718  ...    98.771946     99.987175\n",
              "HF                 369289.0    39.245603  ...    45.272368    364.486936\n",
              "HF_PCT             369289.0     1.615576  ...     2.245115     13.095664\n",
              "HF_NU              369289.0     4.433282  ...     6.354266     30.120917\n",
              "TP                 369289.0  3185.356025  ...  4052.260157  13390.684098\n",
              "LF_HF              369289.0   115.977200  ...    80.429614   7796.443096\n",
              "HF_LF              369289.0     0.048506  ...     0.067854      0.431043\n",
              "SD1                369289.0    10.593708  ...    12.679005     18.836107\n",
              "SD2                369289.0   154.178997  ...   166.764850    796.852945\n",
              "sampen             369289.0     2.062471  ...     2.181929      2.234841\n",
              "higuci             369289.0     1.182292  ...     1.223621      1.361219\n",
              "condition          369289.0     0.888724  ...     1.000000      2.000000\n",
              "MEAN_RR            369289.0   846.650104  ...   924.117422   1322.016957\n",
              "MEDIAN_RR          369289.0   841.965890  ...   916.821570   1653.122250\n",
              "SDRR               369289.0   109.352531  ...   118.237002    563.486949\n",
              "RMSSD              369289.0    14.977498  ...    17.927144     26.629477\n",
              "SDSD               369289.0    14.976767  ...    17.924839     26.629392\n",
              "SDRR_RMSSD         369289.0     7.396597  ...     7.919841     54.523950\n",
              "pNN25              369289.0     9.841143  ...    13.333333     39.400000\n",
              "pNN50              369289.0     0.866001  ...     1.466667      5.466667\n",
              "KURT               369289.0     0.523235  ...     0.722833     64.088107\n",
              "SKEW               369289.0     0.041628  ...     0.282417      6.777800\n",
              "MEAN_REL_RR        369289.0    -0.000002  ...     0.000069      0.001244\n",
              "MEDIAN_REL_RR      369289.0    -0.000465  ...     0.000131      0.002095\n",
              "SDRR_REL_RR        369289.0     0.018571  ...     0.021827      0.036571\n",
              "RMSSD_REL_RR       369289.0     0.009701  ...     0.011460      0.026955\n",
              "SDSD_REL_RR        369289.0     0.009701  ...     0.011460      0.026955\n",
              "SDRR_RMSSD_REL_RR  369289.0     2.006817  ...     2.221232      3.724134\n",
              "KURT_REL_RR        369289.0     0.523235  ...     0.722833     64.088107\n",
              "SKEW_REL_RR        369289.0     0.041628  ...     0.282417      6.777800\n",
              "\n",
              "[34 rows x 8 columns]"
            ]
          },
          "metadata": {
            "tags": []
          },
          "execution_count": 108
        }
      ]
    },
    {
      "cell_type": "markdown",
      "metadata": {
        "id": "hh_tE8xp-hvN"
      },
      "source": [
        "### Analysis of Data distribution"
      ]
    },
    {
      "cell_type": "code",
      "metadata": {
        "colab": {
          "base_uri": "https://localhost:8080/"
        },
        "id": "8K3eQGe59MeB",
        "outputId": "516684e2-b78e-4493-af00-cf4a58625a99"
      },
      "source": [
        "train_df.info()"
      ],
      "execution_count": null,
      "outputs": [
        {
          "output_type": "stream",
          "text": [
            "<class 'pandas.core.frame.DataFrame'>\n",
            "Int64Index: 369289 entries, 0 to 369288\n",
            "Data columns (total 35 columns):\n",
            " #   Column             Non-Null Count   Dtype  \n",
            "---  ------             --------------   -----  \n",
            " 0   VLF                369289 non-null  float64\n",
            " 1   VLF_PCT            369289 non-null  float64\n",
            " 2   LF                 369289 non-null  float64\n",
            " 3   LF_PCT             369289 non-null  float64\n",
            " 4   LF_NU              369289 non-null  float64\n",
            " 5   HF                 369289 non-null  float64\n",
            " 6   HF_PCT             369289 non-null  float64\n",
            " 7   HF_NU              369289 non-null  float64\n",
            " 8   TP                 369289 non-null  float64\n",
            " 9   LF_HF              369289 non-null  float64\n",
            " 10  HF_LF              369289 non-null  float64\n",
            " 11  SD1                369289 non-null  float64\n",
            " 12  SD2                369289 non-null  float64\n",
            " 13  sampen             369289 non-null  float64\n",
            " 14  higuci             369289 non-null  float64\n",
            " 15  condition          369289 non-null  int64  \n",
            " 16  MEAN_RR            369289 non-null  float64\n",
            " 17  MEDIAN_RR          369289 non-null  float64\n",
            " 18  SDRR               369289 non-null  float64\n",
            " 19  RMSSD              369289 non-null  float64\n",
            " 20  SDSD               369289 non-null  float64\n",
            " 21  SDRR_RMSSD         369289 non-null  float64\n",
            " 22  pNN25              369289 non-null  float64\n",
            " 23  pNN50              369289 non-null  float64\n",
            " 24  KURT               369289 non-null  float64\n",
            " 25  SKEW               369289 non-null  float64\n",
            " 26  MEAN_REL_RR        369289 non-null  float64\n",
            " 27  MEDIAN_REL_RR      369289 non-null  float64\n",
            " 28  SDRR_REL_RR        369289 non-null  float64\n",
            " 29  RMSSD_REL_RR       369289 non-null  float64\n",
            " 30  SDSD_REL_RR        369289 non-null  float64\n",
            " 31  SDRR_RMSSD_REL_RR  369289 non-null  float64\n",
            " 32  KURT_REL_RR        369289 non-null  float64\n",
            " 33  SKEW_REL_RR        369289 non-null  float64\n",
            " 34  HR                 369289 non-null  float64\n",
            "dtypes: float64(34), int64(1)\n",
            "memory usage: 101.4 MB\n"
          ],
          "name": "stdout"
        }
      ]
    },
    {
      "cell_type": "markdown",
      "metadata": {
        "id": "bajU-ln0ESSq"
      },
      "source": [
        "Handle categorical variable"
      ]
    },
    {
      "cell_type": "code",
      "metadata": {
        "colab": {
          "base_uri": "https://localhost:8080/"
        },
        "id": "_1RJd_evGdQb",
        "outputId": "7d81bc3f-f95d-4ec6-9e26-fd569a271219"
      },
      "source": [
        "print(f'Skewness of Concrete dataset \\n{train_df.iloc[:, :-1].skew()}')"
      ],
      "execution_count": null,
      "outputs": [
        {
          "output_type": "stream",
          "text": [
            "Skewness of Concrete dataset \n",
            "VLF                  1.960735\n",
            "VLF_PCT             -0.410836\n",
            "LF                   1.349076\n",
            "LF_PCT               0.425164\n",
            "LF_NU               -1.645603\n",
            "HF                   2.476530\n",
            "HF_PCT               2.021882\n",
            "HF_NU                1.645603\n",
            "TP                   1.452435\n",
            "LF_HF                9.781091\n",
            "HF_LF                2.159372\n",
            "SD1                  0.399668\n",
            "SD2                  2.363386\n",
            "sampen              -3.091012\n",
            "higuci               0.335008\n",
            "condition            0.130775\n",
            "MEAN_RR              0.648000\n",
            "MEDIAN_RR            0.925513\n",
            "SDRR                 2.363789\n",
            "RMSSD                0.399529\n",
            "SDSD                 0.399668\n",
            "SDRR_RMSSD           3.707939\n",
            "pNN25                1.203114\n",
            "pNN50                1.264137\n",
            "KURT                 5.722209\n",
            "SKEW                 1.223005\n",
            "MEAN_REL_RR          0.112796\n",
            "MEDIAN_REL_RR       -0.948009\n",
            "SDRR_REL_RR          0.869543\n",
            "RMSSD_REL_RR         1.258784\n",
            "SDSD_REL_RR          1.258784\n",
            "SDRR_RMSSD_REL_RR    0.838587\n",
            "KURT_REL_RR          5.722209\n",
            "SKEW_REL_RR          1.223005\n",
            "dtype: float64\n"
          ],
          "name": "stdout"
        }
      ]
    },
    {
      "cell_type": "markdown",
      "metadata": {
        "id": "Xa5_4hGJGk2T"
      },
      "source": [
        "Skewness: Represents the shape of the distribution \\ Skewness = 0 for normal disttribution skewness = 0. \\ \n",
        "Skewness > 0 for distribution skewed toward positive of the mean \n",
        "Skewness < 0 for distribution skewed toward negative of the mean. "
      ]
    },
    {
      "cell_type": "code",
      "metadata": {
        "colab": {
          "base_uri": "https://localhost:8080/"
        },
        "id": "WyaPRUIfG6uX",
        "outputId": "48f125b6-0acb-4fbd-e4ac-fb6e0b1a0698"
      },
      "source": [
        "print(f'Kurtosis of Concrete dataset \\n{train_df.iloc[:, :-1].kurtosis()}')"
      ],
      "execution_count": null,
      "outputs": [
        {
          "output_type": "stream",
          "text": [
            "Kurtosis of Concrete dataset \n",
            "VLF                    4.493563\n",
            "VLF_PCT               -0.520971\n",
            "LF                     1.739223\n",
            "LF_PCT                -0.489052\n",
            "LF_NU                  3.852707\n",
            "HF                     7.961637\n",
            "HF_PCT                 5.517449\n",
            "HF_NU                  3.852707\n",
            "TP                     2.813712\n",
            "LF_HF                133.475215\n",
            "HF_LF                  7.293165\n",
            "SD1                   -0.559551\n",
            "SD2                    6.374008\n",
            "sampen                12.790417\n",
            "higuci                -0.278843\n",
            "condition             -0.774849\n",
            "MEAN_RR                0.434382\n",
            "MEDIAN_RR              2.645933\n",
            "SDRR                   6.380031\n",
            "RMSSD                 -0.559819\n",
            "SDSD                  -0.559551\n",
            "SDRR_RMSSD            21.348857\n",
            "pNN25                  0.849793\n",
            "pNN50                  1.025275\n",
            "KURT                  85.184693\n",
            "SKEW                   3.487345\n",
            "MEAN_REL_RR            5.215669\n",
            "MEDIAN_REL_RR          1.269521\n",
            "SDRR_REL_RR            0.186433\n",
            "RMSSD_REL_RR           1.434218\n",
            "SDSD_REL_RR            1.434221\n",
            "SDRR_RMSSD_REL_RR      0.837470\n",
            "KURT_REL_RR           85.184693\n",
            "SKEW_REL_RR            3.487345\n",
            "dtype: float64\n"
          ],
          "name": "stdout"
        }
      ]
    },
    {
      "cell_type": "markdown",
      "metadata": {
        "id": "_ExeJl2QE-EU"
      },
      "source": [
        "LF_HF - Ratio of LF to HF\n",
        "1.   LF - Absolute power of the low frequency band (0.04 - 0.15 Hz)\n",
        "2.   HF - Absolute power of the high frequency band (0.15 - 0.4 Hz)\n",
        "\n",
        "KURT - Kurtosis of distribution of successive RR intervals\n",
        "\n",
        "KURT_REL_RR - Kurtosis of distribution of relative RR intervals\n",
        "\n",
        "SDRR_RMSSD - Ratio of SDRR / RMSSD\n",
        "1.   SDRR - Standard deviation of RR intervals\n",
        "2.   RMSSD - Root mean square of successive RR interval differences\n",
        "\n",
        "\n",
        "\n"
      ]
    },
    {
      "cell_type": "markdown",
      "metadata": {
        "id": "z53iafhPHGH2"
      },
      "source": [
        "Kurtosis: Kurtosis is measure of tail. It tells whether the distribution is heavy tailed (with outliers) or light tailed. It indicated tail extends +/- 3 std deviation from mean.\n",
        "\n",
        "Kurtosis > 3 - Leptokurtic or heavy-tailed distribution \\ Kurtosis = 3 - Mesokurtic (kurtosis same as the normal distribution) \\ kurtosis < 3 - Platykurtic or short-tailed distribution \\"
      ]
    },
    {
      "cell_type": "code",
      "metadata": {
        "colab": {
          "base_uri": "https://localhost:8080/"
        },
        "id": "HoHhD6HiHNay",
        "outputId": "25b616f2-8ae6-4782-d4f4-8a805b5ce1e4"
      },
      "source": [
        "train_df.iloc[:, :-1].var()"
      ],
      "execution_count": null,
      "outputs": [
        {
          "output_type": "execute_result",
          "data": {
            "text/plain": [
              "VLF                  3.297033e+06\n",
              "VLF_PCT              2.813954e+02\n",
              "LF                   3.296732e+05\n",
              "LF_PCT               2.572909e+02\n",
              "LF_NU                1.700214e+01\n",
              "HF                   2.061057e+03\n",
              "HF_PCT               3.101377e+00\n",
              "HF_NU                1.700214e+01\n",
              "TP                   3.698803e+06\n",
              "LF_HF                1.302164e+05\n",
              "HF_LF                2.424399e-03\n",
              "SD1                  8.496031e+00\n",
              "SD2                  1.191814e+04\n",
              "sampen               4.284859e-02\n",
              "higuci               3.867871e-03\n",
              "condition            4.458156e-01\n",
              "MEAN_RR              1.552615e+04\n",
              "MEDIAN_RR            1.750885e+04\n",
              "SDRR                 5.947035e+03\n",
              "RMSSD                1.698071e+01\n",
              "SDSD                 1.698073e+01\n",
              "SDRR_RMSSD           2.645903e+01\n",
              "pNN25                6.716743e+01\n",
              "pNN50                9.804741e-01\n",
              "KURT                 3.205348e+00\n",
              "SKEW                 4.893306e-01\n",
              "MEAN_REL_RR          2.657734e-08\n",
              "MEDIAN_REL_RR        7.527228e-07\n",
              "SDRR_REL_RR          2.975340e-05\n",
              "RMSSD_REL_RR         1.518442e-05\n",
              "SDSD_REL_RR          1.518441e-05\n",
              "SDRR_RMSSD_REL_RR    1.412592e-01\n",
              "KURT_REL_RR          3.205348e+00\n",
              "SKEW_REL_RR          4.893306e-01\n",
              "dtype: float64"
            ]
          },
          "metadata": {
            "tags": []
          },
          "execution_count": 112
        }
      ]
    },
    {
      "cell_type": "markdown",
      "metadata": {
        "id": "PzRN2va6GA_y"
      },
      "source": [
        "VLF - Absolute power of the very low frequency band (0.0033 - 0.04 Hz)\n",
        "\n",
        "LF - Absolute power of the low frequency band (0.04 - 0.15 Hz)\n",
        "\n",
        "MEAN_REL_RR - Mean of relative RR intervals\n",
        "\n",
        "MEDIAN_REL_RR - Median of relative RR intervals\n",
        "\n",
        "SDRR_REL_RR - Standard deviation of relative RR intervals\n",
        "\n",
        "RMSSD_REL_RR - Root mean square of successive relative RR interval differences\n",
        "\n",
        "SDSD_REL_RR - Standard deviation of successive relative RR interval differences\n",
        "\n",
        "MEAN_REL_RR - Mean of relative RR intervals\n",
        "\n",
        "LF_HF - Ratio of LF to HF"
      ]
    },
    {
      "cell_type": "code",
      "metadata": {
        "colab": {
          "base_uri": "https://localhost:8080/",
          "height": 557
        },
        "id": "qf-hIL_vHXq2",
        "outputId": "c880f41e-0ef1-46c8-c3d1-0e45e6919ec3"
      },
      "source": [
        "train_df.iloc[:,:-1].boxplot(figsize=(35,15))"
      ],
      "execution_count": null,
      "outputs": [
        {
          "output_type": "execute_result",
          "data": {
            "text/plain": [
              "<matplotlib.axes._subplots.AxesSubplot at 0x7f6bb2d94198>"
            ]
          },
          "metadata": {
            "tags": []
          },
          "execution_count": 113
        },
        {
          "output_type": "display_data",
          "data": {
            "image/png": "[encoded data removed]",
            "text/plain": [
              "<Figure size 2520x1080 with 1 Axes>"
            ]
          },
          "metadata": {
            "tags": []
          }
        }
      ]
    },
    {
      "cell_type": "markdown",
      "metadata": {
        "id": "q_EbzTWYHiRa"
      },
      "source": [
        "- Outlier - Datapoints lies outside upper boundary(Q3+1.5IQR) and lower boundary(Q1-1.5IQR) is called outliers. \n",
        "IQR = Q3-Q1"
      ]
    },
    {
      "cell_type": "markdown",
      "metadata": {
        "id": "AHVKshZmHL9K"
      },
      "source": [
        "### Address Outliers with Floor at 1% and Capping at 99%¶"
      ]
    },
    {
      "cell_type": "code",
      "metadata": {
        "id": "LOjey6H3HH65"
      },
      "source": [
        "#find the outliers and replace them Floor value of 1 Percentile and Capping value of 99 Percentile for all columns except Target\n",
        "#for col_name in train_df.columns[:]:\n",
        "for col_name in train_df.iloc[:, : -1]:\n",
        "    q1 = train_df[col_name].quantile(0.25)\n",
        "    q3 = train_df[col_name].quantile(0.75)\n",
        "    iqr = q3 - q1\n",
        "    \n",
        "    #low = q1-1.5*iqr\n",
        "    #high = q3+1.5*iqr\n",
        "    \n",
        "    new_low  = train_df[col_name].quantile(0.01)      \n",
        "    new_high = train_df[col_name].quantile(0.99)\n",
        "    \n",
        "    train_df.loc[(train_df[col_name] < new_low),  col_name] = train_df[col_name].quantile(0.01)\n",
        "    train_df.loc[(train_df[col_name] > new_high), col_name] = train_df[col_name].quantile(0.99)"
      ],
      "execution_count": null,
      "outputs": []
    },
    {
      "cell_type": "code",
      "metadata": {
        "colab": {
          "base_uri": "https://localhost:8080/",
          "height": 557
        },
        "id": "mcnM0NpWH3gK",
        "outputId": "c508bebd-15e9-4716-e838-0b58dee2dc4d"
      },
      "source": [
        "train_df.iloc[:,:-1].boxplot(figsize=(35,15))"
      ],
      "execution_count": null,
      "outputs": [
        {
          "output_type": "execute_result",
          "data": {
            "text/plain": [
              "<matplotlib.axes._subplots.AxesSubplot at 0x7f6bb1ea6cc0>"
            ]
          },
          "metadata": {
            "tags": []
          },
          "execution_count": 115
        },
        {
          "output_type": "display_data",
          "data": {
            "image/png": "[encoded data removed]",
            "text/plain": [
              "<Figure size 2520x1080 with 1 Axes>"
            ]
          },
          "metadata": {
            "tags": []
          }
        }
      ]
    },
    {
      "cell_type": "code",
      "metadata": {
        "colab": {
          "base_uri": "https://localhost:8080/"
        },
        "id": "-MTD7833CHS5",
        "outputId": "5be98b9b-d787-479d-9595-a1e9c549f6ba"
      },
      "source": [
        "print(f'Kurtosis of Concrete dataset \\n{train_df.iloc[:, :-1].kurtosis()}')"
      ],
      "execution_count": null,
      "outputs": [
        {
          "output_type": "stream",
          "text": [
            "Kurtosis of Concrete dataset \n",
            "VLF                   3.171418\n",
            "VLF_PCT              -0.556084\n",
            "LF                    1.476766\n",
            "LF_PCT               -0.523522\n",
            "LF_NU                 1.946780\n",
            "HF                    4.586771\n",
            "HF_PCT                3.103844\n",
            "HF_NU                 1.946780\n",
            "TP                    1.681395\n",
            "LF_HF                25.490367\n",
            "HF_LF                 3.338177\n",
            "SD1                  -0.676799\n",
            "SD2                   3.892558\n",
            "sampen                7.323485\n",
            "higuci               -0.364822\n",
            "condition            -0.774849\n",
            "MEAN_RR               0.127554\n",
            "MEDIAN_RR             0.327161\n",
            "SDRR                  3.894848\n",
            "RMSSD                -0.677041\n",
            "SDSD                 -0.676799\n",
            "SDRR_RMSSD            5.206386\n",
            "pNN25                 0.602831\n",
            "pNN50                 0.617917\n",
            "KURT                  7.033521\n",
            "SKEW                  1.816017\n",
            "MEAN_REL_RR           2.354820\n",
            "MEDIAN_REL_RR         0.655423\n",
            "SDRR_REL_RR           0.129103\n",
            "RMSSD_REL_RR          0.845357\n",
            "SDSD_REL_RR           0.845363\n",
            "SDRR_RMSSD_REL_RR     0.528124\n",
            "KURT_REL_RR           7.033521\n",
            "SKEW_REL_RR           1.816017\n",
            "dtype: float64\n"
          ],
          "name": "stdout"
        }
      ]
    },
    {
      "cell_type": "code",
      "metadata": {
        "colab": {
          "base_uri": "https://localhost:8080/",
          "height": 1000
        },
        "id": "rNWD6NhlH24g",
        "outputId": "8c46099a-f4ae-4184-d2c7-425029cfbec1"
      },
      "source": [
        "pd.options.display.max_columns = None\n",
        "pd.options.display.max_rows = None\n",
        "\n",
        "train_df.corr()"
      ],
      "execution_count": null,
      "outputs": [
        {
          "output_type": "execute_result",
          "data": {
            "text/html": [
              "<div>\n",
              "<style scoped>\n",
              "    .dataframe tbody tr th:only-of-type {\n",
              "        vertical-align: middle;\n",
              "    }\n",
              "\n",
              "    .dataframe tbody tr th {\n",
              "        vertical-align: top;\n",
              "    }\n",
              "\n",
              "    .dataframe thead th {\n",
              "        text-align: right;\n",
              "    }\n",
              "</style>\n",
              "<table border=\"1\" class=\"dataframe\">\n",
              "  <thead>\n",
              "    <tr style=\"text-align: right;\">\n",
              "      <th></th>\n",
              "      <th>VLF</th>\n",
              "      <th>VLF_PCT</th>\n",
              "      <th>LF</th>\n",
              "      <th>LF_PCT</th>\n",
              "      <th>LF_NU</th>\n",
              "      <th>HF</th>\n",
              "      <th>HF_PCT</th>\n",
              "      <th>HF_NU</th>\n",
              "      <th>TP</th>\n",
              "      <th>LF_HF</th>\n",
              "      <th>HF_LF</th>\n",
              "      <th>SD1</th>\n",
              "      <th>SD2</th>\n",
              "      <th>sampen</th>\n",
              "      <th>higuci</th>\n",
              "      <th>condition</th>\n",
              "      <th>MEAN_RR</th>\n",
              "      <th>MEDIAN_RR</th>\n",
              "      <th>SDRR</th>\n",
              "      <th>RMSSD</th>\n",
              "      <th>SDSD</th>\n",
              "      <th>SDRR_RMSSD</th>\n",
              "      <th>pNN25</th>\n",
              "      <th>pNN50</th>\n",
              "      <th>KURT</th>\n",
              "      <th>SKEW</th>\n",
              "      <th>MEAN_REL_RR</th>\n",
              "      <th>MEDIAN_REL_RR</th>\n",
              "      <th>SDRR_REL_RR</th>\n",
              "      <th>RMSSD_REL_RR</th>\n",
              "      <th>SDSD_REL_RR</th>\n",
              "      <th>SDRR_RMSSD_REL_RR</th>\n",
              "      <th>KURT_REL_RR</th>\n",
              "      <th>SKEW_REL_RR</th>\n",
              "      <th>HR</th>\n",
              "    </tr>\n",
              "  </thead>\n",
              "  <tbody>\n",
              "    <tr>\n",
              "      <th>VLF</th>\n",
              "      <td>1.000000</td>\n",
              "      <td>0.684638</td>\n",
              "      <td>0.030261</td>\n",
              "      <td>-0.672467</td>\n",
              "      <td>0.115727</td>\n",
              "      <td>-0.016413</td>\n",
              "      <td>-0.406072</td>\n",
              "      <td>-0.115727</td>\n",
              "      <td>0.949259</td>\n",
              "      <td>0.178854</td>\n",
              "      <td>-0.106478</td>\n",
              "      <td>0.346411</td>\n",
              "      <td>0.828962</td>\n",
              "      <td>-0.307999</td>\n",
              "      <td>-0.575575</td>\n",
              "      <td>0.128435</td>\n",
              "      <td>0.508111</td>\n",
              "      <td>0.412712</td>\n",
              "      <td>0.828913</td>\n",
              "      <td>0.346580</td>\n",
              "      <td>0.346411</td>\n",
              "      <td>0.698237</td>\n",
              "      <td>0.199883</td>\n",
              "      <td>0.542126</td>\n",
              "      <td>-0.054678</td>\n",
              "      <td>0.242725</td>\n",
              "      <td>-0.031677</td>\n",
              "      <td>0.238506</td>\n",
              "      <td>0.243856</td>\n",
              "      <td>0.087431</td>\n",
              "      <td>0.087431</td>\n",
              "      <td>0.308905</td>\n",
              "      <td>-0.054678</td>\n",
              "      <td>0.242725</td>\n",
              "      <td>-0.310001</td>\n",
              "    </tr>\n",
              "    <tr>\n",
              "      <th>VLF_PCT</th>\n",
              "      <td>0.684638</td>\n",
              "      <td>1.000000</td>\n",
              "      <td>-0.539210</td>\n",
              "      <td>-0.995216</td>\n",
              "      <td>0.048981</td>\n",
              "      <td>-0.295905</td>\n",
              "      <td>-0.470869</td>\n",
              "      <td>-0.048981</td>\n",
              "      <td>0.472513</td>\n",
              "      <td>0.112399</td>\n",
              "      <td>-0.044688</td>\n",
              "      <td>-0.276177</td>\n",
              "      <td>0.588456</td>\n",
              "      <td>-0.404884</td>\n",
              "      <td>-0.550782</td>\n",
              "      <td>0.209150</td>\n",
              "      <td>0.386064</td>\n",
              "      <td>0.309042</td>\n",
              "      <td>0.586986</td>\n",
              "      <td>-0.276016</td>\n",
              "      <td>-0.276177</td>\n",
              "      <td>0.689315</td>\n",
              "      <td>-0.380514</td>\n",
              "      <td>0.005889</td>\n",
              "      <td>0.098420</td>\n",
              "      <td>0.230641</td>\n",
              "      <td>0.001165</td>\n",
              "      <td>0.590379</td>\n",
              "      <td>-0.342066</td>\n",
              "      <td>-0.338964</td>\n",
              "      <td>-0.338964</td>\n",
              "      <td>0.277164</td>\n",
              "      <td>0.098420</td>\n",
              "      <td>0.230641</td>\n",
              "      <td>-0.253837</td>\n",
              "    </tr>\n",
              "    <tr>\n",
              "      <th>LF</th>\n",
              "      <td>0.030261</td>\n",
              "      <td>-0.539210</td>\n",
              "      <td>1.000000</td>\n",
              "      <td>0.568108</td>\n",
              "      <td>0.256760</td>\n",
              "      <td>0.328320</td>\n",
              "      <td>-0.034821</td>\n",
              "      <td>-0.256760</td>\n",
              "      <td>0.341635</td>\n",
              "      <td>0.178177</td>\n",
              "      <td>-0.249061</td>\n",
              "      <td>0.886321</td>\n",
              "      <td>-0.005603</td>\n",
              "      <td>0.221756</td>\n",
              "      <td>0.033664</td>\n",
              "      <td>-0.202302</td>\n",
              "      <td>0.086934</td>\n",
              "      <td>0.102151</td>\n",
              "      <td>-0.003495</td>\n",
              "      <td>0.886265</td>\n",
              "      <td>0.886321</td>\n",
              "      <td>-0.283164</td>\n",
              "      <td>0.914401</td>\n",
              "      <td>0.666731</td>\n",
              "      <td>-0.158436</td>\n",
              "      <td>-0.075515</td>\n",
              "      <td>-0.022970</td>\n",
              "      <td>-0.553553</td>\n",
              "      <td>0.783767</td>\n",
              "      <td>0.532172</td>\n",
              "      <td>0.532171</td>\n",
              "      <td>0.082281</td>\n",
              "      <td>-0.158436</td>\n",
              "      <td>-0.075515</td>\n",
              "      <td>-0.099494</td>\n",
              "    </tr>\n",
              "    <tr>\n",
              "      <th>LF_PCT</th>\n",
              "      <td>-0.672467</td>\n",
              "      <td>-0.995216</td>\n",
              "      <td>0.568108</td>\n",
              "      <td>1.000000</td>\n",
              "      <td>0.041111</td>\n",
              "      <td>0.230549</td>\n",
              "      <td>0.383082</td>\n",
              "      <td>-0.041111</td>\n",
              "      <td>-0.453881</td>\n",
              "      <td>-0.082041</td>\n",
              "      <td>-0.045712</td>\n",
              "      <td>0.297001</td>\n",
              "      <td>-0.583849</td>\n",
              "      <td>0.424946</td>\n",
              "      <td>0.496095</td>\n",
              "      <td>-0.208684</td>\n",
              "      <td>-0.332608</td>\n",
              "      <td>-0.256138</td>\n",
              "      <td>-0.582348</td>\n",
              "      <td>0.296840</td>\n",
              "      <td>0.297001</td>\n",
              "      <td>-0.689637</td>\n",
              "      <td>0.405361</td>\n",
              "      <td>-0.003563</td>\n",
              "      <td>-0.115734</td>\n",
              "      <td>-0.241476</td>\n",
              "      <td>-0.003155</td>\n",
              "      <td>-0.604883</td>\n",
              "      <td>0.326522</td>\n",
              "      <td>0.294138</td>\n",
              "      <td>0.294138</td>\n",
              "      <td>-0.214213</td>\n",
              "      <td>-0.115734</td>\n",
              "      <td>-0.241476</td>\n",
              "      <td>0.193333</td>\n",
              "    </tr>\n",
              "    <tr>\n",
              "      <th>LF_NU</th>\n",
              "      <td>0.115727</td>\n",
              "      <td>0.048981</td>\n",
              "      <td>0.256760</td>\n",
              "      <td>0.041111</td>\n",
              "      <td>1.000000</td>\n",
              "      <td>-0.732800</td>\n",
              "      <td>-0.841603</td>\n",
              "      <td>-1.000000</td>\n",
              "      <td>0.169448</td>\n",
              "      <td>0.385904</td>\n",
              "      <td>-0.997864</td>\n",
              "      <td>0.197233</td>\n",
              "      <td>0.005791</td>\n",
              "      <td>0.320513</td>\n",
              "      <td>-0.582569</td>\n",
              "      <td>0.065263</td>\n",
              "      <td>0.644024</td>\n",
              "      <td>0.653057</td>\n",
              "      <td>0.006087</td>\n",
              "      <td>0.197211</td>\n",
              "      <td>0.197233</td>\n",
              "      <td>-0.044984</td>\n",
              "      <td>0.235163</td>\n",
              "      <td>-0.007580</td>\n",
              "      <td>-0.244115</td>\n",
              "      <td>-0.214524</td>\n",
              "      <td>-0.038273</td>\n",
              "      <td>-0.132025</td>\n",
              "      <td>-0.234625</td>\n",
              "      <td>-0.565880</td>\n",
              "      <td>-0.565880</td>\n",
              "      <td>0.778129</td>\n",
              "      <td>-0.244115</td>\n",
              "      <td>-0.214524</td>\n",
              "      <td>-0.728844</td>\n",
              "    </tr>\n",
              "    <tr>\n",
              "      <th>HF</th>\n",
              "      <td>-0.016413</td>\n",
              "      <td>-0.295905</td>\n",
              "      <td>0.328320</td>\n",
              "      <td>0.230549</td>\n",
              "      <td>-0.732800</td>\n",
              "      <td>1.000000</td>\n",
              "      <td>0.716365</td>\n",
              "      <td>0.732800</td>\n",
              "      <td>0.109476</td>\n",
              "      <td>-0.303281</td>\n",
              "      <td>0.736728</td>\n",
              "      <td>0.337811</td>\n",
              "      <td>0.057301</td>\n",
              "      <td>-0.188149</td>\n",
              "      <td>0.440532</td>\n",
              "      <td>-0.105178</td>\n",
              "      <td>-0.562246</td>\n",
              "      <td>-0.568625</td>\n",
              "      <td>0.058180</td>\n",
              "      <td>0.337810</td>\n",
              "      <td>0.337811</td>\n",
              "      <td>-0.056895</td>\n",
              "      <td>0.271944</td>\n",
              "      <td>0.415757</td>\n",
              "      <td>0.098145</td>\n",
              "      <td>0.195303</td>\n",
              "      <td>0.017048</td>\n",
              "      <td>-0.174381</td>\n",
              "      <td>0.741303</td>\n",
              "      <td>0.886041</td>\n",
              "      <td>0.886041</td>\n",
              "      <td>-0.597573</td>\n",
              "      <td>0.098145</td>\n",
              "      <td>0.195303</td>\n",
              "      <td>0.652111</td>\n",
              "    </tr>\n",
              "    <tr>\n",
              "      <th>HF_PCT</th>\n",
              "      <td>-0.406072</td>\n",
              "      <td>-0.470869</td>\n",
              "      <td>-0.034821</td>\n",
              "      <td>0.383082</td>\n",
              "      <td>-0.841603</td>\n",
              "      <td>0.716365</td>\n",
              "      <td>1.000000</td>\n",
              "      <td>0.841603</td>\n",
              "      <td>-0.374974</td>\n",
              "      <td>-0.331900</td>\n",
              "      <td>0.839592</td>\n",
              "      <td>-0.081445</td>\n",
              "      <td>-0.294125</td>\n",
              "      <td>-0.014407</td>\n",
              "      <td>0.737169</td>\n",
              "      <td>-0.095797</td>\n",
              "      <td>-0.661895</td>\n",
              "      <td>-0.624998</td>\n",
              "      <td>-0.293800</td>\n",
              "      <td>-0.081509</td>\n",
              "      <td>-0.081445</td>\n",
              "      <td>-0.289406</td>\n",
              "      <td>-0.067822</td>\n",
              "      <td>-0.033316</td>\n",
              "      <td>0.117774</td>\n",
              "      <td>0.012639</td>\n",
              "      <td>0.018374</td>\n",
              "      <td>-0.114485</td>\n",
              "      <td>0.281507</td>\n",
              "      <td>0.550504</td>\n",
              "      <td>0.550505</td>\n",
              "      <td>-0.701847</td>\n",
              "      <td>0.117774</td>\n",
              "      <td>0.012639</td>\n",
              "      <td>0.670143</td>\n",
              "    </tr>\n",
              "    <tr>\n",
              "      <th>HF_NU</th>\n",
              "      <td>-0.115727</td>\n",
              "      <td>-0.048981</td>\n",
              "      <td>-0.256760</td>\n",
              "      <td>-0.041111</td>\n",
              "      <td>-1.000000</td>\n",
              "      <td>0.732800</td>\n",
              "      <td>0.841603</td>\n",
              "      <td>1.000000</td>\n",
              "      <td>-0.169448</td>\n",
              "      <td>-0.385904</td>\n",
              "      <td>0.997864</td>\n",
              "      <td>-0.197233</td>\n",
              "      <td>-0.005791</td>\n",
              "      <td>-0.320513</td>\n",
              "      <td>0.582569</td>\n",
              "      <td>-0.065263</td>\n",
              "      <td>-0.644024</td>\n",
              "      <td>-0.653057</td>\n",
              "      <td>-0.006087</td>\n",
              "      <td>-0.197211</td>\n",
              "      <td>-0.197233</td>\n",
              "      <td>0.044984</td>\n",
              "      <td>-0.235163</td>\n",
              "      <td>0.007580</td>\n",
              "      <td>0.244115</td>\n",
              "      <td>0.214524</td>\n",
              "      <td>0.038273</td>\n",
              "      <td>0.132025</td>\n",
              "      <td>0.234625</td>\n",
              "      <td>0.565880</td>\n",
              "      <td>0.565880</td>\n",
              "      <td>-0.778129</td>\n",
              "      <td>0.244115</td>\n",
              "      <td>0.214524</td>\n",
              "      <td>0.728844</td>\n",
              "    </tr>\n",
              "    <tr>\n",
              "      <th>TP</th>\n",
              "      <td>0.949259</td>\n",
              "      <td>0.472513</td>\n",
              "      <td>0.341635</td>\n",
              "      <td>-0.453881</td>\n",
              "      <td>0.169448</td>\n",
              "      <td>0.109476</td>\n",
              "      <td>-0.374974</td>\n",
              "      <td>-0.169448</td>\n",
              "      <td>1.000000</td>\n",
              "      <td>0.215903</td>\n",
              "      <td>-0.158212</td>\n",
              "      <td>0.604533</td>\n",
              "      <td>0.779753</td>\n",
              "      <td>-0.225957</td>\n",
              "      <td>-0.520725</td>\n",
              "      <td>0.057945</td>\n",
              "      <td>0.491406</td>\n",
              "      <td>0.406406</td>\n",
              "      <td>0.780372</td>\n",
              "      <td>0.604675</td>\n",
              "      <td>0.604533</td>\n",
              "      <td>0.569582</td>\n",
              "      <td>0.473968</td>\n",
              "      <td>0.724087</td>\n",
              "      <td>-0.097670</td>\n",
              "      <td>0.210086</td>\n",
              "      <td>-0.036468</td>\n",
              "      <td>0.051066</td>\n",
              "      <td>0.486660</td>\n",
              "      <td>0.266360</td>\n",
              "      <td>0.266360</td>\n",
              "      <td>0.301475</td>\n",
              "      <td>-0.097670</td>\n",
              "      <td>0.210086</td>\n",
              "      <td>-0.306428</td>\n",
              "    </tr>\n",
              "    <tr>\n",
              "      <th>LF_HF</th>\n",
              "      <td>0.178854</td>\n",
              "      <td>0.112399</td>\n",
              "      <td>0.178177</td>\n",
              "      <td>-0.082041</td>\n",
              "      <td>0.385904</td>\n",
              "      <td>-0.303281</td>\n",
              "      <td>-0.331900</td>\n",
              "      <td>-0.385904</td>\n",
              "      <td>0.215903</td>\n",
              "      <td>1.000000</td>\n",
              "      <td>-0.363524</td>\n",
              "      <td>0.259950</td>\n",
              "      <td>0.040007</td>\n",
              "      <td>0.151598</td>\n",
              "      <td>-0.314640</td>\n",
              "      <td>0.022254</td>\n",
              "      <td>0.559975</td>\n",
              "      <td>0.560413</td>\n",
              "      <td>0.040330</td>\n",
              "      <td>0.259928</td>\n",
              "      <td>0.259950</td>\n",
              "      <td>-0.048082</td>\n",
              "      <td>0.285760</td>\n",
              "      <td>0.137749</td>\n",
              "      <td>-0.117823</td>\n",
              "      <td>-0.113713</td>\n",
              "      <td>0.003533</td>\n",
              "      <td>-0.092274</td>\n",
              "      <td>-0.061825</td>\n",
              "      <td>-0.249122</td>\n",
              "      <td>-0.249123</td>\n",
              "      <td>0.534467</td>\n",
              "      <td>-0.117823</td>\n",
              "      <td>-0.113713</td>\n",
              "      <td>-0.520887</td>\n",
              "    </tr>\n",
              "    <tr>\n",
              "      <th>HF_LF</th>\n",
              "      <td>-0.106478</td>\n",
              "      <td>-0.044688</td>\n",
              "      <td>-0.249061</td>\n",
              "      <td>-0.045712</td>\n",
              "      <td>-0.997864</td>\n",
              "      <td>0.736728</td>\n",
              "      <td>0.839592</td>\n",
              "      <td>0.997864</td>\n",
              "      <td>-0.158212</td>\n",
              "      <td>-0.363524</td>\n",
              "      <td>1.000000</td>\n",
              "      <td>-0.181048</td>\n",
              "      <td>-0.002514</td>\n",
              "      <td>-0.316315</td>\n",
              "      <td>0.573798</td>\n",
              "      <td>-0.064355</td>\n",
              "      <td>-0.624129</td>\n",
              "      <td>-0.632448</td>\n",
              "      <td>-0.002795</td>\n",
              "      <td>-0.181029</td>\n",
              "      <td>-0.181048</td>\n",
              "      <td>0.042195</td>\n",
              "      <td>-0.222500</td>\n",
              "      <td>0.018942</td>\n",
              "      <td>0.238701</td>\n",
              "      <td>0.209809</td>\n",
              "      <td>0.037345</td>\n",
              "      <td>0.128249</td>\n",
              "      <td>0.242659</td>\n",
              "      <td>0.567725</td>\n",
              "      <td>0.567726</td>\n",
              "      <td>-0.756440</td>\n",
              "      <td>0.238701</td>\n",
              "      <td>0.209809</td>\n",
              "      <td>0.712105</td>\n",
              "    </tr>\n",
              "    <tr>\n",
              "      <th>SD1</th>\n",
              "      <td>0.346411</td>\n",
              "      <td>-0.276177</td>\n",
              "      <td>0.886321</td>\n",
              "      <td>0.297001</td>\n",
              "      <td>0.197233</td>\n",
              "      <td>0.337811</td>\n",
              "      <td>-0.081445</td>\n",
              "      <td>-0.197233</td>\n",
              "      <td>0.604533</td>\n",
              "      <td>0.259950</td>\n",
              "      <td>-0.181048</td>\n",
              "      <td>1.000000</td>\n",
              "      <td>0.282019</td>\n",
              "      <td>0.126792</td>\n",
              "      <td>-0.007287</td>\n",
              "      <td>-0.126896</td>\n",
              "      <td>0.339390</td>\n",
              "      <td>0.328321</td>\n",
              "      <td>0.284117</td>\n",
              "      <td>1.000000</td>\n",
              "      <td>1.000000</td>\n",
              "      <td>-0.050979</td>\n",
              "      <td>0.952735</td>\n",
              "      <td>0.794925</td>\n",
              "      <td>-0.193509</td>\n",
              "      <td>-0.051484</td>\n",
              "      <td>-0.025330</td>\n",
              "      <td>-0.440560</td>\n",
              "      <td>0.835585</td>\n",
              "      <td>0.589343</td>\n",
              "      <td>0.589342</td>\n",
              "      <td>0.103240</td>\n",
              "      <td>-0.193509</td>\n",
              "      <td>-0.051484</td>\n",
              "      <td>-0.285495</td>\n",
              "    </tr>\n",
              "    <tr>\n",
              "      <th>SD2</th>\n",
              "      <td>0.828962</td>\n",
              "      <td>0.588456</td>\n",
              "      <td>-0.005603</td>\n",
              "      <td>-0.583849</td>\n",
              "      <td>0.005791</td>\n",
              "      <td>0.057301</td>\n",
              "      <td>-0.294125</td>\n",
              "      <td>-0.005791</td>\n",
              "      <td>0.779753</td>\n",
              "      <td>0.040007</td>\n",
              "      <td>-0.002514</td>\n",
              "      <td>0.282019</td>\n",
              "      <td>1.000000</td>\n",
              "      <td>-0.531214</td>\n",
              "      <td>-0.479301</td>\n",
              "      <td>0.090919</td>\n",
              "      <td>0.455038</td>\n",
              "      <td>0.307875</td>\n",
              "      <td>0.999997</td>\n",
              "      <td>0.282318</td>\n",
              "      <td>0.282019</td>\n",
              "      <td>0.926224</td>\n",
              "      <td>0.150057</td>\n",
              "      <td>0.500339</td>\n",
              "      <td>-0.098395</td>\n",
              "      <td>0.295227</td>\n",
              "      <td>-0.003075</td>\n",
              "      <td>0.198319</td>\n",
              "      <td>0.257871</td>\n",
              "      <td>0.174248</td>\n",
              "      <td>0.174248</td>\n",
              "      <td>0.123396</td>\n",
              "      <td>-0.098395</td>\n",
              "      <td>0.295227</td>\n",
              "      <td>-0.204954</td>\n",
              "    </tr>\n",
              "    <tr>\n",
              "      <th>sampen</th>\n",
              "      <td>-0.307999</td>\n",
              "      <td>-0.404884</td>\n",
              "      <td>0.221756</td>\n",
              "      <td>0.424946</td>\n",
              "      <td>0.320513</td>\n",
              "      <td>-0.188149</td>\n",
              "      <td>-0.014407</td>\n",
              "      <td>-0.320513</td>\n",
              "      <td>-0.225957</td>\n",
              "      <td>0.151598</td>\n",
              "      <td>-0.316315</td>\n",
              "      <td>0.126792</td>\n",
              "      <td>-0.531214</td>\n",
              "      <td>1.000000</td>\n",
              "      <td>0.076582</td>\n",
              "      <td>-0.081879</td>\n",
              "      <td>0.134252</td>\n",
              "      <td>0.269965</td>\n",
              "      <td>-0.530626</td>\n",
              "      <td>0.126553</td>\n",
              "      <td>0.126792</td>\n",
              "      <td>-0.646022</td>\n",
              "      <td>0.183201</td>\n",
              "      <td>-0.116978</td>\n",
              "      <td>-0.521512</td>\n",
              "      <td>-0.526077</td>\n",
              "      <td>-0.041210</td>\n",
              "      <td>-0.261362</td>\n",
              "      <td>-0.057750</td>\n",
              "      <td>-0.163343</td>\n",
              "      <td>-0.163343</td>\n",
              "      <td>0.230844</td>\n",
              "      <td>-0.521512</td>\n",
              "      <td>-0.526077</td>\n",
              "      <td>-0.312433</td>\n",
              "    </tr>\n",
              "    <tr>\n",
              "      <th>higuci</th>\n",
              "      <td>-0.575575</td>\n",
              "      <td>-0.550782</td>\n",
              "      <td>0.033664</td>\n",
              "      <td>0.496095</td>\n",
              "      <td>-0.582569</td>\n",
              "      <td>0.440532</td>\n",
              "      <td>0.737169</td>\n",
              "      <td>0.582569</td>\n",
              "      <td>-0.520725</td>\n",
              "      <td>-0.314640</td>\n",
              "      <td>0.573798</td>\n",
              "      <td>-0.007287</td>\n",
              "      <td>-0.479301</td>\n",
              "      <td>0.076582</td>\n",
              "      <td>1.000000</td>\n",
              "      <td>-0.155308</td>\n",
              "      <td>-0.514374</td>\n",
              "      <td>-0.459408</td>\n",
              "      <td>-0.478681</td>\n",
              "      <td>-0.007405</td>\n",
              "      <td>-0.007287</td>\n",
              "      <td>-0.490592</td>\n",
              "      <td>0.057766</td>\n",
              "      <td>-0.156121</td>\n",
              "      <td>0.145145</td>\n",
              "      <td>-0.085579</td>\n",
              "      <td>0.030493</td>\n",
              "      <td>-0.206083</td>\n",
              "      <td>0.180693</td>\n",
              "      <td>0.442812</td>\n",
              "      <td>0.442812</td>\n",
              "      <td>-0.765840</td>\n",
              "      <td>0.145145</td>\n",
              "      <td>-0.085579</td>\n",
              "      <td>0.420191</td>\n",
              "    </tr>\n",
              "    <tr>\n",
              "      <th>condition</th>\n",
              "      <td>0.128435</td>\n",
              "      <td>0.209150</td>\n",
              "      <td>-0.202302</td>\n",
              "      <td>-0.208684</td>\n",
              "      <td>0.065263</td>\n",
              "      <td>-0.105178</td>\n",
              "      <td>-0.095797</td>\n",
              "      <td>-0.065263</td>\n",
              "      <td>0.057945</td>\n",
              "      <td>0.022254</td>\n",
              "      <td>-0.064355</td>\n",
              "      <td>-0.126896</td>\n",
              "      <td>0.090919</td>\n",
              "      <td>-0.081879</td>\n",
              "      <td>-0.155308</td>\n",
              "      <td>1.000000</td>\n",
              "      <td>0.118725</td>\n",
              "      <td>0.115627</td>\n",
              "      <td>0.090389</td>\n",
              "      <td>-0.126877</td>\n",
              "      <td>-0.126896</td>\n",
              "      <td>0.123172</td>\n",
              "      <td>-0.183549</td>\n",
              "      <td>-0.044390</td>\n",
              "      <td>0.113334</td>\n",
              "      <td>0.054457</td>\n",
              "      <td>-0.019547</td>\n",
              "      <td>0.110873</td>\n",
              "      <td>-0.152896</td>\n",
              "      <td>-0.150594</td>\n",
              "      <td>-0.150594</td>\n",
              "      <td>0.124742</td>\n",
              "      <td>0.113334</td>\n",
              "      <td>0.054457</td>\n",
              "      <td>-0.090163</td>\n",
              "    </tr>\n",
              "    <tr>\n",
              "      <th>MEAN_RR</th>\n",
              "      <td>0.508111</td>\n",
              "      <td>0.386064</td>\n",
              "      <td>0.086934</td>\n",
              "      <td>-0.332608</td>\n",
              "      <td>0.644024</td>\n",
              "      <td>-0.562246</td>\n",
              "      <td>-0.661895</td>\n",
              "      <td>-0.644024</td>\n",
              "      <td>0.491406</td>\n",
              "      <td>0.559975</td>\n",
              "      <td>-0.624129</td>\n",
              "      <td>0.339390</td>\n",
              "      <td>0.455038</td>\n",
              "      <td>0.134252</td>\n",
              "      <td>-0.514374</td>\n",
              "      <td>0.118725</td>\n",
              "      <td>1.000000</td>\n",
              "      <td>0.966169</td>\n",
              "      <td>0.455355</td>\n",
              "      <td>0.339487</td>\n",
              "      <td>0.339390</td>\n",
              "      <td>0.329486</td>\n",
              "      <td>0.296080</td>\n",
              "      <td>0.252273</td>\n",
              "      <td>-0.316282</td>\n",
              "      <td>-0.197623</td>\n",
              "      <td>-0.018983</td>\n",
              "      <td>0.006882</td>\n",
              "      <td>-0.139385</td>\n",
              "      <td>-0.392773</td>\n",
              "      <td>-0.392774</td>\n",
              "      <td>0.657087</td>\n",
              "      <td>-0.316282</td>\n",
              "      <td>-0.197623</td>\n",
              "      <td>-0.946524</td>\n",
              "    </tr>\n",
              "    <tr>\n",
              "      <th>MEDIAN_RR</th>\n",
              "      <td>0.412712</td>\n",
              "      <td>0.309042</td>\n",
              "      <td>0.102151</td>\n",
              "      <td>-0.256138</td>\n",
              "      <td>0.653057</td>\n",
              "      <td>-0.568625</td>\n",
              "      <td>-0.624998</td>\n",
              "      <td>-0.653057</td>\n",
              "      <td>0.406406</td>\n",
              "      <td>0.560413</td>\n",
              "      <td>-0.632448</td>\n",
              "      <td>0.328321</td>\n",
              "      <td>0.307875</td>\n",
              "      <td>0.269965</td>\n",
              "      <td>-0.459408</td>\n",
              "      <td>0.115627</td>\n",
              "      <td>0.966169</td>\n",
              "      <td>1.000000</td>\n",
              "      <td>0.308191</td>\n",
              "      <td>0.328350</td>\n",
              "      <td>0.328321</td>\n",
              "      <td>0.176296</td>\n",
              "      <td>0.291908</td>\n",
              "      <td>0.209021</td>\n",
              "      <td>-0.307938</td>\n",
              "      <td>-0.325020</td>\n",
              "      <td>-0.022359</td>\n",
              "      <td>-0.016794</td>\n",
              "      <td>-0.149942</td>\n",
              "      <td>-0.398700</td>\n",
              "      <td>-0.398700</td>\n",
              "      <td>0.651170</td>\n",
              "      <td>-0.307938</td>\n",
              "      <td>-0.325020</td>\n",
              "      <td>-0.948428</td>\n",
              "    </tr>\n",
              "    <tr>\n",
              "      <th>SDRR</th>\n",
              "      <td>0.828913</td>\n",
              "      <td>0.586986</td>\n",
              "      <td>-0.003495</td>\n",
              "      <td>-0.582348</td>\n",
              "      <td>0.006087</td>\n",
              "      <td>0.058180</td>\n",
              "      <td>-0.293800</td>\n",
              "      <td>-0.006087</td>\n",
              "      <td>0.780372</td>\n",
              "      <td>0.040330</td>\n",
              "      <td>-0.002795</td>\n",
              "      <td>0.284117</td>\n",
              "      <td>0.999997</td>\n",
              "      <td>-0.530626</td>\n",
              "      <td>-0.478681</td>\n",
              "      <td>0.090389</td>\n",
              "      <td>0.455355</td>\n",
              "      <td>0.308191</td>\n",
              "      <td>1.000000</td>\n",
              "      <td>0.284416</td>\n",
              "      <td>0.284117</td>\n",
              "      <td>0.925568</td>\n",
              "      <td>0.152272</td>\n",
              "      <td>0.501689</td>\n",
              "      <td>-0.098942</td>\n",
              "      <td>0.294991</td>\n",
              "      <td>-0.003073</td>\n",
              "      <td>0.196837</td>\n",
              "      <td>0.259694</td>\n",
              "      <td>0.175643</td>\n",
              "      <td>0.175643</td>\n",
              "      <td>0.123268</td>\n",
              "      <td>-0.098942</td>\n",
              "      <td>0.294991</td>\n",
              "      <td>-0.205287</td>\n",
              "    </tr>\n",
              "    <tr>\n",
              "      <th>RMSSD</th>\n",
              "      <td>0.346580</td>\n",
              "      <td>-0.276016</td>\n",
              "      <td>0.886265</td>\n",
              "      <td>0.296840</td>\n",
              "      <td>0.197211</td>\n",
              "      <td>0.337810</td>\n",
              "      <td>-0.081509</td>\n",
              "      <td>-0.197211</td>\n",
              "      <td>0.604675</td>\n",
              "      <td>0.259928</td>\n",
              "      <td>-0.181029</td>\n",
              "      <td>1.000000</td>\n",
              "      <td>0.282318</td>\n",
              "      <td>0.126553</td>\n",
              "      <td>-0.007405</td>\n",
              "      <td>-0.126877</td>\n",
              "      <td>0.339487</td>\n",
              "      <td>0.328350</td>\n",
              "      <td>0.284416</td>\n",
              "      <td>1.000000</td>\n",
              "      <td>1.000000</td>\n",
              "      <td>-0.050668</td>\n",
              "      <td>0.952713</td>\n",
              "      <td>0.794998</td>\n",
              "      <td>-0.193502</td>\n",
              "      <td>-0.051369</td>\n",
              "      <td>-0.025313</td>\n",
              "      <td>-0.440492</td>\n",
              "      <td>0.835595</td>\n",
              "      <td>0.589360</td>\n",
              "      <td>0.589359</td>\n",
              "      <td>0.103234</td>\n",
              "      <td>-0.193502</td>\n",
              "      <td>-0.051369</td>\n",
              "      <td>-0.285506</td>\n",
              "    </tr>\n",
              "    <tr>\n",
              "      <th>SDSD</th>\n",
              "      <td>0.346411</td>\n",
              "      <td>-0.276177</td>\n",
              "      <td>0.886321</td>\n",
              "      <td>0.297001</td>\n",
              "      <td>0.197233</td>\n",
              "      <td>0.337811</td>\n",
              "      <td>-0.081445</td>\n",
              "      <td>-0.197233</td>\n",
              "      <td>0.604533</td>\n",
              "      <td>0.259950</td>\n",
              "      <td>-0.181048</td>\n",
              "      <td>1.000000</td>\n",
              "      <td>0.282019</td>\n",
              "      <td>0.126792</td>\n",
              "      <td>-0.007287</td>\n",
              "      <td>-0.126896</td>\n",
              "      <td>0.339390</td>\n",
              "      <td>0.328321</td>\n",
              "      <td>0.284117</td>\n",
              "      <td>1.000000</td>\n",
              "      <td>1.000000</td>\n",
              "      <td>-0.050979</td>\n",
              "      <td>0.952735</td>\n",
              "      <td>0.794925</td>\n",
              "      <td>-0.193509</td>\n",
              "      <td>-0.051484</td>\n",
              "      <td>-0.025330</td>\n",
              "      <td>-0.440560</td>\n",
              "      <td>0.835585</td>\n",
              "      <td>0.589343</td>\n",
              "      <td>0.589342</td>\n",
              "      <td>0.103240</td>\n",
              "      <td>-0.193509</td>\n",
              "      <td>-0.051484</td>\n",
              "      <td>-0.285495</td>\n",
              "    </tr>\n",
              "    <tr>\n",
              "      <th>SDRR_RMSSD</th>\n",
              "      <td>0.698237</td>\n",
              "      <td>0.689315</td>\n",
              "      <td>-0.283164</td>\n",
              "      <td>-0.689637</td>\n",
              "      <td>-0.044984</td>\n",
              "      <td>-0.056895</td>\n",
              "      <td>-0.289406</td>\n",
              "      <td>0.044984</td>\n",
              "      <td>0.569582</td>\n",
              "      <td>-0.048082</td>\n",
              "      <td>0.042195</td>\n",
              "      <td>-0.050979</td>\n",
              "      <td>0.926224</td>\n",
              "      <td>-0.646022</td>\n",
              "      <td>-0.490592</td>\n",
              "      <td>0.123172</td>\n",
              "      <td>0.329486</td>\n",
              "      <td>0.176296</td>\n",
              "      <td>0.925568</td>\n",
              "      <td>-0.050668</td>\n",
              "      <td>-0.050979</td>\n",
              "      <td>1.000000</td>\n",
              "      <td>-0.145295</td>\n",
              "      <td>0.228959</td>\n",
              "      <td>-0.014173</td>\n",
              "      <td>0.354779</td>\n",
              "      <td>0.019918</td>\n",
              "      <td>0.327483</td>\n",
              "      <td>-0.020659</td>\n",
              "      <td>-0.020851</td>\n",
              "      <td>-0.020851</td>\n",
              "      <td>0.087735</td>\n",
              "      <td>-0.014173</td>\n",
              "      <td>0.354779</td>\n",
              "      <td>-0.091455</td>\n",
              "    </tr>\n",
              "    <tr>\n",
              "      <th>pNN25</th>\n",
              "      <td>0.199883</td>\n",
              "      <td>-0.380514</td>\n",
              "      <td>0.914401</td>\n",
              "      <td>0.405361</td>\n",
              "      <td>0.235163</td>\n",
              "      <td>0.271944</td>\n",
              "      <td>-0.067822</td>\n",
              "      <td>-0.235163</td>\n",
              "      <td>0.473968</td>\n",
              "      <td>0.285760</td>\n",
              "      <td>-0.222500</td>\n",
              "      <td>0.952735</td>\n",
              "      <td>0.150057</td>\n",
              "      <td>0.183201</td>\n",
              "      <td>0.057766</td>\n",
              "      <td>-0.183549</td>\n",
              "      <td>0.296080</td>\n",
              "      <td>0.291908</td>\n",
              "      <td>0.152272</td>\n",
              "      <td>0.952713</td>\n",
              "      <td>0.952735</td>\n",
              "      <td>-0.145295</td>\n",
              "      <td>1.000000</td>\n",
              "      <td>0.684174</td>\n",
              "      <td>-0.202252</td>\n",
              "      <td>-0.047831</td>\n",
              "      <td>-0.021472</td>\n",
              "      <td>-0.508746</td>\n",
              "      <td>0.759616</td>\n",
              "      <td>0.521370</td>\n",
              "      <td>0.521369</td>\n",
              "      <td>0.094234</td>\n",
              "      <td>-0.202252</td>\n",
              "      <td>-0.047831</td>\n",
              "      <td>-0.266656</td>\n",
              "    </tr>\n",
              "    <tr>\n",
              "      <th>pNN50</th>\n",
              "      <td>0.542126</td>\n",
              "      <td>0.005889</td>\n",
              "      <td>0.666731</td>\n",
              "      <td>-0.003563</td>\n",
              "      <td>-0.007580</td>\n",
              "      <td>0.415757</td>\n",
              "      <td>-0.033316</td>\n",
              "      <td>0.007580</td>\n",
              "      <td>0.724087</td>\n",
              "      <td>0.137749</td>\n",
              "      <td>0.018942</td>\n",
              "      <td>0.794925</td>\n",
              "      <td>0.500339</td>\n",
              "      <td>-0.116978</td>\n",
              "      <td>-0.156121</td>\n",
              "      <td>-0.044390</td>\n",
              "      <td>0.252273</td>\n",
              "      <td>0.209021</td>\n",
              "      <td>0.501689</td>\n",
              "      <td>0.794998</td>\n",
              "      <td>0.794925</td>\n",
              "      <td>0.228959</td>\n",
              "      <td>0.684174</td>\n",
              "      <td>1.000000</td>\n",
              "      <td>-0.069563</td>\n",
              "      <td>0.092357</td>\n",
              "      <td>-0.040715</td>\n",
              "      <td>-0.188634</td>\n",
              "      <td>0.756621</td>\n",
              "      <td>0.575222</td>\n",
              "      <td>0.575221</td>\n",
              "      <td>0.014811</td>\n",
              "      <td>-0.069563</td>\n",
              "      <td>0.092357</td>\n",
              "      <td>-0.117718</td>\n",
              "    </tr>\n",
              "    <tr>\n",
              "      <th>KURT</th>\n",
              "      <td>-0.054678</td>\n",
              "      <td>0.098420</td>\n",
              "      <td>-0.158436</td>\n",
              "      <td>-0.115734</td>\n",
              "      <td>-0.244115</td>\n",
              "      <td>0.098145</td>\n",
              "      <td>0.117774</td>\n",
              "      <td>0.244115</td>\n",
              "      <td>-0.097670</td>\n",
              "      <td>-0.117823</td>\n",
              "      <td>0.238701</td>\n",
              "      <td>-0.193509</td>\n",
              "      <td>-0.098395</td>\n",
              "      <td>-0.521512</td>\n",
              "      <td>0.145145</td>\n",
              "      <td>0.113334</td>\n",
              "      <td>-0.316282</td>\n",
              "      <td>-0.307938</td>\n",
              "      <td>-0.098942</td>\n",
              "      <td>-0.193502</td>\n",
              "      <td>-0.193509</td>\n",
              "      <td>-0.014173</td>\n",
              "      <td>-0.202252</td>\n",
              "      <td>-0.069563</td>\n",
              "      <td>1.000000</td>\n",
              "      <td>0.380738</td>\n",
              "      <td>0.031180</td>\n",
              "      <td>0.122111</td>\n",
              "      <td>-0.049216</td>\n",
              "      <td>0.050921</td>\n",
              "      <td>0.050921</td>\n",
              "      <td>-0.223431</td>\n",
              "      <td>1.000000</td>\n",
              "      <td>0.380738</td>\n",
              "      <td>0.327365</td>\n",
              "    </tr>\n",
              "    <tr>\n",
              "      <th>SKEW</th>\n",
              "      <td>0.242725</td>\n",
              "      <td>0.230641</td>\n",
              "      <td>-0.075515</td>\n",
              "      <td>-0.241476</td>\n",
              "      <td>-0.214524</td>\n",
              "      <td>0.195303</td>\n",
              "      <td>0.012639</td>\n",
              "      <td>0.214524</td>\n",
              "      <td>0.210086</td>\n",
              "      <td>-0.113713</td>\n",
              "      <td>0.209809</td>\n",
              "      <td>-0.051484</td>\n",
              "      <td>0.295227</td>\n",
              "      <td>-0.526077</td>\n",
              "      <td>-0.085579</td>\n",
              "      <td>0.054457</td>\n",
              "      <td>-0.197623</td>\n",
              "      <td>-0.325020</td>\n",
              "      <td>0.294991</td>\n",
              "      <td>-0.051369</td>\n",
              "      <td>-0.051484</td>\n",
              "      <td>0.354779</td>\n",
              "      <td>-0.047831</td>\n",
              "      <td>0.092357</td>\n",
              "      <td>0.380738</td>\n",
              "      <td>1.000000</td>\n",
              "      <td>0.006781</td>\n",
              "      <td>0.090751</td>\n",
              "      <td>0.073504</td>\n",
              "      <td>0.130692</td>\n",
              "      <td>0.130692</td>\n",
              "      <td>-0.127028</td>\n",
              "      <td>0.380738</td>\n",
              "      <td>1.000000</td>\n",
              "      <td>0.309168</td>\n",
              "    </tr>\n",
              "    <tr>\n",
              "      <th>MEAN_REL_RR</th>\n",
              "      <td>-0.031677</td>\n",
              "      <td>0.001165</td>\n",
              "      <td>-0.022970</td>\n",
              "      <td>-0.003155</td>\n",
              "      <td>-0.038273</td>\n",
              "      <td>0.017048</td>\n",
              "      <td>0.018374</td>\n",
              "      <td>0.038273</td>\n",
              "      <td>-0.036468</td>\n",
              "      <td>0.003533</td>\n",
              "      <td>0.037345</td>\n",
              "      <td>-0.025330</td>\n",
              "      <td>-0.003075</td>\n",
              "      <td>-0.041210</td>\n",
              "      <td>0.030493</td>\n",
              "      <td>-0.019547</td>\n",
              "      <td>-0.018983</td>\n",
              "      <td>-0.022359</td>\n",
              "      <td>-0.003073</td>\n",
              "      <td>-0.025313</td>\n",
              "      <td>-0.025330</td>\n",
              "      <td>0.019918</td>\n",
              "      <td>-0.021472</td>\n",
              "      <td>-0.040715</td>\n",
              "      <td>0.031180</td>\n",
              "      <td>0.006781</td>\n",
              "      <td>1.000000</td>\n",
              "      <td>0.136187</td>\n",
              "      <td>-0.014550</td>\n",
              "      <td>0.009700</td>\n",
              "      <td>0.009700</td>\n",
              "      <td>-0.036693</td>\n",
              "      <td>0.031180</td>\n",
              "      <td>0.006781</td>\n",
              "      <td>0.019013</td>\n",
              "    </tr>\n",
              "    <tr>\n",
              "      <th>MEDIAN_REL_RR</th>\n",
              "      <td>0.238506</td>\n",
              "      <td>0.590379</td>\n",
              "      <td>-0.553553</td>\n",
              "      <td>-0.604883</td>\n",
              "      <td>-0.132025</td>\n",
              "      <td>-0.174381</td>\n",
              "      <td>-0.114485</td>\n",
              "      <td>0.132025</td>\n",
              "      <td>0.051066</td>\n",
              "      <td>-0.092274</td>\n",
              "      <td>0.128249</td>\n",
              "      <td>-0.440560</td>\n",
              "      <td>0.198319</td>\n",
              "      <td>-0.261362</td>\n",
              "      <td>-0.206083</td>\n",
              "      <td>0.110873</td>\n",
              "      <td>0.006882</td>\n",
              "      <td>-0.016794</td>\n",
              "      <td>0.196837</td>\n",
              "      <td>-0.440492</td>\n",
              "      <td>-0.440560</td>\n",
              "      <td>0.327483</td>\n",
              "      <td>-0.508746</td>\n",
              "      <td>-0.188634</td>\n",
              "      <td>0.122111</td>\n",
              "      <td>0.090751</td>\n",
              "      <td>0.136187</td>\n",
              "      <td>1.000000</td>\n",
              "      <td>-0.367869</td>\n",
              "      <td>-0.264868</td>\n",
              "      <td>-0.264867</td>\n",
              "      <td>0.022648</td>\n",
              "      <td>0.122111</td>\n",
              "      <td>0.090751</td>\n",
              "      <td>0.056247</td>\n",
              "    </tr>\n",
              "    <tr>\n",
              "      <th>SDRR_REL_RR</th>\n",
              "      <td>0.243856</td>\n",
              "      <td>-0.342066</td>\n",
              "      <td>0.783767</td>\n",
              "      <td>0.326522</td>\n",
              "      <td>-0.234625</td>\n",
              "      <td>0.741303</td>\n",
              "      <td>0.281507</td>\n",
              "      <td>0.234625</td>\n",
              "      <td>0.486660</td>\n",
              "      <td>-0.061825</td>\n",
              "      <td>0.242659</td>\n",
              "      <td>0.835585</td>\n",
              "      <td>0.257871</td>\n",
              "      <td>-0.057750</td>\n",
              "      <td>0.180693</td>\n",
              "      <td>-0.152896</td>\n",
              "      <td>-0.139385</td>\n",
              "      <td>-0.149942</td>\n",
              "      <td>0.259694</td>\n",
              "      <td>0.835595</td>\n",
              "      <td>0.835585</td>\n",
              "      <td>-0.020659</td>\n",
              "      <td>0.759616</td>\n",
              "      <td>0.756621</td>\n",
              "      <td>-0.049216</td>\n",
              "      <td>0.073504</td>\n",
              "      <td>-0.014550</td>\n",
              "      <td>-0.367869</td>\n",
              "      <td>1.000000</td>\n",
              "      <td>0.901841</td>\n",
              "      <td>0.901841</td>\n",
              "      <td>-0.266562</td>\n",
              "      <td>-0.049216</td>\n",
              "      <td>0.073504</td>\n",
              "      <td>0.233767</td>\n",
              "    </tr>\n",
              "    <tr>\n",
              "      <th>RMSSD_REL_RR</th>\n",
              "      <td>0.087431</td>\n",
              "      <td>-0.338964</td>\n",
              "      <td>0.532172</td>\n",
              "      <td>0.294138</td>\n",
              "      <td>-0.565880</td>\n",
              "      <td>0.886041</td>\n",
              "      <td>0.550504</td>\n",
              "      <td>0.565880</td>\n",
              "      <td>0.266360</td>\n",
              "      <td>-0.249122</td>\n",
              "      <td>0.567725</td>\n",
              "      <td>0.589343</td>\n",
              "      <td>0.174248</td>\n",
              "      <td>-0.163343</td>\n",
              "      <td>0.442812</td>\n",
              "      <td>-0.150594</td>\n",
              "      <td>-0.392773</td>\n",
              "      <td>-0.398700</td>\n",
              "      <td>0.175643</td>\n",
              "      <td>0.589360</td>\n",
              "      <td>0.589343</td>\n",
              "      <td>-0.020851</td>\n",
              "      <td>0.521370</td>\n",
              "      <td>0.575222</td>\n",
              "      <td>0.050921</td>\n",
              "      <td>0.130692</td>\n",
              "      <td>0.009700</td>\n",
              "      <td>-0.264868</td>\n",
              "      <td>0.901841</td>\n",
              "      <td>1.000000</td>\n",
              "      <td>1.000000</td>\n",
              "      <td>-0.614407</td>\n",
              "      <td>0.050921</td>\n",
              "      <td>0.130692</td>\n",
              "      <td>0.492739</td>\n",
              "    </tr>\n",
              "    <tr>\n",
              "      <th>SDSD_REL_RR</th>\n",
              "      <td>0.087431</td>\n",
              "      <td>-0.338964</td>\n",
              "      <td>0.532171</td>\n",
              "      <td>0.294138</td>\n",
              "      <td>-0.565880</td>\n",
              "      <td>0.886041</td>\n",
              "      <td>0.550505</td>\n",
              "      <td>0.565880</td>\n",
              "      <td>0.266360</td>\n",
              "      <td>-0.249123</td>\n",
              "      <td>0.567726</td>\n",
              "      <td>0.589342</td>\n",
              "      <td>0.174248</td>\n",
              "      <td>-0.163343</td>\n",
              "      <td>0.442812</td>\n",
              "      <td>-0.150594</td>\n",
              "      <td>-0.392774</td>\n",
              "      <td>-0.398700</td>\n",
              "      <td>0.175643</td>\n",
              "      <td>0.589359</td>\n",
              "      <td>0.589342</td>\n",
              "      <td>-0.020851</td>\n",
              "      <td>0.521369</td>\n",
              "      <td>0.575221</td>\n",
              "      <td>0.050921</td>\n",
              "      <td>0.130692</td>\n",
              "      <td>0.009700</td>\n",
              "      <td>-0.264867</td>\n",
              "      <td>0.901841</td>\n",
              "      <td>1.000000</td>\n",
              "      <td>1.000000</td>\n",
              "      <td>-0.614408</td>\n",
              "      <td>0.050921</td>\n",
              "      <td>0.130692</td>\n",
              "      <td>0.492739</td>\n",
              "    </tr>\n",
              "    <tr>\n",
              "      <th>SDRR_RMSSD_REL_RR</th>\n",
              "      <td>0.308905</td>\n",
              "      <td>0.277164</td>\n",
              "      <td>0.082281</td>\n",
              "      <td>-0.214213</td>\n",
              "      <td>0.778129</td>\n",
              "      <td>-0.597573</td>\n",
              "      <td>-0.701847</td>\n",
              "      <td>-0.778129</td>\n",
              "      <td>0.301475</td>\n",
              "      <td>0.534467</td>\n",
              "      <td>-0.756440</td>\n",
              "      <td>0.103240</td>\n",
              "      <td>0.123396</td>\n",
              "      <td>0.230844</td>\n",
              "      <td>-0.765840</td>\n",
              "      <td>0.124742</td>\n",
              "      <td>0.657087</td>\n",
              "      <td>0.651170</td>\n",
              "      <td>0.123268</td>\n",
              "      <td>0.103234</td>\n",
              "      <td>0.103240</td>\n",
              "      <td>0.087735</td>\n",
              "      <td>0.094234</td>\n",
              "      <td>0.014811</td>\n",
              "      <td>-0.223431</td>\n",
              "      <td>-0.127028</td>\n",
              "      <td>-0.036693</td>\n",
              "      <td>0.022648</td>\n",
              "      <td>-0.266562</td>\n",
              "      <td>-0.614407</td>\n",
              "      <td>-0.614408</td>\n",
              "      <td>1.000000</td>\n",
              "      <td>-0.223431</td>\n",
              "      <td>-0.127028</td>\n",
              "      <td>-0.676571</td>\n",
              "    </tr>\n",
              "    <tr>\n",
              "      <th>KURT_REL_RR</th>\n",
              "      <td>-0.054678</td>\n",
              "      <td>0.098420</td>\n",
              "      <td>-0.158436</td>\n",
              "      <td>-0.115734</td>\n",
              "      <td>-0.244115</td>\n",
              "      <td>0.098145</td>\n",
              "      <td>0.117774</td>\n",
              "      <td>0.244115</td>\n",
              "      <td>-0.097670</td>\n",
              "      <td>-0.117823</td>\n",
              "      <td>0.238701</td>\n",
              "      <td>-0.193509</td>\n",
              "      <td>-0.098395</td>\n",
              "      <td>-0.521512</td>\n",
              "      <td>0.145145</td>\n",
              "      <td>0.113334</td>\n",
              "      <td>-0.316282</td>\n",
              "      <td>-0.307938</td>\n",
              "      <td>-0.098942</td>\n",
              "      <td>-0.193502</td>\n",
              "      <td>-0.193509</td>\n",
              "      <td>-0.014173</td>\n",
              "      <td>-0.202252</td>\n",
              "      <td>-0.069563</td>\n",
              "      <td>1.000000</td>\n",
              "      <td>0.380738</td>\n",
              "      <td>0.031180</td>\n",
              "      <td>0.122111</td>\n",
              "      <td>-0.049216</td>\n",
              "      <td>0.050921</td>\n",
              "      <td>0.050921</td>\n",
              "      <td>-0.223431</td>\n",
              "      <td>1.000000</td>\n",
              "      <td>0.380738</td>\n",
              "      <td>0.327365</td>\n",
              "    </tr>\n",
              "    <tr>\n",
              "      <th>SKEW_REL_RR</th>\n",
              "      <td>0.242725</td>\n",
              "      <td>0.230641</td>\n",
              "      <td>-0.075515</td>\n",
              "      <td>-0.241476</td>\n",
              "      <td>-0.214524</td>\n",
              "      <td>0.195303</td>\n",
              "      <td>0.012639</td>\n",
              "      <td>0.214524</td>\n",
              "      <td>0.210086</td>\n",
              "      <td>-0.113713</td>\n",
              "      <td>0.209809</td>\n",
              "      <td>-0.051484</td>\n",
              "      <td>0.295227</td>\n",
              "      <td>-0.526077</td>\n",
              "      <td>-0.085579</td>\n",
              "      <td>0.054457</td>\n",
              "      <td>-0.197623</td>\n",
              "      <td>-0.325020</td>\n",
              "      <td>0.294991</td>\n",
              "      <td>-0.051369</td>\n",
              "      <td>-0.051484</td>\n",
              "      <td>0.354779</td>\n",
              "      <td>-0.047831</td>\n",
              "      <td>0.092357</td>\n",
              "      <td>0.380738</td>\n",
              "      <td>1.000000</td>\n",
              "      <td>0.006781</td>\n",
              "      <td>0.090751</td>\n",
              "      <td>0.073504</td>\n",
              "      <td>0.130692</td>\n",
              "      <td>0.130692</td>\n",
              "      <td>-0.127028</td>\n",
              "      <td>0.380738</td>\n",
              "      <td>1.000000</td>\n",
              "      <td>0.309168</td>\n",
              "    </tr>\n",
              "    <tr>\n",
              "      <th>HR</th>\n",
              "      <td>-0.310001</td>\n",
              "      <td>-0.253837</td>\n",
              "      <td>-0.099494</td>\n",
              "      <td>0.193333</td>\n",
              "      <td>-0.728844</td>\n",
              "      <td>0.652111</td>\n",
              "      <td>0.670143</td>\n",
              "      <td>0.728844</td>\n",
              "      <td>-0.306428</td>\n",
              "      <td>-0.520887</td>\n",
              "      <td>0.712105</td>\n",
              "      <td>-0.285495</td>\n",
              "      <td>-0.204954</td>\n",
              "      <td>-0.312433</td>\n",
              "      <td>0.420191</td>\n",
              "      <td>-0.090163</td>\n",
              "      <td>-0.946524</td>\n",
              "      <td>-0.948428</td>\n",
              "      <td>-0.205287</td>\n",
              "      <td>-0.285506</td>\n",
              "      <td>-0.285495</td>\n",
              "      <td>-0.091455</td>\n",
              "      <td>-0.266656</td>\n",
              "      <td>-0.117718</td>\n",
              "      <td>0.327365</td>\n",
              "      <td>0.309168</td>\n",
              "      <td>0.019013</td>\n",
              "      <td>0.056247</td>\n",
              "      <td>0.233767</td>\n",
              "      <td>0.492739</td>\n",
              "      <td>0.492739</td>\n",
              "      <td>-0.676571</td>\n",
              "      <td>0.327365</td>\n",
              "      <td>0.309168</td>\n",
              "      <td>1.000000</td>\n",
              "    </tr>\n",
              "  </tbody>\n",
              "</table>\n",
              "</div>"
            ],
            "text/plain": [
              "                        VLF   VLF_PCT        LF    LF_PCT     LF_NU        HF  \\\n",
              "VLF                1.000000  0.684638  0.030261 -0.672467  0.115727 -0.016413   \n",
              "VLF_PCT            0.684638  1.000000 -0.539210 -0.995216  0.048981 -0.295905   \n",
              "LF                 0.030261 -0.539210  1.000000  0.568108  0.256760  0.328320   \n",
              "LF_PCT            -0.672467 -0.995216  0.568108  1.000000  0.041111  0.230549   \n",
              "LF_NU              0.115727  0.048981  0.256760  0.041111  1.000000 -0.732800   \n",
              "HF                -0.016413 -0.295905  0.328320  0.230549 -0.732800  1.000000   \n",
              "HF_PCT            -0.406072 -0.470869 -0.034821  0.383082 -0.841603  0.716365   \n",
              "HF_NU             -0.115727 -0.048981 -0.256760 -0.041111 -1.000000  0.732800   \n",
              "TP                 0.949259  0.472513  0.341635 -0.453881  0.169448  0.109476   \n",
              "LF_HF              0.178854  0.112399  0.178177 -0.082041  0.385904 -0.303281   \n",
              "HF_LF             -0.106478 -0.044688 -0.249061 -0.045712 -0.997864  0.736728   \n",
              "SD1                0.346411 -0.276177  0.886321  0.297001  0.197233  0.337811   \n",
              "SD2                0.828962  0.588456 -0.005603 -0.583849  0.005791  0.057301   \n",
              "sampen            -0.307999 -0.404884  0.221756  0.424946  0.320513 -0.188149   \n",
              "higuci            -0.575575 -0.550782  0.033664  0.496095 -0.582569  0.440532   \n",
              "condition          0.128435  0.209150 -0.202302 -0.208684  0.065263 -0.105178   \n",
              "MEAN_RR            0.508111  0.386064  0.086934 -0.332608  0.644024 -0.562246   \n",
              "MEDIAN_RR          0.412712  0.309042  0.102151 -0.256138  0.653057 -0.568625   \n",
              "SDRR               0.828913  0.586986 -0.003495 -0.582348  0.006087  0.058180   \n",
              "RMSSD              0.346580 -0.276016  0.886265  0.296840  0.197211  0.337810   \n",
              "SDSD               0.346411 -0.276177  0.886321  0.297001  0.197233  0.337811   \n",
              "SDRR_RMSSD         0.698237  0.689315 -0.283164 -0.689637 -0.044984 -0.056895   \n",
              "pNN25              0.199883 -0.380514  0.914401  0.405361  0.235163  0.271944   \n",
              "pNN50              0.542126  0.005889  0.666731 -0.003563 -0.007580  0.415757   \n",
              "KURT              -0.054678  0.098420 -0.158436 -0.115734 -0.244115  0.098145   \n",
              "SKEW               0.242725  0.230641 -0.075515 -0.241476 -0.214524  0.195303   \n",
              "MEAN_REL_RR       -0.031677  0.001165 -0.022970 -0.003155 -0.038273  0.017048   \n",
              "MEDIAN_REL_RR      0.238506  0.590379 -0.553553 -0.604883 -0.132025 -0.174381   \n",
              "SDRR_REL_RR        0.243856 -0.342066  0.783767  0.326522 -0.234625  0.741303   \n",
              "RMSSD_REL_RR       0.087431 -0.338964  0.532172  0.294138 -0.565880  0.886041   \n",
              "SDSD_REL_RR        0.087431 -0.338964  0.532171  0.294138 -0.565880  0.886041   \n",
              "SDRR_RMSSD_REL_RR  0.308905  0.277164  0.082281 -0.214213  0.778129 -0.597573   \n",
              "KURT_REL_RR       -0.054678  0.098420 -0.158436 -0.115734 -0.244115  0.098145   \n",
              "SKEW_REL_RR        0.242725  0.230641 -0.075515 -0.241476 -0.214524  0.195303   \n",
              "HR                -0.310001 -0.253837 -0.099494  0.193333 -0.728844  0.652111   \n",
              "\n",
              "                     HF_PCT     HF_NU        TP     LF_HF     HF_LF       SD1  \\\n",
              "VLF               -0.406072 -0.115727  0.949259  0.178854 -0.106478  0.346411   \n",
              "VLF_PCT           -0.470869 -0.048981  0.472513  0.112399 -0.044688 -0.276177   \n",
              "LF                -0.034821 -0.256760  0.341635  0.178177 -0.249061  0.886321   \n",
              "LF_PCT             0.383082 -0.041111 -0.453881 -0.082041 -0.045712  0.297001   \n",
              "LF_NU             -0.841603 -1.000000  0.169448  0.385904 -0.997864  0.197233   \n",
              "HF                 0.716365  0.732800  0.109476 -0.303281  0.736728  0.337811   \n",
              "HF_PCT             1.000000  0.841603 -0.374974 -0.331900  0.839592 -0.081445   \n",
              "HF_NU              0.841603  1.000000 -0.169448 -0.385904  0.997864 -0.197233   \n",
              "TP                -0.374974 -0.169448  1.000000  0.215903 -0.158212  0.604533   \n",
              "LF_HF             -0.331900 -0.385904  0.215903  1.000000 -0.363524  0.259950   \n",
              "HF_LF              0.839592  0.997864 -0.158212 -0.363524  1.000000 -0.181048   \n",
              "SD1               -0.081445 -0.197233  0.604533  0.259950 -0.181048  1.000000   \n",
              "SD2               -0.294125 -0.005791  0.779753  0.040007 -0.002514  0.282019   \n",
              "sampen            -0.014407 -0.320513 -0.225957  0.151598 -0.316315  0.126792   \n",
              "higuci             0.737169  0.582569 -0.520725 -0.314640  0.573798 -0.007287   \n",
              "condition         -0.095797 -0.065263  0.057945  0.022254 -0.064355 -0.126896   \n",
              "MEAN_RR           -0.661895 -0.644024  0.491406  0.559975 -0.624129  0.339390   \n",
              "MEDIAN_RR         -0.624998 -0.653057  0.406406  0.560413 -0.632448  0.328321   \n",
              "SDRR              -0.293800 -0.006087  0.780372  0.040330 -0.002795  0.284117   \n",
              "RMSSD             -0.081509 -0.197211  0.604675  0.259928 -0.181029  1.000000   \n",
              "SDSD              -0.081445 -0.197233  0.604533  0.259950 -0.181048  1.000000   \n",
              "SDRR_RMSSD        -0.289406  0.044984  0.569582 -0.048082  0.042195 -0.050979   \n",
              "pNN25             -0.067822 -0.235163  0.473968  0.285760 -0.222500  0.952735   \n",
              "pNN50             -0.033316  0.007580  0.724087  0.137749  0.018942  0.794925   \n",
              "KURT               0.117774  0.244115 -0.097670 -0.117823  0.238701 -0.193509   \n",
              "SKEW               0.012639  0.214524  0.210086 -0.113713  0.209809 -0.051484   \n",
              "MEAN_REL_RR        0.018374  0.038273 -0.036468  0.003533  0.037345 -0.025330   \n",
              "MEDIAN_REL_RR     -0.114485  0.132025  0.051066 -0.092274  0.128249 -0.440560   \n",
              "SDRR_REL_RR        0.281507  0.234625  0.486660 -0.061825  0.242659  0.835585   \n",
              "RMSSD_REL_RR       0.550504  0.565880  0.266360 -0.249122  0.567725  0.589343   \n",
              "SDSD_REL_RR        0.550505  0.565880  0.266360 -0.249123  0.567726  0.589342   \n",
              "SDRR_RMSSD_REL_RR -0.701847 -0.778129  0.301475  0.534467 -0.756440  0.103240   \n",
              "KURT_REL_RR        0.117774  0.244115 -0.097670 -0.117823  0.238701 -0.193509   \n",
              "SKEW_REL_RR        0.012639  0.214524  0.210086 -0.113713  0.209809 -0.051484   \n",
              "HR                 0.670143  0.728844 -0.306428 -0.520887  0.712105 -0.285495   \n",
              "\n",
              "                        SD2    sampen    higuci  condition   MEAN_RR  \\\n",
              "VLF                0.828962 -0.307999 -0.575575   0.128435  0.508111   \n",
              "VLF_PCT            0.588456 -0.404884 -0.550782   0.209150  0.386064   \n",
              "LF                -0.005603  0.221756  0.033664  -0.202302  0.086934   \n",
              "LF_PCT            -0.583849  0.424946  0.496095  -0.208684 -0.332608   \n",
              "LF_NU              0.005791  0.320513 -0.582569   0.065263  0.644024   \n",
              "HF                 0.057301 -0.188149  0.440532  -0.105178 -0.562246   \n",
              "HF_PCT            -0.294125 -0.014407  0.737169  -0.095797 -0.661895   \n",
              "HF_NU             -0.005791 -0.320513  0.582569  -0.065263 -0.644024   \n",
              "TP                 0.779753 -0.225957 -0.520725   0.057945  0.491406   \n",
              "LF_HF              0.040007  0.151598 -0.314640   0.022254  0.559975   \n",
              "HF_LF             -0.002514 -0.316315  0.573798  -0.064355 -0.624129   \n",
              "SD1                0.282019  0.126792 -0.007287  -0.126896  0.339390   \n",
              "SD2                1.000000 -0.531214 -0.479301   0.090919  0.455038   \n",
              "sampen            -0.531214  1.000000  0.076582  -0.081879  0.134252   \n",
              "higuci            -0.479301  0.076582  1.000000  -0.155308 -0.514374   \n",
              "condition          0.090919 -0.081879 -0.155308   1.000000  0.118725   \n",
              "MEAN_RR            0.455038  0.134252 -0.514374   0.118725  1.000000   \n",
              "MEDIAN_RR          0.307875  0.269965 -0.459408   0.115627  0.966169   \n",
              "SDRR               0.999997 -0.530626 -0.478681   0.090389  0.455355   \n",
              "RMSSD              0.282318  0.126553 -0.007405  -0.126877  0.339487   \n",
              "SDSD               0.282019  0.126792 -0.007287  -0.126896  0.339390   \n",
              "SDRR_RMSSD         0.926224 -0.646022 -0.490592   0.123172  0.329486   \n",
              "pNN25              0.150057  0.183201  0.057766  -0.183549  0.296080   \n",
              "pNN50              0.500339 -0.116978 -0.156121  -0.044390  0.252273   \n",
              "KURT              -0.098395 -0.521512  0.145145   0.113334 -0.316282   \n",
              "SKEW               0.295227 -0.526077 -0.085579   0.054457 -0.197623   \n",
              "MEAN_REL_RR       -0.003075 -0.041210  0.030493  -0.019547 -0.018983   \n",
              "MEDIAN_REL_RR      0.198319 -0.261362 -0.206083   0.110873  0.006882   \n",
              "SDRR_REL_RR        0.257871 -0.057750  0.180693  -0.152896 -0.139385   \n",
              "RMSSD_REL_RR       0.174248 -0.163343  0.442812  -0.150594 -0.392773   \n",
              "SDSD_REL_RR        0.174248 -0.163343  0.442812  -0.150594 -0.392774   \n",
              "SDRR_RMSSD_REL_RR  0.123396  0.230844 -0.765840   0.124742  0.657087   \n",
              "KURT_REL_RR       -0.098395 -0.521512  0.145145   0.113334 -0.316282   \n",
              "SKEW_REL_RR        0.295227 -0.526077 -0.085579   0.054457 -0.197623   \n",
              "HR                -0.204954 -0.312433  0.420191  -0.090163 -0.946524   \n",
              "\n",
              "                   MEDIAN_RR      SDRR     RMSSD      SDSD  SDRR_RMSSD  \\\n",
              "VLF                 0.412712  0.828913  0.346580  0.346411    0.698237   \n",
              "VLF_PCT             0.309042  0.586986 -0.276016 -0.276177    0.689315   \n",
              "LF                  0.102151 -0.003495  0.886265  0.886321   -0.283164   \n",
              "LF_PCT             -0.256138 -0.582348  0.296840  0.297001   -0.689637   \n",
              "LF_NU               0.653057  0.006087  0.197211  0.197233   -0.044984   \n",
              "HF                 -0.568625  0.058180  0.337810  0.337811   -0.056895   \n",
              "HF_PCT             -0.624998 -0.293800 -0.081509 -0.081445   -0.289406   \n",
              "HF_NU              -0.653057 -0.006087 -0.197211 -0.197233    0.044984   \n",
              "TP                  0.406406  0.780372  0.604675  0.604533    0.569582   \n",
              "LF_HF               0.560413  0.040330  0.259928  0.259950   -0.048082   \n",
              "HF_LF              -0.632448 -0.002795 -0.181029 -0.181048    0.042195   \n",
              "SD1                 0.328321  0.284117  1.000000  1.000000   -0.050979   \n",
              "SD2                 0.307875  0.999997  0.282318  0.282019    0.926224   \n",
              "sampen              0.269965 -0.530626  0.126553  0.126792   -0.646022   \n",
              "higuci             -0.459408 -0.478681 -0.007405 -0.007287   -0.490592   \n",
              "condition           0.115627  0.090389 -0.126877 -0.126896    0.123172   \n",
              "MEAN_RR             0.966169  0.455355  0.339487  0.339390    0.329486   \n",
              "MEDIAN_RR           1.000000  0.308191  0.328350  0.328321    0.176296   \n",
              "SDRR                0.308191  1.000000  0.284416  0.284117    0.925568   \n",
              "RMSSD               0.328350  0.284416  1.000000  1.000000   -0.050668   \n",
              "SDSD                0.328321  0.284117  1.000000  1.000000   -0.050979   \n",
              "SDRR_RMSSD          0.176296  0.925568 -0.050668 -0.050979    1.000000   \n",
              "pNN25               0.291908  0.152272  0.952713  0.952735   -0.145295   \n",
              "pNN50               0.209021  0.501689  0.794998  0.794925    0.228959   \n",
              "KURT               -0.307938 -0.098942 -0.193502 -0.193509   -0.014173   \n",
              "SKEW               -0.325020  0.294991 -0.051369 -0.051484    0.354779   \n",
              "MEAN_REL_RR        -0.022359 -0.003073 -0.025313 -0.025330    0.019918   \n",
              "MEDIAN_REL_RR      -0.016794  0.196837 -0.440492 -0.440560    0.327483   \n",
              "SDRR_REL_RR        -0.149942  0.259694  0.835595  0.835585   -0.020659   \n",
              "RMSSD_REL_RR       -0.398700  0.175643  0.589360  0.589343   -0.020851   \n",
              "SDSD_REL_RR        -0.398700  0.175643  0.589359  0.589342   -0.020851   \n",
              "SDRR_RMSSD_REL_RR   0.651170  0.123268  0.103234  0.103240    0.087735   \n",
              "KURT_REL_RR        -0.307938 -0.098942 -0.193502 -0.193509   -0.014173   \n",
              "SKEW_REL_RR        -0.325020  0.294991 -0.051369 -0.051484    0.354779   \n",
              "HR                 -0.948428 -0.205287 -0.285506 -0.285495   -0.091455   \n",
              "\n",
              "                      pNN25     pNN50      KURT      SKEW  MEAN_REL_RR  \\\n",
              "VLF                0.199883  0.542126 -0.054678  0.242725    -0.031677   \n",
              "VLF_PCT           -0.380514  0.005889  0.098420  0.230641     0.001165   \n",
              "LF                 0.914401  0.666731 -0.158436 -0.075515    -0.022970   \n",
              "LF_PCT             0.405361 -0.003563 -0.115734 -0.241476    -0.003155   \n",
              "LF_NU              0.235163 -0.007580 -0.244115 -0.214524    -0.038273   \n",
              "HF                 0.271944  0.415757  0.098145  0.195303     0.017048   \n",
              "HF_PCT            -0.067822 -0.033316  0.117774  0.012639     0.018374   \n",
              "HF_NU             -0.235163  0.007580  0.244115  0.214524     0.038273   \n",
              "TP                 0.473968  0.724087 -0.097670  0.210086    -0.036468   \n",
              "LF_HF              0.285760  0.137749 -0.117823 -0.113713     0.003533   \n",
              "HF_LF             -0.222500  0.018942  0.238701  0.209809     0.037345   \n",
              "SD1                0.952735  0.794925 -0.193509 -0.051484    -0.025330   \n",
              "SD2                0.150057  0.500339 -0.098395  0.295227    -0.003075   \n",
              "sampen             0.183201 -0.116978 -0.521512 -0.526077    -0.041210   \n",
              "higuci             0.057766 -0.156121  0.145145 -0.085579     0.030493   \n",
              "condition         -0.183549 -0.044390  0.113334  0.054457    -0.019547   \n",
              "MEAN_RR            0.296080  0.252273 -0.316282 -0.197623    -0.018983   \n",
              "MEDIAN_RR          0.291908  0.209021 -0.307938 -0.325020    -0.022359   \n",
              "SDRR               0.152272  0.501689 -0.098942  0.294991    -0.003073   \n",
              "RMSSD              0.952713  0.794998 -0.193502 -0.051369    -0.025313   \n",
              "SDSD               0.952735  0.794925 -0.193509 -0.051484    -0.025330   \n",
              "SDRR_RMSSD        -0.145295  0.228959 -0.014173  0.354779     0.019918   \n",
              "pNN25              1.000000  0.684174 -0.202252 -0.047831    -0.021472   \n",
              "pNN50              0.684174  1.000000 -0.069563  0.092357    -0.040715   \n",
              "KURT              -0.202252 -0.069563  1.000000  0.380738     0.031180   \n",
              "SKEW              -0.047831  0.092357  0.380738  1.000000     0.006781   \n",
              "MEAN_REL_RR       -0.021472 -0.040715  0.031180  0.006781     1.000000   \n",
              "MEDIAN_REL_RR     -0.508746 -0.188634  0.122111  0.090751     0.136187   \n",
              "SDRR_REL_RR        0.759616  0.756621 -0.049216  0.073504    -0.014550   \n",
              "RMSSD_REL_RR       0.521370  0.575222  0.050921  0.130692     0.009700   \n",
              "SDSD_REL_RR        0.521369  0.575221  0.050921  0.130692     0.009700   \n",
              "SDRR_RMSSD_REL_RR  0.094234  0.014811 -0.223431 -0.127028    -0.036693   \n",
              "KURT_REL_RR       -0.202252 -0.069563  1.000000  0.380738     0.031180   \n",
              "SKEW_REL_RR       -0.047831  0.092357  0.380738  1.000000     0.006781   \n",
              "HR                -0.266656 -0.117718  0.327365  0.309168     0.019013   \n",
              "\n",
              "                   MEDIAN_REL_RR  SDRR_REL_RR  RMSSD_REL_RR  SDSD_REL_RR  \\\n",
              "VLF                     0.238506     0.243856      0.087431     0.087431   \n",
              "VLF_PCT                 0.590379    -0.342066     -0.338964    -0.338964   \n",
              "LF                     -0.553553     0.783767      0.532172     0.532171   \n",
              "LF_PCT                 -0.604883     0.326522      0.294138     0.294138   \n",
              "LF_NU                  -0.132025    -0.234625     -0.565880    -0.565880   \n",
              "HF                     -0.174381     0.741303      0.886041     0.886041   \n",
              "HF_PCT                 -0.114485     0.281507      0.550504     0.550505   \n",
              "HF_NU                   0.132025     0.234625      0.565880     0.565880   \n",
              "TP                      0.051066     0.486660      0.266360     0.266360   \n",
              "LF_HF                  -0.092274    -0.061825     -0.249122    -0.249123   \n",
              "HF_LF                   0.128249     0.242659      0.567725     0.567726   \n",
              "SD1                    -0.440560     0.835585      0.589343     0.589342   \n",
              "SD2                     0.198319     0.257871      0.174248     0.174248   \n",
              "sampen                 -0.261362    -0.057750     -0.163343    -0.163343   \n",
              "higuci                 -0.206083     0.180693      0.442812     0.442812   \n",
              "condition               0.110873    -0.152896     -0.150594    -0.150594   \n",
              "MEAN_RR                 0.006882    -0.139385     -0.392773    -0.392774   \n",
              "MEDIAN_RR              -0.016794    -0.149942     -0.398700    -0.398700   \n",
              "SDRR                    0.196837     0.259694      0.175643     0.175643   \n",
              "RMSSD                  -0.440492     0.835595      0.589360     0.589359   \n",
              "SDSD                   -0.440560     0.835585      0.589343     0.589342   \n",
              "SDRR_RMSSD              0.327483    -0.020659     -0.020851    -0.020851   \n",
              "pNN25                  -0.508746     0.759616      0.521370     0.521369   \n",
              "pNN50                  -0.188634     0.756621      0.575222     0.575221   \n",
              "KURT                    0.122111    -0.049216      0.050921     0.050921   \n",
              "SKEW                    0.090751     0.073504      0.130692     0.130692   \n",
              "MEAN_REL_RR             0.136187    -0.014550      0.009700     0.009700   \n",
              "MEDIAN_REL_RR           1.000000    -0.367869     -0.264868    -0.264867   \n",
              "SDRR_REL_RR            -0.367869     1.000000      0.901841     0.901841   \n",
              "RMSSD_REL_RR           -0.264868     0.901841      1.000000     1.000000   \n",
              "SDSD_REL_RR            -0.264867     0.901841      1.000000     1.000000   \n",
              "SDRR_RMSSD_REL_RR       0.022648    -0.266562     -0.614407    -0.614408   \n",
              "KURT_REL_RR             0.122111    -0.049216      0.050921     0.050921   \n",
              "SKEW_REL_RR             0.090751     0.073504      0.130692     0.130692   \n",
              "HR                      0.056247     0.233767      0.492739     0.492739   \n",
              "\n",
              "                   SDRR_RMSSD_REL_RR  KURT_REL_RR  SKEW_REL_RR        HR  \n",
              "VLF                         0.308905    -0.054678     0.242725 -0.310001  \n",
              "VLF_PCT                     0.277164     0.098420     0.230641 -0.253837  \n",
              "LF                          0.082281    -0.158436    -0.075515 -0.099494  \n",
              "LF_PCT                     -0.214213    -0.115734    -0.241476  0.193333  \n",
              "LF_NU                       0.778129    -0.244115    -0.214524 -0.728844  \n",
              "HF                         -0.597573     0.098145     0.195303  0.652111  \n",
              "HF_PCT                     -0.701847     0.117774     0.012639  0.670143  \n",
              "HF_NU                      -0.778129     0.244115     0.214524  0.728844  \n",
              "TP                          0.301475    -0.097670     0.210086 -0.306428  \n",
              "LF_HF                       0.534467    -0.117823    -0.113713 -0.520887  \n",
              "HF_LF                      -0.756440     0.238701     0.209809  0.712105  \n",
              "SD1                         0.103240    -0.193509    -0.051484 -0.285495  \n",
              "SD2                         0.123396    -0.098395     0.295227 -0.204954  \n",
              "sampen                      0.230844    -0.521512    -0.526077 -0.312433  \n",
              "higuci                     -0.765840     0.145145    -0.085579  0.420191  \n",
              "condition                   0.124742     0.113334     0.054457 -0.090163  \n",
              "MEAN_RR                     0.657087    -0.316282    -0.197623 -0.946524  \n",
              "MEDIAN_RR                   0.651170    -0.307938    -0.325020 -0.948428  \n",
              "SDRR                        0.123268    -0.098942     0.294991 -0.205287  \n",
              "RMSSD                       0.103234    -0.193502    -0.051369 -0.285506  \n",
              "SDSD                        0.103240    -0.193509    -0.051484 -0.285495  \n",
              "SDRR_RMSSD                  0.087735    -0.014173     0.354779 -0.091455  \n",
              "pNN25                       0.094234    -0.202252    -0.047831 -0.266656  \n",
              "pNN50                       0.014811    -0.069563     0.092357 -0.117718  \n",
              "KURT                       -0.223431     1.000000     0.380738  0.327365  \n",
              "SKEW                       -0.127028     0.380738     1.000000  0.309168  \n",
              "MEAN_REL_RR                -0.036693     0.031180     0.006781  0.019013  \n",
              "MEDIAN_REL_RR               0.022648     0.122111     0.090751  0.056247  \n",
              "SDRR_REL_RR                -0.266562    -0.049216     0.073504  0.233767  \n",
              "RMSSD_REL_RR               -0.614407     0.050921     0.130692  0.492739  \n",
              "SDSD_REL_RR                -0.614408     0.050921     0.130692  0.492739  \n",
              "SDRR_RMSSD_REL_RR           1.000000    -0.223431    -0.127028 -0.676571  \n",
              "KURT_REL_RR                -0.223431     1.000000     0.380738  0.327365  \n",
              "SKEW_REL_RR                -0.127028     0.380738     1.000000  0.309168  \n",
              "HR                         -0.676571     0.327365     0.309168  1.000000  "
            ]
          },
          "metadata": {
            "tags": []
          },
          "execution_count": 117
        }
      ]
    },
    {
      "cell_type": "markdown",
      "metadata": {
        "id": "rSGBauNWn6IM"
      },
      "source": [
        "## Feature Engineering"
      ]
    },
    {
      "cell_type": "markdown",
      "metadata": {
        "id": "1qBXbzj-oDTM"
      },
      "source": [
        "### Scale the features"
      ]
    },
    {
      "cell_type": "code",
      "metadata": {
        "colab": {
          "base_uri": "https://localhost:8080/"
        },
        "id": "pEReOlVQ2xXk",
        "outputId": "48a6f30a-439c-428c-b991-e6ae8ff6b941"
      },
      "source": [
        "train_df.shape"
      ],
      "execution_count": null,
      "outputs": [
        {
          "output_type": "execute_result",
          "data": {
            "text/plain": [
              "(369289, 35)"
            ]
          },
          "metadata": {
            "tags": []
          },
          "execution_count": 118
        }
      ]
    },
    {
      "cell_type": "code",
      "metadata": {
        "id": "QmR88fJFoI9N"
      },
      "source": [
        "X = train_df.iloc[:, 0:34]\n",
        "y = train_df.iloc[:,-1]"
      ],
      "execution_count": null,
      "outputs": []
    },
    {
      "cell_type": "code",
      "metadata": {
        "colab": {
          "base_uri": "https://localhost:8080/"
        },
        "id": "qBHYM46hoRMy",
        "outputId": "d61f3103-1e9b-4c81-d310-69cac8ac75fd"
      },
      "source": [
        "print (\"X \", X.shape, \",y \", y.shape)"
      ],
      "execution_count": null,
      "outputs": [
        {
          "output_type": "stream",
          "text": [
            "X  (369289, 34) ,y  (369289,)\n"
          ],
          "name": "stdout"
        }
      ]
    },
    {
      "cell_type": "code",
      "metadata": {
        "colab": {
          "base_uri": "https://localhost:8080/"
        },
        "id": "BAsu33Aqo8AK",
        "outputId": "51b89ab0-f90b-4d8b-9ce6-cb4c30eb9608"
      },
      "source": [
        "y.head()"
      ],
      "execution_count": null,
      "outputs": [
        {
          "output_type": "execute_result",
          "data": {
            "text/plain": [
              "0    69.499952\n",
              "1    64.363150\n",
              "2    67.450066\n",
              "3    68.809562\n",
              "4    74.565728\n",
              "Name: HR, dtype: float64"
            ]
          },
          "metadata": {
            "tags": []
          },
          "execution_count": 121
        }
      ]
    },
    {
      "cell_type": "code",
      "metadata": {
        "colab": {
          "base_uri": "https://localhost:8080/"
        },
        "id": "NdsJHXE1pZN2",
        "outputId": "ce2d8570-ac9c-482f-a0a0-725c877a6980"
      },
      "source": [
        "X_train, X_test, y_train, y_test = train_test_split(X, y, test_size=0.30, random_state = 1)\n",
        "\n",
        "X_train.shape, X_test.shape, y_train.shape, y_test.shape"
      ],
      "execution_count": null,
      "outputs": [
        {
          "output_type": "execute_result",
          "data": {
            "text/plain": [
              "((258502, 34), (110787, 34), (258502,), (110787,))"
            ]
          },
          "metadata": {
            "tags": []
          },
          "execution_count": 123
        }
      ]
    },
    {
      "cell_type": "code",
      "metadata": {
        "id": "MUQ3kpkhpB5N",
        "colab": {
          "base_uri": "https://localhost:8080/"
        },
        "outputId": "74144d63-e4ef-45fb-e9f7-a6cdaf2b57cf"
      },
      "source": [
        "# scale the features\n",
        "\n",
        "scaler = StandardScaler()\n",
        "\n",
        "scaler.fit(X_train)\n",
        "\n",
        "scaler.transform(X_train)\n",
        "scaler.transform(X_test)"
      ],
      "execution_count": null,
      "outputs": [
        {
          "output_type": "execute_result",
          "data": {
            "text/plain": [
              "array([[ 0.0282733 ,  0.44774245, -0.14624053, ...,  0.29856333,\n",
              "        -0.65894393,  0.1757864 ],\n",
              "       [-1.00647952, -1.64787329, -0.45061729, ...,  0.31348181,\n",
              "        -0.32093911, -0.38012525],\n",
              "       [-0.25832777,  0.4176314 , -0.46689195, ...,  0.07427388,\n",
              "        -0.18251144,  0.12094304],\n",
              "       ...,\n",
              "       [-0.59529192, -1.40184512,  1.15755177, ..., -0.39705084,\n",
              "        -0.20377584, -0.3149613 ],\n",
              "       [-0.12090687, -0.13803326, -0.03375706, ..., -1.64249955,\n",
              "        -1.03131133,  0.04379211],\n",
              "       [ 3.6695069 ,  1.83677925, -1.17675365, ...,  2.87500615,\n",
              "        -0.93478271, -0.11091353]])"
            ]
          },
          "metadata": {
            "tags": []
          },
          "execution_count": 124
        }
      ]
    },
    {
      "cell_type": "markdown",
      "metadata": {
        "id": "m-63bRO1psv9"
      },
      "source": [
        "### LASSO Regression to drop features that are not importance"
      ]
    },
    {
      "cell_type": "code",
      "metadata": {
        "colab": {
          "base_uri": "https://localhost:8080/"
        },
        "id": "BJ30EU4dpoXm",
        "outputId": "d95e6fc0-bafe-48ed-81d9-ba009edb5839"
      },
      "source": [
        "regression_model_lasso = Lasso(alpha=1.0)\n",
        "reg = regression_model_lasso.fit(X_train,y_train)\n",
        "print (\"Lasso model:\", (regression_model_lasso.coef_))\n",
        "\n",
        "# Observe, many of the coefficients have become 0 indicating drop of those dimensions from the model"
      ],
      "execution_count": null,
      "outputs": [
        {
          "output_type": "stream",
          "text": [
            "Lasso model: [-0.00024003 -0.01534123 -0.00119949  0.         -0.          0.01384432\n",
            "  0.          0.          0.00018832  0.00509307  0.         -0.\n",
            "  0.03160676 -0.         -0.          0.         -0.09851958  0.00566547\n",
            "  0.         -0.         -0.          0.          0.          0.\n",
            "  0.          0.         -0.          0.         -0.          0.\n",
            "  0.         -0.          0.          0.        ]\n"
          ],
          "name": "stdout"
        }
      ]
    },
    {
      "cell_type": "markdown",
      "metadata": {
        "id": "YKsHzoEvqDjo"
      },
      "source": [
        "### PCA - Identify opportunities to create Composite Features"
      ]
    },
    {
      "cell_type": "code",
      "metadata": {
        "colab": {
          "base_uri": "https://localhost:8080/",
          "height": 370
        },
        "id": "cQdAnWiYqGIy",
        "outputId": "a9c7f6a8-3899-494e-a20c-e53005eaa467"
      },
      "source": [
        "pca = PCA().fit(X_scaled)\n",
        "\n",
        "plt.plot(np.cumsum(pca.explained_variance_ratio_))\n",
        "print(np.cumsum(pca.explained_variance_ratio_))"
      ],
      "execution_count": null,
      "outputs": [
        {
          "output_type": "stream",
          "text": [
            "[0.26490189 0.51931541 0.71058976 0.78085733 0.82053187 0.85114023\n",
            " 0.87938485 0.90624757 0.93091918 0.94834233 0.96156958 0.97125784\n",
            " 0.97766429 0.9836941  0.98921998 0.99235595 0.99475931 0.99636485\n",
            " 0.99757495 0.99846443 0.99911635 0.99947647 0.99977391 0.99995253\n",
            " 0.99999346 0.99999848 0.99999999 1.         1.         1.\n",
            " 1.         1.         1.         1.        ]\n"
          ],
          "name": "stdout"
        },
        {
          "output_type": "display_data",
          "data": {
            "image/png": "[encoded data removed]",
            "text/plain": [
              "<Figure size 432x288 with 1 Axes>"
            ]
          },
          "metadata": {
            "tags": []
          }
        }
      ]
    },
    {
      "cell_type": "markdown",
      "metadata": {
        "id": "NmlAMCj4qTg4"
      },
      "source": [
        "Let's pick 21 Principle components as the first 21 capture more than 99.90% of the variance in the data"
      ]
    },
    {
      "cell_type": "markdown",
      "metadata": {
        "id": "h0N2ABj9sDmT"
      },
      "source": [
        "## Modeling"
      ]
    },
    {
      "cell_type": "markdown",
      "metadata": {
        "id": "8CHFVb0lsGiV"
      },
      "source": [
        "### DecisionTree Regression without pruning (depth = none) and check Feature Importance"
      ]
    },
    {
      "cell_type": "markdown",
      "metadata": {
        "id": "drCJWRkTwTIQ"
      },
      "source": [
        "### XGBOOST"
      ]
    },
    {
      "cell_type": "code",
      "metadata": {
        "colab": {
          "base_uri": "https://localhost:8080/"
        },
        "id": "80YkkUuuwYLQ",
        "outputId": "e92ac6cf-768c-4518-aee4-a9cda5d60c0d"
      },
      "source": [
        "xg_reg = xgb.XGBRegressor()\n",
        "xg_reg.fit(X_train,y_train)\n",
        "xg_scaled_r2_train = xg_reg.score(X_train, y_train)\n",
        "\n",
        "preds = xg_reg.predict(X_test)\n",
        "xg_scaled_r2_test = xg_reg.score(X_test, y_test)\n",
        "\n",
        "print(\"XGBOOST Model Train score   = \", xg_scaled_r2_train)\n",
        "print(\"XGBOOST Model Test score    = \", xg_scaled_r2_test)\n",
        "#print(xg_scaled_r2_train, xg_scaled_r2_test)\n",
        "\n",
        "\n",
        "mae_xg = mean_absolute_error(y_test, preds)\n",
        "print(\"XGBOOST MAE value : %f\" % (mae_xg))"
      ],
      "execution_count": null,
      "outputs": [
        {
          "output_type": "stream",
          "text": [
            "[17:16:10] WARNING: /workspace/src/objective/regression_obj.cu:152: reg:linear is now deprecated in favor of reg:squarederror.\n",
            "XGBOOST Model Train score   =  0.9972373116224473\n",
            "XGBOOST Model Test score    =  0.9972187707965137\n",
            "XGBOOST MAE value : 0.365815\n"
          ],
          "name": "stdout"
        }
      ]
    },
    {
      "cell_type": "markdown",
      "metadata": {
        "id": "bWu0eDCVyodG"
      },
      "source": [
        "## Prepare the user acceptance data for testing"
      ]
    },
    {
      "cell_type": "code",
      "metadata": {
        "colab": {
          "base_uri": "https://localhost:8080/"
        },
        "id": "pHpUz5Qh0Oo0",
        "outputId": "0e109488-c30c-4515-a49a-8f738a7b96b3"
      },
      "source": [
        "print(\"Test Data  = \", test_df.shape) "
      ],
      "execution_count": null,
      "outputs": [
        {
          "output_type": "stream",
          "text": [
            "Test Data  =  (41033, 36)\n"
          ],
          "name": "stdout"
        }
      ]
    },
    {
      "cell_type": "code",
      "metadata": {
        "colab": {
          "base_uri": "https://localhost:8080/"
        },
        "id": "S9JcMi_x0ZRx",
        "outputId": "4f8fbee7-7cba-415c-b693-5191b1b87e15"
      },
      "source": [
        "test_df = test_df.drop(columns = ['datasetId']) \n",
        "test_df.shape"
      ],
      "execution_count": null,
      "outputs": [
        {
          "output_type": "execute_result",
          "data": {
            "text/plain": [
              "(41033, 35)"
            ]
          },
          "metadata": {
            "tags": []
          },
          "execution_count": 128
        }
      ]
    },
    {
      "cell_type": "code",
      "metadata": {
        "colab": {
          "base_uri": "https://localhost:8080/"
        },
        "id": "bnM4tjl10tzh",
        "outputId": "aec71095-c7e7-4137-8fd7-52df86efc49a"
      },
      "source": [
        "test_df['condition']=test_df['condition'].astype('category')\n",
        "\n",
        "test_df['condition'].unique()\n",
        "\n",
        "test_df.groupby('condition').size()"
      ],
      "execution_count": null,
      "outputs": [
        {
          "output_type": "execute_result",
          "data": {
            "text/plain": [
              "condition\n",
              "interruption     11782\n",
              "no stress        22158\n",
              "time pressure     7093\n",
              "dtype: int64"
            ]
          },
          "metadata": {
            "tags": []
          },
          "execution_count": 131
        }
      ]
    },
    {
      "cell_type": "code",
      "metadata": {
        "colab": {
          "base_uri": "https://localhost:8080/",
          "height": 479
        },
        "id": "iz02GfkE00bu",
        "outputId": "d04df855-4baa-4dc6-fbc6-8c227e50ae47"
      },
      "source": [
        "class_label_encoder = LabelEncoder()\n",
        "test_df['condition'] = class_label_encoder.fit_transform(test_df['condition'])\n",
        "test_df.head()"
      ],
      "execution_count": null,
      "outputs": [
        {
          "output_type": "execute_result",
          "data": {
            "text/html": [
              "<div>\n",
              "<style scoped>\n",
              "    .dataframe tbody tr th:only-of-type {\n",
              "        vertical-align: middle;\n",
              "    }\n",
              "\n",
              "    .dataframe tbody tr th {\n",
              "        vertical-align: top;\n",
              "    }\n",
              "\n",
              "    .dataframe thead th {\n",
              "        text-align: right;\n",
              "    }\n",
              "</style>\n",
              "<table border=\"1\" class=\"dataframe\">\n",
              "  <thead>\n",
              "    <tr style=\"text-align: right;\">\n",
              "      <th></th>\n",
              "      <th>uuid</th>\n",
              "      <th>VLF</th>\n",
              "      <th>VLF_PCT</th>\n",
              "      <th>LF</th>\n",
              "      <th>LF_PCT</th>\n",
              "      <th>LF_NU</th>\n",
              "      <th>HF</th>\n",
              "      <th>HF_PCT</th>\n",
              "      <th>HF_NU</th>\n",
              "      <th>TP</th>\n",
              "      <th>LF_HF</th>\n",
              "      <th>HF_LF</th>\n",
              "      <th>SD1</th>\n",
              "      <th>SD2</th>\n",
              "      <th>sampen</th>\n",
              "      <th>higuci</th>\n",
              "      <th>condition</th>\n",
              "      <th>MEAN_RR</th>\n",
              "      <th>MEDIAN_RR</th>\n",
              "      <th>SDRR</th>\n",
              "      <th>RMSSD</th>\n",
              "      <th>SDSD</th>\n",
              "      <th>SDRR_RMSSD</th>\n",
              "      <th>pNN25</th>\n",
              "      <th>pNN50</th>\n",
              "      <th>KURT</th>\n",
              "      <th>SKEW</th>\n",
              "      <th>MEAN_REL_RR</th>\n",
              "      <th>MEDIAN_REL_RR</th>\n",
              "      <th>SDRR_REL_RR</th>\n",
              "      <th>RMSSD_REL_RR</th>\n",
              "      <th>SDSD_REL_RR</th>\n",
              "      <th>SDRR_RMSSD_REL_RR</th>\n",
              "      <th>KURT_REL_RR</th>\n",
              "      <th>SKEW_REL_RR</th>\n",
              "    </tr>\n",
              "  </thead>\n",
              "  <tbody>\n",
              "    <tr>\n",
              "      <th>0</th>\n",
              "      <td>62b75db5-bc40-4c8f-9166-daf0efcab4c2</td>\n",
              "      <td>1868.532278</td>\n",
              "      <td>76.511189</td>\n",
              "      <td>570.643114</td>\n",
              "      <td>23.366245</td>\n",
              "      <td>99.478197</td>\n",
              "      <td>2.993254</td>\n",
              "      <td>0.122565</td>\n",
              "      <td>0.521803</td>\n",
              "      <td>2442.168645</td>\n",
              "      <td>190.643094</td>\n",
              "      <td>0.005245</td>\n",
              "      <td>8.347898</td>\n",
              "      <td>115.862444</td>\n",
              "      <td>2.209659</td>\n",
              "      <td>1.100715</td>\n",
              "      <td>2</td>\n",
              "      <td>934.665288</td>\n",
              "      <td>939.03173</td>\n",
              "      <td>82.139495</td>\n",
              "      <td>11.801781</td>\n",
              "      <td>11.801772</td>\n",
              "      <td>6.959924</td>\n",
              "      <td>3.933333</td>\n",
              "      <td>0.133333</td>\n",
              "      <td>-0.680262</td>\n",
              "      <td>-0.233075</td>\n",
              "      <td>0.000016</td>\n",
              "      <td>0.000288</td>\n",
              "      <td>0.012933</td>\n",
              "      <td>0.004578</td>\n",
              "      <td>0.004578</td>\n",
              "      <td>2.825038</td>\n",
              "      <td>-0.680262</td>\n",
              "      <td>-0.233075</td>\n",
              "    </tr>\n",
              "    <tr>\n",
              "      <th>1</th>\n",
              "      <td>a99549ad-3eb6-4413-bc90-9053e7f7e684</td>\n",
              "      <td>568.742845</td>\n",
              "      <td>26.301350</td>\n",
              "      <td>1553.971621</td>\n",
              "      <td>71.862973</td>\n",
              "      <td>97.509212</td>\n",
              "      <td>39.694850</td>\n",
              "      <td>1.835677</td>\n",
              "      <td>2.490788</td>\n",
              "      <td>2162.409316</td>\n",
              "      <td>39.147940</td>\n",
              "      <td>0.025544</td>\n",
              "      <td>14.542096</td>\n",
              "      <td>77.118903</td>\n",
              "      <td>2.186132</td>\n",
              "      <td>1.290615</td>\n",
              "      <td>1</td>\n",
              "      <td>817.062380</td>\n",
              "      <td>816.33879</td>\n",
              "      <td>55.492332</td>\n",
              "      <td>20.558810</td>\n",
              "      <td>20.558768</td>\n",
              "      <td>2.699200</td>\n",
              "      <td>24.600000</td>\n",
              "      <td>0.533333</td>\n",
              "      <td>-0.034454</td>\n",
              "      <td>-0.051689</td>\n",
              "      <td>0.000040</td>\n",
              "      <td>-0.002749</td>\n",
              "      <td>0.025148</td>\n",
              "      <td>0.013921</td>\n",
              "      <td>0.013921</td>\n",
              "      <td>1.806517</td>\n",
              "      <td>-0.034454</td>\n",
              "      <td>-0.051689</td>\n",
              "    </tr>\n",
              "    <tr>\n",
              "      <th>2</th>\n",
              "      <td>cb573d3a-c767-4556-b32e-ad8c08ded214</td>\n",
              "      <td>2101.871207</td>\n",
              "      <td>75.836461</td>\n",
              "      <td>655.175895</td>\n",
              "      <td>23.639042</td>\n",
              "      <td>97.829386</td>\n",
              "      <td>14.536877</td>\n",
              "      <td>0.524497</td>\n",
              "      <td>2.170614</td>\n",
              "      <td>2771.583978</td>\n",
              "      <td>45.069921</td>\n",
              "      <td>0.022188</td>\n",
              "      <td>9.799336</td>\n",
              "      <td>125.044377</td>\n",
              "      <td>2.051571</td>\n",
              "      <td>1.226663</td>\n",
              "      <td>1</td>\n",
              "      <td>876.762022</td>\n",
              "      <td>894.19889</td>\n",
              "      <td>88.690820</td>\n",
              "      <td>13.853737</td>\n",
              "      <td>13.853730</td>\n",
              "      <td>6.401942</td>\n",
              "      <td>7.066667</td>\n",
              "      <td>0.533333</td>\n",
              "      <td>-0.206953</td>\n",
              "      <td>-0.589940</td>\n",
              "      <td>0.000010</td>\n",
              "      <td>-0.000172</td>\n",
              "      <td>0.015533</td>\n",
              "      <td>0.008149</td>\n",
              "      <td>0.008149</td>\n",
              "      <td>1.906180</td>\n",
              "      <td>-0.206953</td>\n",
              "      <td>-0.589940</td>\n",
              "    </tr>\n",
              "    <tr>\n",
              "      <th>3</th>\n",
              "      <td>47a0c6de-2aef-4ac3-997d-252fa6fd07f1</td>\n",
              "      <td>5757.544433</td>\n",
              "      <td>90.562305</td>\n",
              "      <td>592.913021</td>\n",
              "      <td>9.326123</td>\n",
              "      <td>98.817806</td>\n",
              "      <td>7.093235</td>\n",
              "      <td>0.111572</td>\n",
              "      <td>1.182194</td>\n",
              "      <td>6357.550689</td>\n",
              "      <td>83.588517</td>\n",
              "      <td>0.011963</td>\n",
              "      <td>11.639185</td>\n",
              "      <td>302.029812</td>\n",
              "      <td>2.080910</td>\n",
              "      <td>1.085143</td>\n",
              "      <td>2</td>\n",
              "      <td>1038.640693</td>\n",
              "      <td>998.91429</td>\n",
              "      <td>213.725850</td>\n",
              "      <td>16.457194</td>\n",
              "      <td>16.454801</td>\n",
              "      <td>12.986774</td>\n",
              "      <td>10.800000</td>\n",
              "      <td>1.866667</td>\n",
              "      <td>-0.820407</td>\n",
              "      <td>0.487198</td>\n",
              "      <td>-0.000238</td>\n",
              "      <td>-0.000464</td>\n",
              "      <td>0.016882</td>\n",
              "      <td>0.007587</td>\n",
              "      <td>0.007587</td>\n",
              "      <td>2.225116</td>\n",
              "      <td>-0.820407</td>\n",
              "      <td>0.487198</td>\n",
              "    </tr>\n",
              "    <tr>\n",
              "      <th>4</th>\n",
              "      <td>de3fd54f-c74e-4fe8-bf2a-7a127f68b312</td>\n",
              "      <td>964.696325</td>\n",
              "      <td>70.256575</td>\n",
              "      <td>374.939530</td>\n",
              "      <td>27.305968</td>\n",
              "      <td>91.805057</td>\n",
              "      <td>33.468834</td>\n",
              "      <td>2.437457</td>\n",
              "      <td>8.194943</td>\n",
              "      <td>1373.104689</td>\n",
              "      <td>11.202647</td>\n",
              "      <td>0.089265</td>\n",
              "      <td>7.266567</td>\n",
              "      <td>72.579248</td>\n",
              "      <td>2.068728</td>\n",
              "      <td>1.252547</td>\n",
              "      <td>0</td>\n",
              "      <td>774.548508</td>\n",
              "      <td>778.90508</td>\n",
              "      <td>51.577855</td>\n",
              "      <td>10.273114</td>\n",
              "      <td>10.273049</td>\n",
              "      <td>5.020664</td>\n",
              "      <td>2.000000</td>\n",
              "      <td>0.066667</td>\n",
              "      <td>1.738453</td>\n",
              "      <td>-0.005082</td>\n",
              "      <td>0.000054</td>\n",
              "      <td>-0.000006</td>\n",
              "      <td>0.013479</td>\n",
              "      <td>0.007811</td>\n",
              "      <td>0.007811</td>\n",
              "      <td>1.725606</td>\n",
              "      <td>1.738453</td>\n",
              "      <td>-0.005082</td>\n",
              "    </tr>\n",
              "  </tbody>\n",
              "</table>\n",
              "</div>"
            ],
            "text/plain": [
              "                                   uuid          VLF    VLF_PCT           LF  \\\n",
              "0  62b75db5-bc40-4c8f-9166-daf0efcab4c2  1868.532278  76.511189   570.643114   \n",
              "1  a99549ad-3eb6-4413-bc90-9053e7f7e684   568.742845  26.301350  1553.971621   \n",
              "2  cb573d3a-c767-4556-b32e-ad8c08ded214  2101.871207  75.836461   655.175895   \n",
              "3  47a0c6de-2aef-4ac3-997d-252fa6fd07f1  5757.544433  90.562305   592.913021   \n",
              "4  de3fd54f-c74e-4fe8-bf2a-7a127f68b312   964.696325  70.256575   374.939530   \n",
              "\n",
              "      LF_PCT      LF_NU         HF    HF_PCT     HF_NU           TP  \\\n",
              "0  23.366245  99.478197   2.993254  0.122565  0.521803  2442.168645   \n",
              "1  71.862973  97.509212  39.694850  1.835677  2.490788  2162.409316   \n",
              "2  23.639042  97.829386  14.536877  0.524497  2.170614  2771.583978   \n",
              "3   9.326123  98.817806   7.093235  0.111572  1.182194  6357.550689   \n",
              "4  27.305968  91.805057  33.468834  2.437457  8.194943  1373.104689   \n",
              "\n",
              "        LF_HF     HF_LF        SD1         SD2    sampen    higuci  condition  \\\n",
              "0  190.643094  0.005245   8.347898  115.862444  2.209659  1.100715          2   \n",
              "1   39.147940  0.025544  14.542096   77.118903  2.186132  1.290615          1   \n",
              "2   45.069921  0.022188   9.799336  125.044377  2.051571  1.226663          1   \n",
              "3   83.588517  0.011963  11.639185  302.029812  2.080910  1.085143          2   \n",
              "4   11.202647  0.089265   7.266567   72.579248  2.068728  1.252547          0   \n",
              "\n",
              "       MEAN_RR  MEDIAN_RR        SDRR      RMSSD       SDSD  SDRR_RMSSD  \\\n",
              "0   934.665288  939.03173   82.139495  11.801781  11.801772    6.959924   \n",
              "1   817.062380  816.33879   55.492332  20.558810  20.558768    2.699200   \n",
              "2   876.762022  894.19889   88.690820  13.853737  13.853730    6.401942   \n",
              "3  1038.640693  998.91429  213.725850  16.457194  16.454801   12.986774   \n",
              "4   774.548508  778.90508   51.577855  10.273114  10.273049    5.020664   \n",
              "\n",
              "       pNN25     pNN50      KURT      SKEW  MEAN_REL_RR  MEDIAN_REL_RR  \\\n",
              "0   3.933333  0.133333 -0.680262 -0.233075     0.000016       0.000288   \n",
              "1  24.600000  0.533333 -0.034454 -0.051689     0.000040      -0.002749   \n",
              "2   7.066667  0.533333 -0.206953 -0.589940     0.000010      -0.000172   \n",
              "3  10.800000  1.866667 -0.820407  0.487198    -0.000238      -0.000464   \n",
              "4   2.000000  0.066667  1.738453 -0.005082     0.000054      -0.000006   \n",
              "\n",
              "   SDRR_REL_RR  RMSSD_REL_RR  SDSD_REL_RR  SDRR_RMSSD_REL_RR  KURT_REL_RR  \\\n",
              "0     0.012933      0.004578     0.004578           2.825038    -0.680262   \n",
              "1     0.025148      0.013921     0.013921           1.806517    -0.034454   \n",
              "2     0.015533      0.008149     0.008149           1.906180    -0.206953   \n",
              "3     0.016882      0.007587     0.007587           2.225116    -0.820407   \n",
              "4     0.013479      0.007811     0.007811           1.725606     1.738453   \n",
              "\n",
              "   SKEW_REL_RR  \n",
              "0    -0.233075  \n",
              "1    -0.051689  \n",
              "2    -0.589940  \n",
              "3     0.487198  \n",
              "4    -0.005082  "
            ]
          },
          "metadata": {
            "tags": []
          },
          "execution_count": 132
        }
      ]
    },
    {
      "cell_type": "code",
      "metadata": {
        "colab": {
          "base_uri": "https://localhost:8080/"
        },
        "id": "TclhY_KW1tOJ",
        "outputId": "aaaccab7-1da8-4a6f-8417-bb27482dfdb0"
      },
      "source": [
        "X.shape"
      ],
      "execution_count": null,
      "outputs": [
        {
          "output_type": "execute_result",
          "data": {
            "text/plain": [
              "(369289, 34)"
            ]
          },
          "metadata": {
            "tags": []
          },
          "execution_count": 133
        }
      ]
    },
    {
      "cell_type": "code",
      "metadata": {
        "colab": {
          "base_uri": "https://localhost:8080/"
        },
        "id": "jWFTMMy91SrW",
        "outputId": "2f96e8a9-78a7-475e-e664-b1605565f9bd"
      },
      "source": [
        "test_df1 = test_df.drop(columns = ['uuid']) \n",
        "test_df1.shape"
      ],
      "execution_count": null,
      "outputs": [
        {
          "output_type": "execute_result",
          "data": {
            "text/plain": [
              "(41033, 34)"
            ]
          },
          "metadata": {
            "tags": []
          },
          "execution_count": 134
        }
      ]
    },
    {
      "cell_type": "code",
      "metadata": {
        "colab": {
          "base_uri": "https://localhost:8080/"
        },
        "id": "r0uaC5dPFIoh",
        "outputId": "84fc1ebf-8944-4c40-f053-6ef440d71534"
      },
      "source": [
        "scaler.transform(test_df1)"
      ],
      "execution_count": null,
      "outputs": [
        {
          "output_type": "execute_result",
          "data": {
            "text/plain": [
              "array([[-0.18198278,  0.73142631, -0.66035951, ...,  2.20518453,\n",
              "        -0.77574576, -0.40380369],\n",
              "       [-0.91707059, -2.27452197,  1.06995266, ..., -0.53790863,\n",
              "        -0.34749496, -0.13607227],\n",
              "       [-0.0500194 ,  0.69103187, -0.51161156, ..., -0.26949358,\n",
              "        -0.46188305, -0.9305511 ],\n",
              "       ...,\n",
              "       [-0.24217366, -1.0140307 ,  1.76887323, ...,  0.18597382,\n",
              "         0.32064231, -1.0654015 ],\n",
              "       [-1.05904484, -0.40937474, -1.28670251, ..., -1.12548882,\n",
              "         1.84984212, -2.35229677],\n",
              "       [-0.27388175,  0.34063525, -0.46412916, ..., -1.16749436,\n",
              "         0.27809199,  0.66680288]])"
            ]
          },
          "metadata": {
            "tags": []
          },
          "execution_count": 135
        }
      ]
    },
    {
      "cell_type": "code",
      "metadata": {
        "id": "3lIKJQ2Q1Jn8"
      },
      "source": [
        "y_predict_data = xg_reg.predict(test_df1)"
      ],
      "execution_count": null,
      "outputs": []
    },
    {
      "cell_type": "code",
      "metadata": {
        "colab": {
          "base_uri": "https://localhost:8080/"
        },
        "id": "1MK2RFmu35Ak",
        "outputId": "d9af02a8-3679-4215-93b9-83683c3bb9bc"
      },
      "source": [
        "y_predict_data.shape"
      ],
      "execution_count": null,
      "outputs": [
        {
          "output_type": "execute_result",
          "data": {
            "text/plain": [
              "(41033,)"
            ]
          },
          "metadata": {
            "tags": []
          },
          "execution_count": 138
        }
      ]
    },
    {
      "cell_type": "code",
      "metadata": {
        "id": "0GA7N4DQ5G0h"
      },
      "source": [
        "y_predict = pd.DataFrame(y_predict_data, columns=['HR'])"
      ],
      "execution_count": null,
      "outputs": []
    },
    {
      "cell_type": "code",
      "metadata": {
        "colab": {
          "base_uri": "https://localhost:8080/"
        },
        "id": "yi5nIpqS5k35",
        "outputId": "513da81f-c374-4d43-82d5-b6ddaebe289c"
      },
      "source": [
        "y_predict.shape"
      ],
      "execution_count": null,
      "outputs": [
        {
          "output_type": "execute_result",
          "data": {
            "text/plain": [
              "(41033, 1)"
            ]
          },
          "metadata": {
            "tags": []
          },
          "execution_count": 140
        }
      ]
    },
    {
      "cell_type": "code",
      "metadata": {
        "colab": {
          "base_uri": "https://localhost:8080/",
          "height": 204
        },
        "id": "jv3EDaDm5plp",
        "outputId": "e461e101-46ee-4123-a6ba-fe24f605cdd1"
      },
      "source": [
        "y_predict.head()"
      ],
      "execution_count": null,
      "outputs": [
        {
          "output_type": "execute_result",
          "data": {
            "text/html": [
              "<div>\n",
              "<style scoped>\n",
              "    .dataframe tbody tr th:only-of-type {\n",
              "        vertical-align: middle;\n",
              "    }\n",
              "\n",
              "    .dataframe tbody tr th {\n",
              "        vertical-align: top;\n",
              "    }\n",
              "\n",
              "    .dataframe thead th {\n",
              "        text-align: right;\n",
              "    }\n",
              "</style>\n",
              "<table border=\"1\" class=\"dataframe\">\n",
              "  <thead>\n",
              "    <tr style=\"text-align: right;\">\n",
              "      <th></th>\n",
              "      <th>HR</th>\n",
              "    </tr>\n",
              "  </thead>\n",
              "  <tbody>\n",
              "    <tr>\n",
              "      <th>0</th>\n",
              "      <td>64.920242</td>\n",
              "    </tr>\n",
              "    <tr>\n",
              "      <th>1</th>\n",
              "      <td>73.776749</td>\n",
              "    </tr>\n",
              "    <tr>\n",
              "      <th>2</th>\n",
              "      <td>68.960846</td>\n",
              "    </tr>\n",
              "    <tr>\n",
              "      <th>3</th>\n",
              "      <td>61.210533</td>\n",
              "    </tr>\n",
              "    <tr>\n",
              "      <th>4</th>\n",
              "      <td>77.641937</td>\n",
              "    </tr>\n",
              "  </tbody>\n",
              "</table>\n",
              "</div>"
            ],
            "text/plain": [
              "          HR\n",
              "0  64.920242\n",
              "1  73.776749\n",
              "2  68.960846\n",
              "3  61.210533\n",
              "4  77.641937"
            ]
          },
          "metadata": {
            "tags": []
          },
          "execution_count": 141
        }
      ]
    },
    {
      "cell_type": "code",
      "metadata": {
        "id": "hXB7vqH240xn"
      },
      "source": [
        "result = pd.concat([test_df, y_predict], axis=1, sort=False)"
      ],
      "execution_count": null,
      "outputs": []
    },
    {
      "cell_type": "code",
      "metadata": {
        "colab": {
          "base_uri": "https://localhost:8080/",
          "height": 479
        },
        "id": "xpeRrWgA5v4k",
        "outputId": "09c656bc-eb00-400c-f13f-094a40373460"
      },
      "source": [
        "result.head()"
      ],
      "execution_count": null,
      "outputs": [
        {
          "output_type": "execute_result",
          "data": {
            "text/html": [
              "<div>\n",
              "<style scoped>\n",
              "    .dataframe tbody tr th:only-of-type {\n",
              "        vertical-align: middle;\n",
              "    }\n",
              "\n",
              "    .dataframe tbody tr th {\n",
              "        vertical-align: top;\n",
              "    }\n",
              "\n",
              "    .dataframe thead th {\n",
              "        text-align: right;\n",
              "    }\n",
              "</style>\n",
              "<table border=\"1\" class=\"dataframe\">\n",
              "  <thead>\n",
              "    <tr style=\"text-align: right;\">\n",
              "      <th></th>\n",
              "      <th>uuid</th>\n",
              "      <th>VLF</th>\n",
              "      <th>VLF_PCT</th>\n",
              "      <th>LF</th>\n",
              "      <th>LF_PCT</th>\n",
              "      <th>LF_NU</th>\n",
              "      <th>HF</th>\n",
              "      <th>HF_PCT</th>\n",
              "      <th>HF_NU</th>\n",
              "      <th>TP</th>\n",
              "      <th>LF_HF</th>\n",
              "      <th>HF_LF</th>\n",
              "      <th>SD1</th>\n",
              "      <th>SD2</th>\n",
              "      <th>sampen</th>\n",
              "      <th>higuci</th>\n",
              "      <th>condition</th>\n",
              "      <th>MEAN_RR</th>\n",
              "      <th>MEDIAN_RR</th>\n",
              "      <th>SDRR</th>\n",
              "      <th>RMSSD</th>\n",
              "      <th>SDSD</th>\n",
              "      <th>SDRR_RMSSD</th>\n",
              "      <th>pNN25</th>\n",
              "      <th>pNN50</th>\n",
              "      <th>KURT</th>\n",
              "      <th>SKEW</th>\n",
              "      <th>MEAN_REL_RR</th>\n",
              "      <th>MEDIAN_REL_RR</th>\n",
              "      <th>SDRR_REL_RR</th>\n",
              "      <th>RMSSD_REL_RR</th>\n",
              "      <th>SDSD_REL_RR</th>\n",
              "      <th>SDRR_RMSSD_REL_RR</th>\n",
              "      <th>KURT_REL_RR</th>\n",
              "      <th>SKEW_REL_RR</th>\n",
              "      <th>HR</th>\n",
              "    </tr>\n",
              "  </thead>\n",
              "  <tbody>\n",
              "    <tr>\n",
              "      <th>0</th>\n",
              "      <td>62b75db5-bc40-4c8f-9166-daf0efcab4c2</td>\n",
              "      <td>1868.532278</td>\n",
              "      <td>76.511189</td>\n",
              "      <td>570.643114</td>\n",
              "      <td>23.366245</td>\n",
              "      <td>99.478197</td>\n",
              "      <td>2.993254</td>\n",
              "      <td>0.122565</td>\n",
              "      <td>0.521803</td>\n",
              "      <td>2442.168645</td>\n",
              "      <td>190.643094</td>\n",
              "      <td>0.005245</td>\n",
              "      <td>8.347898</td>\n",
              "      <td>115.862444</td>\n",
              "      <td>2.209659</td>\n",
              "      <td>1.100715</td>\n",
              "      <td>2</td>\n",
              "      <td>934.665288</td>\n",
              "      <td>939.03173</td>\n",
              "      <td>82.139495</td>\n",
              "      <td>11.801781</td>\n",
              "      <td>11.801772</td>\n",
              "      <td>6.959924</td>\n",
              "      <td>3.933333</td>\n",
              "      <td>0.133333</td>\n",
              "      <td>-0.680262</td>\n",
              "      <td>-0.233075</td>\n",
              "      <td>0.000016</td>\n",
              "      <td>0.000288</td>\n",
              "      <td>0.012933</td>\n",
              "      <td>0.004578</td>\n",
              "      <td>0.004578</td>\n",
              "      <td>2.825038</td>\n",
              "      <td>-0.680262</td>\n",
              "      <td>-0.233075</td>\n",
              "      <td>64.920242</td>\n",
              "    </tr>\n",
              "    <tr>\n",
              "      <th>1</th>\n",
              "      <td>a99549ad-3eb6-4413-bc90-9053e7f7e684</td>\n",
              "      <td>568.742845</td>\n",
              "      <td>26.301350</td>\n",
              "      <td>1553.971621</td>\n",
              "      <td>71.862973</td>\n",
              "      <td>97.509212</td>\n",
              "      <td>39.694850</td>\n",
              "      <td>1.835677</td>\n",
              "      <td>2.490788</td>\n",
              "      <td>2162.409316</td>\n",
              "      <td>39.147940</td>\n",
              "      <td>0.025544</td>\n",
              "      <td>14.542096</td>\n",
              "      <td>77.118903</td>\n",
              "      <td>2.186132</td>\n",
              "      <td>1.290615</td>\n",
              "      <td>1</td>\n",
              "      <td>817.062380</td>\n",
              "      <td>816.33879</td>\n",
              "      <td>55.492332</td>\n",
              "      <td>20.558810</td>\n",
              "      <td>20.558768</td>\n",
              "      <td>2.699200</td>\n",
              "      <td>24.600000</td>\n",
              "      <td>0.533333</td>\n",
              "      <td>-0.034454</td>\n",
              "      <td>-0.051689</td>\n",
              "      <td>0.000040</td>\n",
              "      <td>-0.002749</td>\n",
              "      <td>0.025148</td>\n",
              "      <td>0.013921</td>\n",
              "      <td>0.013921</td>\n",
              "      <td>1.806517</td>\n",
              "      <td>-0.034454</td>\n",
              "      <td>-0.051689</td>\n",
              "      <td>73.776749</td>\n",
              "    </tr>\n",
              "    <tr>\n",
              "      <th>2</th>\n",
              "      <td>cb573d3a-c767-4556-b32e-ad8c08ded214</td>\n",
              "      <td>2101.871207</td>\n",
              "      <td>75.836461</td>\n",
              "      <td>655.175895</td>\n",
              "      <td>23.639042</td>\n",
              "      <td>97.829386</td>\n",
              "      <td>14.536877</td>\n",
              "      <td>0.524497</td>\n",
              "      <td>2.170614</td>\n",
              "      <td>2771.583978</td>\n",
              "      <td>45.069921</td>\n",
              "      <td>0.022188</td>\n",
              "      <td>9.799336</td>\n",
              "      <td>125.044377</td>\n",
              "      <td>2.051571</td>\n",
              "      <td>1.226663</td>\n",
              "      <td>1</td>\n",
              "      <td>876.762022</td>\n",
              "      <td>894.19889</td>\n",
              "      <td>88.690820</td>\n",
              "      <td>13.853737</td>\n",
              "      <td>13.853730</td>\n",
              "      <td>6.401942</td>\n",
              "      <td>7.066667</td>\n",
              "      <td>0.533333</td>\n",
              "      <td>-0.206953</td>\n",
              "      <td>-0.589940</td>\n",
              "      <td>0.000010</td>\n",
              "      <td>-0.000172</td>\n",
              "      <td>0.015533</td>\n",
              "      <td>0.008149</td>\n",
              "      <td>0.008149</td>\n",
              "      <td>1.906180</td>\n",
              "      <td>-0.206953</td>\n",
              "      <td>-0.589940</td>\n",
              "      <td>68.960846</td>\n",
              "    </tr>\n",
              "    <tr>\n",
              "      <th>3</th>\n",
              "      <td>47a0c6de-2aef-4ac3-997d-252fa6fd07f1</td>\n",
              "      <td>5757.544433</td>\n",
              "      <td>90.562305</td>\n",
              "      <td>592.913021</td>\n",
              "      <td>9.326123</td>\n",
              "      <td>98.817806</td>\n",
              "      <td>7.093235</td>\n",
              "      <td>0.111572</td>\n",
              "      <td>1.182194</td>\n",
              "      <td>6357.550689</td>\n",
              "      <td>83.588517</td>\n",
              "      <td>0.011963</td>\n",
              "      <td>11.639185</td>\n",
              "      <td>302.029812</td>\n",
              "      <td>2.080910</td>\n",
              "      <td>1.085143</td>\n",
              "      <td>2</td>\n",
              "      <td>1038.640693</td>\n",
              "      <td>998.91429</td>\n",
              "      <td>213.725850</td>\n",
              "      <td>16.457194</td>\n",
              "      <td>16.454801</td>\n",
              "      <td>12.986774</td>\n",
              "      <td>10.800000</td>\n",
              "      <td>1.866667</td>\n",
              "      <td>-0.820407</td>\n",
              "      <td>0.487198</td>\n",
              "      <td>-0.000238</td>\n",
              "      <td>-0.000464</td>\n",
              "      <td>0.016882</td>\n",
              "      <td>0.007587</td>\n",
              "      <td>0.007587</td>\n",
              "      <td>2.225116</td>\n",
              "      <td>-0.820407</td>\n",
              "      <td>0.487198</td>\n",
              "      <td>61.210533</td>\n",
              "    </tr>\n",
              "    <tr>\n",
              "      <th>4</th>\n",
              "      <td>de3fd54f-c74e-4fe8-bf2a-7a127f68b312</td>\n",
              "      <td>964.696325</td>\n",
              "      <td>70.256575</td>\n",
              "      <td>374.939530</td>\n",
              "      <td>27.305968</td>\n",
              "      <td>91.805057</td>\n",
              "      <td>33.468834</td>\n",
              "      <td>2.437457</td>\n",
              "      <td>8.194943</td>\n",
              "      <td>1373.104689</td>\n",
              "      <td>11.202647</td>\n",
              "      <td>0.089265</td>\n",
              "      <td>7.266567</td>\n",
              "      <td>72.579248</td>\n",
              "      <td>2.068728</td>\n",
              "      <td>1.252547</td>\n",
              "      <td>0</td>\n",
              "      <td>774.548508</td>\n",
              "      <td>778.90508</td>\n",
              "      <td>51.577855</td>\n",
              "      <td>10.273114</td>\n",
              "      <td>10.273049</td>\n",
              "      <td>5.020664</td>\n",
              "      <td>2.000000</td>\n",
              "      <td>0.066667</td>\n",
              "      <td>1.738453</td>\n",
              "      <td>-0.005082</td>\n",
              "      <td>0.000054</td>\n",
              "      <td>-0.000006</td>\n",
              "      <td>0.013479</td>\n",
              "      <td>0.007811</td>\n",
              "      <td>0.007811</td>\n",
              "      <td>1.725606</td>\n",
              "      <td>1.738453</td>\n",
              "      <td>-0.005082</td>\n",
              "      <td>77.641937</td>\n",
              "    </tr>\n",
              "  </tbody>\n",
              "</table>\n",
              "</div>"
            ],
            "text/plain": [
              "                                   uuid          VLF    VLF_PCT           LF  \\\n",
              "0  62b75db5-bc40-4c8f-9166-daf0efcab4c2  1868.532278  76.511189   570.643114   \n",
              "1  a99549ad-3eb6-4413-bc90-9053e7f7e684   568.742845  26.301350  1553.971621   \n",
              "2  cb573d3a-c767-4556-b32e-ad8c08ded214  2101.871207  75.836461   655.175895   \n",
              "3  47a0c6de-2aef-4ac3-997d-252fa6fd07f1  5757.544433  90.562305   592.913021   \n",
              "4  de3fd54f-c74e-4fe8-bf2a-7a127f68b312   964.696325  70.256575   374.939530   \n",
              "\n",
              "      LF_PCT      LF_NU         HF    HF_PCT     HF_NU           TP  \\\n",
              "0  23.366245  99.478197   2.993254  0.122565  0.521803  2442.168645   \n",
              "1  71.862973  97.509212  39.694850  1.835677  2.490788  2162.409316   \n",
              "2  23.639042  97.829386  14.536877  0.524497  2.170614  2771.583978   \n",
              "3   9.326123  98.817806   7.093235  0.111572  1.182194  6357.550689   \n",
              "4  27.305968  91.805057  33.468834  2.437457  8.194943  1373.104689   \n",
              "\n",
              "        LF_HF     HF_LF        SD1         SD2    sampen    higuci  condition  \\\n",
              "0  190.643094  0.005245   8.347898  115.862444  2.209659  1.100715          2   \n",
              "1   39.147940  0.025544  14.542096   77.118903  2.186132  1.290615          1   \n",
              "2   45.069921  0.022188   9.799336  125.044377  2.051571  1.226663          1   \n",
              "3   83.588517  0.011963  11.639185  302.029812  2.080910  1.085143          2   \n",
              "4   11.202647  0.089265   7.266567   72.579248  2.068728  1.252547          0   \n",
              "\n",
              "       MEAN_RR  MEDIAN_RR        SDRR      RMSSD       SDSD  SDRR_RMSSD  \\\n",
              "0   934.665288  939.03173   82.139495  11.801781  11.801772    6.959924   \n",
              "1   817.062380  816.33879   55.492332  20.558810  20.558768    2.699200   \n",
              "2   876.762022  894.19889   88.690820  13.853737  13.853730    6.401942   \n",
              "3  1038.640693  998.91429  213.725850  16.457194  16.454801   12.986774   \n",
              "4   774.548508  778.90508   51.577855  10.273114  10.273049    5.020664   \n",
              "\n",
              "       pNN25     pNN50      KURT      SKEW  MEAN_REL_RR  MEDIAN_REL_RR  \\\n",
              "0   3.933333  0.133333 -0.680262 -0.233075     0.000016       0.000288   \n",
              "1  24.600000  0.533333 -0.034454 -0.051689     0.000040      -0.002749   \n",
              "2   7.066667  0.533333 -0.206953 -0.589940     0.000010      -0.000172   \n",
              "3  10.800000  1.866667 -0.820407  0.487198    -0.000238      -0.000464   \n",
              "4   2.000000  0.066667  1.738453 -0.005082     0.000054      -0.000006   \n",
              "\n",
              "   SDRR_REL_RR  RMSSD_REL_RR  SDSD_REL_RR  SDRR_RMSSD_REL_RR  KURT_REL_RR  \\\n",
              "0     0.012933      0.004578     0.004578           2.825038    -0.680262   \n",
              "1     0.025148      0.013921     0.013921           1.806517    -0.034454   \n",
              "2     0.015533      0.008149     0.008149           1.906180    -0.206953   \n",
              "3     0.016882      0.007587     0.007587           2.225116    -0.820407   \n",
              "4     0.013479      0.007811     0.007811           1.725606     1.738453   \n",
              "\n",
              "   SKEW_REL_RR         HR  \n",
              "0    -0.233075  64.920242  \n",
              "1    -0.051689  73.776749  \n",
              "2    -0.589940  68.960846  \n",
              "3     0.487198  61.210533  \n",
              "4    -0.005082  77.641937  "
            ]
          },
          "metadata": {
            "tags": []
          },
          "execution_count": 143
        }
      ]
    },
    {
      "cell_type": "code",
      "metadata": {
        "id": "ar8LX3xe6OqN"
      },
      "source": [
        "result.to_excel(r'/content/drive/My Drive/AIML/Hackathon/result1.xlsx', index = False)"
      ],
      "execution_count": null,
      "outputs": []
    },
    {
      "cell_type": "code",
      "metadata": {
        "id": "yYfJodhkGYW1"
      },
      "source": [
        "result.to_csv(r'/content/drive/My Drive/AIML/Hackathon/result1.csv', index = False)"
      ],
      "execution_count": null,
      "outputs": []
    }
  ]
}